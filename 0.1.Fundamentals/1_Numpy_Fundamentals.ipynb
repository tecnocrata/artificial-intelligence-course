{
  "nbformat": 4,
  "nbformat_minor": 0,
  "metadata": {
    "colab": {
      "name": "1_Numpy_Fundamentals",
      "provenance": [],
      "authorship_tag": "ABX9TyM0s7l3HsA34TlzsKl8Gvq/",
      "include_colab_link": true
    },
    "kernelspec": {
      "name": "python3",
      "display_name": "Python 3"
    }
  },
  "cells": [
    {
      "cell_type": "markdown",
      "metadata": {
        "id": "view-in-github",
        "colab_type": "text"
      },
      "source": [
        "<a href=\"https://colab.research.google.com/github/tecnocrata/artificial-intelligence-course/blob/master/0.1.Fundamentals/1_Numpy_Fundamentals.ipynb\" target=\"_parent\"><img src=\"https://colab.research.google.com/assets/colab-badge.svg\" alt=\"Open In Colab\"/></a>"
      ]
    },
    {
      "cell_type": "code",
      "metadata": {
        "id": "xwzHmESWlZWM",
        "colab_type": "code",
        "colab": {}
      },
      "source": [
        "import numpy as np"
      ],
      "execution_count": null,
      "outputs": []
    },
    {
      "cell_type": "code",
      "metadata": {
        "id": "fa8wTZIDlxRf",
        "colab_type": "code",
        "colab": {
          "base_uri": "https://localhost:8080/",
          "height": 34
        },
        "outputId": "8eb653ea-603c-453c-d56c-a6b50be186cc"
      },
      "source": [
        "np.array ([10,20,24,5,15,50])\n",
        "a = np.array ([10,4,40,100,6,2,9,5,6])\n",
        "a"
      ],
      "execution_count": null,
      "outputs": [
        {
          "output_type": "execute_result",
          "data": {
            "text/plain": [
              "array([ 10,   4,  40, 100,   6,   2,   9,   5,   6])"
            ]
          },
          "metadata": {
            "tags": []
          },
          "execution_count": 45
        }
      ]
    },
    {
      "cell_type": "markdown",
      "metadata": {
        "id": "cYW7pi1lnhBL",
        "colab_type": "text"
      },
      "source": [
        "# Accediendo y recuperando elementos"
      ]
    },
    {
      "cell_type": "code",
      "metadata": {
        "id": "7ra7ALnbnMQb",
        "colab_type": "code",
        "colab": {
          "base_uri": "https://localhost:8080/",
          "height": 34
        },
        "outputId": "67cabdb3-4656-4050-c209-30664bbb4723"
      },
      "source": [
        "# Acceder al elemento en la posicion 3 (indice basado en cero)\n",
        "a[2]"
      ],
      "execution_count": null,
      "outputs": [
        {
          "output_type": "execute_result",
          "data": {
            "text/plain": [
              "40"
            ]
          },
          "metadata": {
            "tags": []
          },
          "execution_count": 46
        }
      ]
    },
    {
      "cell_type": "code",
      "metadata": {
        "id": "EBNpjXI8mC2l",
        "colab_type": "code",
        "colab": {
          "base_uri": "https://localhost:8080/",
          "height": 34
        },
        "outputId": "a74cbf15-4bf7-4c98-c446-b82225684b37"
      },
      "source": [
        "# Crear un array desde la posicion 3 en adelante\n",
        "a[3:]\n"
      ],
      "execution_count": null,
      "outputs": [
        {
          "output_type": "execute_result",
          "data": {
            "text/plain": [
              "array([100,   6,   2,   9,   5,   6])"
            ]
          },
          "metadata": {
            "tags": []
          },
          "execution_count": 47
        }
      ]
    },
    {
      "cell_type": "code",
      "metadata": {
        "id": "wiyCfWJmmJ8a",
        "colab_type": "code",
        "colab": {
          "base_uri": "https://localhost:8080/",
          "height": 34
        },
        "outputId": "744a8188-7a20-4a0a-a0b4-ffa65c527b69"
      },
      "source": [
        "# Crear un array desde la posicion 3 hasta la 7\n",
        "a[3:7]"
      ],
      "execution_count": null,
      "outputs": [
        {
          "output_type": "execute_result",
          "data": {
            "text/plain": [
              "array([100,   6,   2,   9])"
            ]
          },
          "metadata": {
            "tags": []
          },
          "execution_count": 48
        }
      ]
    },
    {
      "cell_type": "code",
      "metadata": {
        "id": "GFMLWtyGmmqo",
        "colab_type": "code",
        "colab": {
          "base_uri": "https://localhost:8080/",
          "height": 34
        },
        "outputId": "c5f2d9cc-9bd1-45dc-c656-41cdf7cac0ed"
      },
      "source": [
        "# Desde la posicion 1 toma elementos de 3 en 3 hasta el final\n",
        "a[1::3]"
      ],
      "execution_count": null,
      "outputs": [
        {
          "output_type": "execute_result",
          "data": {
            "text/plain": [
              "array([4, 6, 5])"
            ]
          },
          "metadata": {
            "tags": []
          },
          "execution_count": 49
        }
      ]
    },
    {
      "cell_type": "markdown",
      "metadata": {
        "id": "mzNyJmLoncUs",
        "colab_type": "text"
      },
      "source": [
        "# Creando arreglos de manera dinamica"
      ]
    },
    {
      "cell_type": "code",
      "metadata": {
        "id": "irtz80RMnaHW",
        "colab_type": "code",
        "colab": {
          "base_uri": "https://localhost:8080/",
          "height": 34
        },
        "outputId": "0cb6bed4-d0bd-4b15-8fdd-67b2e4127bba"
      },
      "source": [
        "# Crear un array de 5 elementos de 0s\n",
        "ceros = np.zeros (5)\n",
        "ceros"
      ],
      "execution_count": null,
      "outputs": [
        {
          "output_type": "execute_result",
          "data": {
            "text/plain": [
              "array([0., 0., 0., 0., 0.])"
            ]
          },
          "metadata": {
            "tags": []
          },
          "execution_count": 50
        }
      ]
    },
    {
      "cell_type": "code",
      "metadata": {
        "id": "PaUcm0kunCbI",
        "colab_type": "code",
        "colab": {
          "base_uri": "https://localhost:8080/",
          "height": 85
        },
        "outputId": "67f9e42f-8f6a-4a08-91d8-abebfd019b86"
      },
      "source": [
        "# Crear una matriz de 1s de 4x5\n",
        "np.ones ((4,5))"
      ],
      "execution_count": null,
      "outputs": [
        {
          "output_type": "execute_result",
          "data": {
            "text/plain": [
              "array([[1., 1., 1., 1., 1.],\n",
              "       [1., 1., 1., 1., 1.],\n",
              "       [1., 1., 1., 1., 1.],\n",
              "       [1., 1., 1., 1., 1.]])"
            ]
          },
          "metadata": {
            "tags": []
          },
          "execution_count": 51
        }
      ]
    },
    {
      "cell_type": "code",
      "metadata": {
        "id": "EFSr8n5bn3_t",
        "colab_type": "code",
        "colab": {
          "base_uri": "https://localhost:8080/",
          "height": 34
        },
        "outputId": "10076547-05c8-4fd2-853c-fb7a3ac2eaf2"
      },
      "source": [
        "# Conociendo el tipo del arreglo\n",
        "type (ceros)"
      ],
      "execution_count": null,
      "outputs": [
        {
          "output_type": "execute_result",
          "data": {
            "text/plain": [
              "numpy.ndarray"
            ]
          },
          "metadata": {
            "tags": []
          },
          "execution_count": 52
        }
      ]
    },
    {
      "cell_type": "code",
      "metadata": {
        "id": "3IVfLWiooHlm",
        "colab_type": "code",
        "colab": {
          "base_uri": "https://localhost:8080/",
          "height": 34
        },
        "outputId": "512f712e-e48c-4fc0-f182-72d7cb217678"
      },
      "source": [
        "# Conociendo el tipo de un elemento del arreglo\n",
        "type (ceros[3])"
      ],
      "execution_count": null,
      "outputs": [
        {
          "output_type": "execute_result",
          "data": {
            "text/plain": [
              "numpy.float64"
            ]
          },
          "metadata": {
            "tags": []
          },
          "execution_count": 53
        }
      ]
    },
    {
      "cell_type": "code",
      "metadata": {
        "id": "HWY6LcyJojTo",
        "colab_type": "code",
        "colab": {
          "base_uri": "https://localhost:8080/",
          "height": 51
        },
        "outputId": "8f291b96-492d-4441-8fda-036f8c1af335"
      },
      "source": [
        "# Crea un arreglo que distribuye los elementos de acuerdo a lo siguiente\n",
        "# Empieza en 3, termina en 10 y debe tener 9 elementos\n",
        "np.linspace (3, 10, 9)"
      ],
      "execution_count": null,
      "outputs": [
        {
          "output_type": "execute_result",
          "data": {
            "text/plain": [
              "array([ 3.   ,  3.875,  4.75 ,  5.625,  6.5  ,  7.375,  8.25 ,  9.125,\n",
              "       10.   ])"
            ]
          },
          "metadata": {
            "tags": []
          },
          "execution_count": 54
        }
      ]
    },
    {
      "cell_type": "code",
      "metadata": {
        "id": "ATN5allCpiTy",
        "colab_type": "code",
        "colab": {
          "base_uri": "https://localhost:8080/",
          "height": 68
        },
        "outputId": "acd4670f-3a62-432f-ba05-f43509439cef"
      },
      "source": [
        "# Inicializando un arreglo de 2 dimensiones\n",
        "b = np.array([['x','y','z'], ['a','b','c']])\n",
        "print (b)\n",
        "print (type(b))"
      ],
      "execution_count": null,
      "outputs": [
        {
          "output_type": "stream",
          "text": [
            "[['x' 'y' 'z']\n",
            " ['a' 'b' 'c']]\n",
            "<class 'numpy.ndarray'>\n"
          ],
          "name": "stdout"
        }
      ]
    },
    {
      "cell_type": "code",
      "metadata": {
        "id": "E1tp7Og3p5BP",
        "colab_type": "code",
        "colab": {
          "base_uri": "https://localhost:8080/",
          "height": 85
        },
        "outputId": "fe8cb7e6-5aca-4ed2-f038-33ec87958a53"
      },
      "source": [
        "# La cantidad de dimensiones\n",
        "print (b.ndim)\n",
        "# El shape del arreglo\n",
        "print (b.shape)\n",
        "b"
      ],
      "execution_count": null,
      "outputs": [
        {
          "output_type": "stream",
          "text": [
            "2\n",
            "(2, 3)\n"
          ],
          "name": "stdout"
        },
        {
          "output_type": "execute_result",
          "data": {
            "text/plain": [
              "array([['x', 'y', 'z'],\n",
              "       ['a', 'b', 'c']], dtype='<U1')"
            ]
          },
          "metadata": {
            "tags": []
          },
          "execution_count": 56
        }
      ]
    },
    {
      "cell_type": "code",
      "metadata": {
        "id": "VUT2pEX4sduW",
        "colab_type": "code",
        "colab": {
          "base_uri": "https://localhost:8080/",
          "height": 51
        },
        "outputId": "27faf230-81dd-4c50-bf2e-2130b7b29651"
      },
      "source": [
        "# Crear un array de 25 elementos, con elementos que van de 0-24\n",
        "np.arange(25)"
      ],
      "execution_count": null,
      "outputs": [
        {
          "output_type": "execute_result",
          "data": {
            "text/plain": [
              "array([ 0,  1,  2,  3,  4,  5,  6,  7,  8,  9, 10, 11, 12, 13, 14, 15, 16,\n",
              "       17, 18, 19, 20, 21, 22, 23, 24])"
            ]
          },
          "metadata": {
            "tags": []
          },
          "execution_count": 57
        }
      ]
    },
    {
      "cell_type": "code",
      "metadata": {
        "id": "We-xwFVvswvg",
        "colab_type": "code",
        "colab": {
          "base_uri": "https://localhost:8080/",
          "height": 51
        },
        "outputId": "6c077326-d12f-44c1-9105-21c5171c20ce"
      },
      "source": [
        "# Crear un array de elementos de 5-30, no dice cuantos elementos explicitamente, pero son 30-5 = 25 elementos\n",
        "np.arange(5,30)"
      ],
      "execution_count": null,
      "outputs": [
        {
          "output_type": "execute_result",
          "data": {
            "text/plain": [
              "array([ 5,  6,  7,  8,  9, 10, 11, 12, 13, 14, 15, 16, 17, 18, 19, 20, 21,\n",
              "       22, 23, 24, 25, 26, 27, 28, 29])"
            ]
          },
          "metadata": {
            "tags": []
          },
          "execution_count": 58
        }
      ]
    },
    {
      "cell_type": "code",
      "metadata": {
        "id": "pUHhP7lOtJ5X",
        "colab_type": "code",
        "colab": {
          "base_uri": "https://localhost:8080/",
          "height": 34
        },
        "outputId": "d24b7545-319f-4313-87bf-b19e98f9bbfa"
      },
      "source": [
        "# Crear un array de elementos de 5-50, de 3 en 3, (sin incluir el 50)\n",
        "np.arange(5,50, 3)"
      ],
      "execution_count": null,
      "outputs": [
        {
          "output_type": "execute_result",
          "data": {
            "text/plain": [
              "array([ 5,  8, 11, 14, 17, 20, 23, 26, 29, 32, 35, 38, 41, 44, 47])"
            ]
          },
          "metadata": {
            "tags": []
          },
          "execution_count": 59
        }
      ]
    },
    {
      "cell_type": "code",
      "metadata": {
        "id": "UDz8wAVothaq",
        "colab_type": "code",
        "colab": {
          "base_uri": "https://localhost:8080/",
          "height": 68
        },
        "outputId": "97475cbb-c2a4-41a9-8fc4-182297a9c76d"
      },
      "source": [
        "# Crear un arreglo de 3x5 lleno de 100s\n",
        "np.full ((3,5), 100)"
      ],
      "execution_count": null,
      "outputs": [
        {
          "output_type": "execute_result",
          "data": {
            "text/plain": [
              "array([[100, 100, 100, 100, 100],\n",
              "       [100, 100, 100, 100, 100],\n",
              "       [100, 100, 100, 100, 100]])"
            ]
          },
          "metadata": {
            "tags": []
          },
          "execution_count": 60
        }
      ]
    },
    {
      "cell_type": "code",
      "metadata": {
        "id": "-5XkX818tzJ4",
        "colab_type": "code",
        "colab": {
          "base_uri": "https://localhost:8080/",
          "height": 85
        },
        "outputId": "88366b8c-c044-48cf-b916-1a2da3baa36f"
      },
      "source": [
        "# Crear un arreglo que en su diagonal tenga estos elementos\n",
        "np.diag([1,2,3,4])"
      ],
      "execution_count": null,
      "outputs": [
        {
          "output_type": "execute_result",
          "data": {
            "text/plain": [
              "array([[1, 0, 0, 0],\n",
              "       [0, 2, 0, 0],\n",
              "       [0, 0, 3, 0],\n",
              "       [0, 0, 0, 4]])"
            ]
          },
          "metadata": {
            "tags": []
          },
          "execution_count": 61
        }
      ]
    },
    {
      "cell_type": "markdown",
      "metadata": {
        "id": "9tYua2jjraDr",
        "colab_type": "text"
      },
      "source": [
        "# Operaciones"
      ]
    },
    {
      "cell_type": "code",
      "metadata": {
        "id": "gRMQtWPhrZs6",
        "colab_type": "code",
        "colab": {
          "base_uri": "https://localhost:8080/",
          "height": 34
        },
        "outputId": "1df7e7c8-66a7-41fb-e32c-c7af6616b33c"
      },
      "source": [
        "# Ordenamiento\n",
        "c = [12,4,23, 1]\n",
        "np.sort (c)"
      ],
      "execution_count": null,
      "outputs": [
        {
          "output_type": "execute_result",
          "data": {
            "text/plain": [
              "array([ 1,  4, 12, 23])"
            ]
          },
          "metadata": {
            "tags": []
          },
          "execution_count": 62
        }
      ]
    },
    {
      "cell_type": "code",
      "metadata": {
        "id": "PYTIPHE4p3vr",
        "colab_type": "code",
        "colab": {
          "base_uri": "https://localhost:8080/",
          "height": 51
        },
        "outputId": "c015667f-081d-4c9f-8abc-369236fffe5d"
      },
      "source": [
        "# Un ordenamiento personalizado\n",
        "cabeceras = [('nombre', 'S10'), ('edad', int)]\n",
        "datos = [('Juan', 10), ('Maria', 70), ('Javier', 70), ('Samuel', 15)]\n",
        "usuarios = np.array (datos, dtype=cabeceras)\n",
        "\n",
        "np.sort (usuarios, order = 'edad')"
      ],
      "execution_count": null,
      "outputs": [
        {
          "output_type": "execute_result",
          "data": {
            "text/plain": [
              "array([(b'Juan', 10), (b'Samuel', 15), (b'Javier', 70), (b'Maria', 70)],\n",
              "      dtype=[('nombre', 'S10'), ('edad', '<i8')])"
            ]
          },
          "metadata": {
            "tags": []
          },
          "execution_count": 63
        }
      ]
    },
    {
      "cell_type": "markdown",
      "metadata": {
        "id": "eGMJrucPuiBn",
        "colab_type": "text"
      },
      "source": [
        "# Tarea\n",
        "Crear un arreglo de 3 dimensiones (nombre, edad, pais) y que se pueda ordernar por cualquiera de ellos"
      ]
    },
    {
      "cell_type": "code",
      "metadata": {
        "id": "S_kuS7RduunN",
        "colab_type": "code",
        "colab": {
          "base_uri": "https://localhost:8080/",
          "height": 68
        },
        "outputId": "0dd711bf-3ff1-441f-90d6-3c4d89545808"
      },
      "source": [
        "cabeceras = [('nombre', 'S10'), ('edad', int), ('pais','S20')]\n",
        "datos = [('Juan', 10,'MX'), ('Maria', 70,'CO'), ('Javier', 50, 'PE'), ('Samuel', 15, 'BO')]\n",
        "usuarios = np.array (datos, dtype=cabeceras)\n",
        "\n",
        "np.sort (usuarios, order = 'pais')"
      ],
      "execution_count": null,
      "outputs": [
        {
          "output_type": "execute_result",
          "data": {
            "text/plain": [
              "array([(b'Samuel', 15, b'BO'), (b'Maria', 70, b'CO'),\n",
              "       (b'Juan', 10, b'MX'), (b'Javier', 50, b'PE')],\n",
              "      dtype=[('nombre', 'S10'), ('edad', '<i8'), ('pais', 'S20')])"
            ]
          },
          "metadata": {
            "tags": []
          },
          "execution_count": 64
        }
      ]
    }
  ]
}