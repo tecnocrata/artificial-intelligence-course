{
  "nbformat": 4,
  "nbformat_minor": 0,
  "metadata": {
    "colab": {
      "name": "3_Scikit-Learn-01.ipynb",
      "provenance": [],
      "authorship_tag": "ABX9TyPP9PKiT0Cy4RDNIYI43SlG",
      "include_colab_link": true
    },
    "kernelspec": {
      "name": "python3",
      "display_name": "Python 3"
    }
  },
  "cells": [
    {
      "cell_type": "markdown",
      "metadata": {
        "id": "view-in-github",
        "colab_type": "text"
      },
      "source": [
        "<a href=\"https://colab.research.google.com/github/tecnocrata/artificial-intelligence-course/blob/master/0.1.Fundamentals/3_Scikit_Learn_01.ipynb\" target=\"_parent\"><img src=\"https://colab.research.google.com/assets/colab-badge.svg\" alt=\"Open In Colab\"/></a>"
      ]
    },
    {
      "cell_type": "markdown",
      "metadata": {
        "id": "L0RpwfO7hWTp",
        "colab_type": "text"
      },
      "source": [
        "# Scikit-Learn\n",
        "Biblioteca de codigo abierto para aprendizaje automatico\n",
        "Incluye algoritmos: Arboles de desicion, regresion, maquina de soporte vectorial entre otros."
      ]
    },
    {
      "cell_type": "markdown",
      "metadata": {
        "id": "AnRK1ZkTh_wJ",
        "colab_type": "text"
      },
      "source": [
        "### Porque se usa tanto?\n",
        "- Muchos algoritmos integrados\n",
        "- Simple de usar\n",
        "- Versatilidad\n",
        "\n",
        "Ejemplo de simplicidad, al importar un arbol de decision\n",
        "```\n",
        "from sklearn import tree\n",
        "```"
      ]
    },
    {
      "cell_type": "markdown",
      "metadata": {
        "id": "jdo2MDD1vGYf",
        "colab_type": "text"
      },
      "source": [
        "### Uso generico\n",
        "\n",
        "##### Importar biblioteca:\n",
        "```\n",
        "from sklearn import [modulo]\n",
        "```\n",
        "\n",
        "##### División del conjunto de datos para entrenamiento y pruebas:\n",
        "```\n",
        "X_train, X_test, y_train, y_test = train_test_split(X, y, test_size = 0.25, random_state = 0)\n",
        "```\n",
        "\n",
        "##### Entrenar modelo:\n",
        "```\n",
        "[modelo].fit(X_train, y_train)\n",
        "```\n",
        "\n",
        "##### Predicción del modelo:\n",
        "```\n",
        "Y_pred = [modelo].predict(X_test)\n",
        "```\n",
        "\n",
        "##### Matriz de confusión:\n",
        "```\n",
        "metrics.confusion_matrix(y_test, y_pred)\n",
        "```\n",
        "\n",
        "##### Calcular la exactitud:\n",
        "```\n",
        "metrics.accuracy_score(y_test, y_pred)\n",
        "```"
      ]
    },
    {
      "cell_type": "markdown",
      "metadata": {
        "id": "T-sXlf8J4fe0",
        "colab_type": "text"
      },
      "source": [
        "https://www.youtube.com/watch?v=7-6X3DTt3R8"
      ]
    },
    {
      "cell_type": "code",
      "metadata": {
        "id": "lJXC3xkUhR7D",
        "colab_type": "code",
        "colab": {}
      },
      "source": [
        "# Sobre-ajuste: El modelo es obligado a entender un conjunto limitado de datos (overfiting)\n",
        "# Para resolver este problema se tiene que variar los datos de entrenamiento\n",
        "\n",
        "# Sub-Ajuste: El conjunto de datos de entrenamiento es pequenio y el modelo fallara en dar una respuesta correcta (underfiting)\n",
        "# Resolver, en 75% de los datos para enntrenamiento y el 25% para testeo"
      ],
      "execution_count": null,
      "outputs": []
    },
    {
      "cell_type": "markdown",
      "metadata": {
        "id": "okvmbHHI4izR",
        "colab_type": "text"
      },
      "source": [
        "# Regresion Lineal Simple\n",
        "Cuando existen aprox 2 datos: Anios de Exp -> Salario"
      ]
    },
    {
      "cell_type": "markdown",
      "metadata": {
        "id": "hXkm9Xtp5xk2",
        "colab_type": "text"
      },
      "source": [
        "# Regresion Lineal Multiple\n",
        "Cuando tenemos mas de 2 variables (Anios_Exp, Pais, Lenguaje) -> Salario\n",
        "Son variables cuantitativas, enteros flotantes\n"
      ]
    },
    {
      "cell_type": "code",
      "metadata": {
        "id": "O5z6sbU81Wbq",
        "colab_type": "code",
        "colab": {}
      },
      "source": [
        ""
      ],
      "execution_count": null,
      "outputs": []
    }
  ]
}