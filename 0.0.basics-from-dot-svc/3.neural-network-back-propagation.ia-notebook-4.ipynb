{
  "nbformat": 4,
  "nbformat_minor": 0,
  "metadata": {
    "colab": {
      "name": "Neural Network - Back Propagation.ipynb",
      "provenance": [],
      "collapsed_sections": []
    },
    "kernelspec": {
      "name": "python3",
      "display_name": "Python 3"
    }
  },
  "cells": [
    {
      "cell_type": "code",
      "metadata": {
        "id": "84Ahuz6rM7JU",
        "colab_type": "code",
        "colab": {}
      },
      "source": [
        "import numpy as np\n",
        "import scipy as sc\n",
        "import matplotlib.pyplot as plt\n",
        "\n",
        "#Esto es para crar un dataset con una distribucion circular\n",
        "from sklearn.datasets import make_circles"
      ],
      "execution_count": 0,
      "outputs": []
    },
    {
      "cell_type": "code",
      "metadata": {
        "id": "hw2TIMfdOXBj",
        "colab_type": "code",
        "outputId": "c5b253bd-dc21-4ad0-f06c-b9100a671e40",
        "colab": {
          "base_uri": "https://localhost:8080/",
          "height": 299
        }
      },
      "source": [
        "#n es el numero de registros en nuestros datos\n",
        "n=500\n",
        "#p la cantidad de propiedades/caracteristicas de cada uno de los registros \n",
        "p=2\n",
        "\n",
        "#Crear el dataset\n",
        "# Donde X es el array que contiene las dos propiedades\n",
        "# Donde Y es el array que contiene el resultado de aplicar la funcion, \n",
        "# Y es 0 si pertenece a un circulo o 1 si pertenece al otro\n",
        "\n",
        "#Factor es la distancia entre ambos circulos\n",
        "#Noise es para modificar la uniformidad, modificando este valor los valores no son uniformes, pruebalo\n",
        "X, Y = make_circles (n_samples=n, factor=0.5, noise=0.04)\n",
        "\n",
        "#Corrigiendo Y, porque la funcion devuelve una serie de numeros y no un array, que es lo que queremos\n",
        "Y = Y[:, np.newaxis]\n",
        "\n",
        "print (len(X))\n",
        "print (len(Y))\n",
        "# Plotear solo los puntos que pertenecen al circulo 0\n",
        "plt.scatter(X[Y[:,0]==0,0],X[Y[:,0]==0,1], c=\"skyblue\")\n",
        "\n",
        "# Plotear solo los puntos que pertenecen al circulo 1\n",
        "plt.scatter(X[Y[:,0]==1,0],X[Y[:,0]==1,1], c=\"salmon\")\n",
        "\n",
        "plt.show()"
      ],
      "execution_count": 0,
      "outputs": [
        {
          "output_type": "stream",
          "text": [
            "500\n",
            "500\n"
          ],
          "name": "stdout"
        },
        {
          "output_type": "display_data",
          "data": {
            "image/png": "[encoded data removed]",
            "text/plain": [
              "<Figure size 432x288 with 1 Axes>"
            ]
          },
          "metadata": {
            "tags": [],
            "needs_background": "light"
          }
        }
      ]
    },
    {
      "cell_type": "markdown",
      "metadata": {
        "id": "ErgtPdOYcPZR",
        "colab_type": "text"
      },
      "source": [
        "El objetivo es que la red neuronal, separe en dos (clases) toda esta nube de puntos"
      ]
    },
    {
      "cell_type": "code",
      "metadata": {
        "id": "X7y50oZ6cMv5",
        "colab_type": "code",
        "colab": {}
      },
      "source": [
        "#Una forma de pensar es ver cada capa es un modulo\n",
        "#Dentro de una misma capa se realizaran las mismas operaciones\n",
        "#El MODULO PRINCIPAL en una RN es es \"la capa\"\n",
        "\n",
        "class NeuralLayer ():\n",
        "  def __init__(self, connections, neurons, activationFunction, deriv_activationFunction):\n",
        "    self.activationFunction = activationFunction\n",
        "    self.deriv_activationFunction = deriv_activationFunction\n",
        "    # bias = sesgo, es un array, del tamano de la cantidad de neuronas\n",
        "    # de valores entre -1 y 1 (normalizado), por eso multiplicamos el valor * 2 y le quitamos 1\n",
        "    self.bias = np.random.rand(1, neurons) * 2 -1\n",
        "\n",
        "    #Este es el la matriz de pesos, de  connections x neurons\n",
        "    self.w =  np.random.rand(connections, neurons) * 2 -1\n"
      ],
      "execution_count": 0,
      "outputs": []
    },
    {
      "cell_type": "code",
      "metadata": {
        "id": "Oz-uKnQxfm1m",
        "colab_type": "code",
        "outputId": "4ddcdba2-232d-40b1-fddb-3f931e03f81e",
        "colab": {
          "base_uri": "https://localhost:8080/",
          "height": 282
        }
      },
      "source": [
        "# Estas son las diferentes funciones de activacion que usaremos\n",
        "sigm =  lambda x: 1/ (1 + np.e ** (-x))\n",
        "# generamos un vector de 100 elementos de valores entre -5 y 5\n",
        "_x = np.linspace (-5,5, 100)\n",
        "#generamos la grafica\n",
        "plt.plot(_x,sigm(_x), 'r')"
      ],
      "execution_count": 0,
      "outputs": [
        {
          "output_type": "execute_result",
          "data": {
            "text/plain": [
              "[<matplotlib.lines.Line2D at 0x7f0ec3dd0b70>]"
            ]
          },
          "metadata": {
            "tags": []
          },
          "execution_count": 48
        },
        {
          "output_type": "display_data",
          "data": {
            "image/png": "[encoded data removed]",
            "text/plain": [
              "<Figure size 432x288 with 1 Axes>"
            ]
          },
          "metadata": {
            "tags": [],
            "needs_background": "light"
          }
        }
      ]
    },
    {
      "cell_type": "code",
      "metadata": {
        "id": "UXDCG1fHijaB",
        "colab_type": "code",
        "colab": {}
      },
      "source": [
        ""
      ],
      "execution_count": 0,
      "outputs": []
    },
    {
      "cell_type": "code",
      "metadata": {
        "id": "X6Y0SK2Igtfw",
        "colab_type": "code",
        "outputId": "5eaf2cc8-b6ee-4446-9581-9ab13674dd7e",
        "colab": {
          "base_uri": "https://localhost:8080/",
          "height": 282
        }
      },
      "source": [
        "# Necesitaremos la derivada de la funcion de activacion, para el algoritmo de backpropagation\n",
        "# en este caso dde la funcion sigmoide\n",
        "deriv_sigm = lambda x: x* (1-x)\n",
        "plt.plot(_x,deriv_sigm(_x), 'r')"
      ],
      "execution_count": 0,
      "outputs": [
        {
          "output_type": "execute_result",
          "data": {
            "text/plain": [
              "[<matplotlib.lines.Line2D at 0x7f0ec39cc1d0>]"
            ]
          },
          "metadata": {
            "tags": []
          },
          "execution_count": 49
        },
        {
          "output_type": "display_data",
          "data": {
            "image/png": "[encoded data removed]",
            "text/plain": [
              "<Figure size 432x288 with 1 Axes>"
            ]
          },
          "metadata": {
            "tags": [],
            "needs_background": "light"
          }
        }
      ]
    },
    {
      "cell_type": "code",
      "metadata": {
        "id": "JHm6qAERhxB6",
        "colab_type": "code",
        "outputId": "735ba86e-2244-4612-f089-27c623a37190",
        "colab": {
          "base_uri": "https://localhost:8080/",
          "height": 282
        }
      },
      "source": [
        "# otra funcion de activacion\n",
        "relu = lambda x: np.maximum (0, x)\n",
        "plt.plot(_x,relu(_x))"
      ],
      "execution_count": 0,
      "outputs": [
        {
          "output_type": "execute_result",
          "data": {
            "text/plain": [
              "[<matplotlib.lines.Line2D at 0x7f0ec3de35c0>]"
            ]
          },
          "metadata": {
            "tags": []
          },
          "execution_count": 50
        },
        {
          "output_type": "display_data",
          "data": {
            "image/png": "[encoded data removed]",
            "text/plain": [
              "<Figure size 432x288 with 1 Axes>"
            ]
          },
          "metadata": {
            "tags": [],
            "needs_background": "light"
          }
        }
      ]
    },
    {
      "cell_type": "code",
      "metadata": {
        "id": "_IZh46Bhii30",
        "colab_type": "code",
        "outputId": "f8b5b75b-4674-4227-e8d4-9f09e65212a6",
        "colab": {
          "base_uri": "https://localhost:8080/",
          "height": 221
        }
      },
      "source": [
        "# layer 0\n",
        "l0 = NeuralLayer (p, 4, sigm, deriv_sigm)\n",
        "# layer 1\n",
        "l1 = NeuralLayer (4, 8, sigm, deriv_sigm)\n",
        "\n",
        "# Definimos una variable que nos permitira modificar la topologia de la RNN de manera dinamica\n",
        "# Contiene la cantidad de neuronas que tendra cada capa\n",
        "# La capa final tiene una sola neurona, porque el resultado que queremos obtener es binario\n",
        "# Es decir 0 = pertenede al primer conjunto de datos o 1 = pertenece al segundo conjunto\n",
        "topology = [p, 4, 8, 16, 8, 4, 1]\n",
        "\n",
        "# Tambien podriamos tener otro vector que diga que funciones de activacion usaremos en cada capa\n",
        "# functions = []\n",
        "# Que learning rate usaremos por cada capa\n",
        "# learning_rate = []\n",
        "# Estos se llaman los hiper-parametros\n",
        "# Por simplicidad mantendremos topology simplemente en base al numero de neuronas por capa\n",
        "# Tambien por simplicidad definimos que todas las capas tendran la misma funcion de activacion, esto puede cambiarse\n",
        "def createNeuralNetwork (topology, activation_function, deriv_activation_function):\n",
        "  nn = []\n",
        "  #esta forma es sin manipular el array\n",
        "  # for i, n_neurons in enumerate(topology):\n",
        "  #   if (i+1 < len(topology)):\n",
        "  #     nn.append (NeuralLayer(connections=n_neurons, neurons=topology[i+1]), activation_function)\n",
        "  for i, n_neurons in enumerate(topology [:-1]): #descartando el ultimo elemento para evitar el if interno\n",
        "    print (n_neurons, topology[i])\n",
        "    nn.append (NeuralLayer(connections=topology[i], neurons=topology[i+1], activationFunction= activation_function, deriv_activationFunction=deriv_activation_function))\n",
        "  return nn\n",
        "\n",
        "createNeuralNetwork (topology, sigm, deriv_sigm)"
      ],
      "execution_count": 0,
      "outputs": [
        {
          "output_type": "stream",
          "text": [
            "2 2\n",
            "4 4\n",
            "8 8\n",
            "16 16\n",
            "8 8\n",
            "4 4\n"
          ],
          "name": "stdout"
        },
        {
          "output_type": "execute_result",
          "data": {
            "text/plain": [
              "[<__main__.NeuralLayer at 0x7f0ec3a348d0>,\n",
              " <__main__.NeuralLayer at 0x7f0ec3a34fd0>,\n",
              " <__main__.NeuralLayer at 0x7f0ec3a34dd8>,\n",
              " <__main__.NeuralLayer at 0x7f0ec3a344a8>,\n",
              " <__main__.NeuralLayer at 0x7f0ec3a347b8>,\n",
              " <__main__.NeuralLayer at 0x7f0ec3a34a58>]"
            ]
          },
          "metadata": {
            "tags": []
          },
          "execution_count": 51
        }
      ]
    },
    {
      "cell_type": "code",
      "metadata": {
        "id": "hMci5rsy9CrA",
        "colab_type": "code",
        "outputId": "19daaf2a-dc55-4b63-910f-1ebdf3a1ab32",
        "colab": {
          "base_uri": "https://localhost:8080/",
          "height": 119
        }
      },
      "source": [
        "#Creando la logica de entrenamiento\n",
        "# Este tiene proceso tiene tres pasos/elementos\n",
        "# 1) Un procesamiento hacia adelante\n",
        "# Mostrarle a la RNN un tipo de entrada y la salida que quiero obtener, \n",
        "# la RNN procesara estos dos elementos por todas sus capas y todas sus neuronas, \n",
        "# ejecutando sumas ponderadas y funciones de activacion y retornara un valor\n",
        "# Al principio cuando la red no esta entrenada, el valor resultante sera aleatorio\n",
        "# Sin embargo con el paso del tiempo/entrenamiento ese valor se ira pareciendo al del vector Y\n",
        "# 2) Una propagacion hacia atras, Una vez que se tiene el resultado anterior, se compara este resultado con el valor esperado\n",
        "# Esta comparacion se la hara usando la funcion de coste, que nos dice como se diferencian ambos resultados (el error)\n",
        "# El resultado de esa comparacion sera un error, que usaremos para hacer una propagacion hacia atras\n",
        "# 3) Aplicar el gradient descent, mediante aplicar el algoritmo del descenso del gradiente\n",
        "# Consiste en calcular la derivada parciales de la funcion de coste\n",
        "# este calculo permitira optimizar la funcion de coste y por ende entrenar la red\n",
        "\n",
        "topology = [p, 4, 8, 8, 16, 1]\n",
        "nn= createNeuralNetwork (topology, sigm, deriv_sigm)\n",
        "\n",
        "# Definiendo la funcion de coste\n",
        "# Donde Ypredicted = es la Y que la RNN predecira o sacara como resultado\n",
        "# Donde Yreal = es la Y real esperada\n",
        "# Esta formula es la del error cuadratico medio\n",
        "# Carlos la llama l2_cost\n",
        "cost= lambda Ypredicted, Yreal: np.mean((Ypredicted-Yreal)**2)\n",
        "deriv_cost = lambda Ypredicted, Yreal: Ypredicted - Yreal\n",
        "\n",
        "# El parametro train=True, le indica al metodo que sera usado para entrenamiento\n",
        "# El parametro train=False, le indica al metodo que sera usado para predecir o dar un resultado unicamente (NO ME AGRADA!)\n",
        "def train(nn, X, Y, cost_function, deriv_cost_function, learning_rate=0.5, train= True):\n",
        "  # (1) Fordward pass\n",
        "  # Este bloque es lo que hariamos sin iteracion\n",
        "  # z = X @ nn[0].w + nn[0].bias\n",
        "  # activation = nn[0].activationFunction (z)\n",
        "\n",
        "  # Esto es requerido porque al principio el previous output es los valores de entrada\n",
        "  previous_output = X\n",
        "  \n",
        "  # Carlos quiere crear un vector out donde\n",
        "  # se guarde los siguientes pares out = [(z0,a0), (z1,a1), ....(zn, an)]\n",
        "  # Este par de resultados se guardara para el algoritmo de back-propagation\n",
        "  out = [(None, X)]\n",
        "\n",
        "  for i, layer in enumerate(nn):\n",
        "    z = previous_output @ nn[i].w + nn[i].bias\n",
        "    # Este es el resultado de la capa i, llamado tambien la activacion\n",
        "    a = nn[i].activationFunction (z)\n",
        "    previous_output = a\n",
        "    out.append ((z,a))\n",
        "  #print (previous_output)\n",
        "\n",
        "  if train:\n",
        "    # (2) Backward pass\n",
        "    deltas = []\n",
        "    # Recorremos la RNN de atras hacia adelante\n",
        "    # Las derivadas se calculan de diferente manera para la ultima capa que para las capas intermedias\n",
        "    # print (\"rango--->\",reversed(range(0, len(nn))))\n",
        "    for i in reversed(range(0, len(nn))):\n",
        "        # i+1 porque quiero acceder a la capa de adelante\n",
        "        z = out [i+1][0]\n",
        "        a = out [i+1][1]\n",
        "        #print (a.shape)\n",
        "        \n",
        "        if (i == len(nn)-1):\n",
        "          # Calcular delta de la ultima capa\n",
        "          # El delta se calcula en funcion al coste\n",
        "          deltas.insert(0, deriv_cost_function(a,Y) * nn[i].deriv_activationFunction(a))\n",
        "        else:\n",
        "          # Calcular el delta de la capa intermedia, en funcion a la capa previa\n",
        "          #print (deltas[0].shape, nn[i+1].w.shape)\n",
        "          # deltas.insert(0, deltas[0] @ nn[i+1].w.T * nn[i].deriv_activationFunction(a))\n",
        "          deltas.insert(0, deltas[0] @ _W.T * nn[i].deriv_activationFunction(a))\n",
        "        _W = nn[i].w\n",
        "        #(3) Gradiente descendiente\n",
        "        nn[i].bias = nn[i].bias - np.mean(deltas[0], axis=0, keepdims=True) * learning_rate\n",
        "        nn[i].w = nn[i].w - out[i][1].T @ deltas[0] * learning_rate\n",
        "    #(3) Gradiente descendiente YO sugiero hacer otro bucle para evitar la confusion\n",
        "    #for i in range(0, len(nn)):\n",
        "\n",
        "  #return previous_output\n",
        "  return out[-1][1]\n",
        "\n",
        "\n",
        "train (nn, X, Y, cost, deriv_cost, 0.05)\n",
        "print (\"\")"
      ],
      "execution_count": 0,
      "outputs": [
        {
          "output_type": "stream",
          "text": [
            "2 2\n",
            "4 4\n",
            "8 8\n",
            "8 8\n",
            "16 16\n",
            "\n"
          ],
          "name": "stdout"
        }
      ]
    },
    {
      "cell_type": "code",
      "metadata": {
        "id": "wLgF1T-nYltF",
        "colab_type": "code",
        "outputId": "5331db30-92ed-4c52-ed2a-7e70100dbe32",
        "colab": {
          "base_uri": "https://localhost:8080/",
          "height": 517
        }
      },
      "source": [
        "import time\n",
        "from IPython.display import clear_output\n",
        "\n",
        "topology = [p, 4, 8, 16, 1]\n",
        "nn= createNeuralNetwork (topology, sigm, deriv_sigm)\n",
        "\n",
        "# Se guardara los costes, para poder graficar como evoluciona\n",
        "loss = []\n",
        "for i in range(2500):\n",
        "  Ypredicted = train (nn, X, Y, cost, deriv_cost, learning_rate= 0.01)\n",
        "  if i%25==0:\n",
        "    loss.append(cost(Ypredicted, Y))\n",
        "    \n",
        "    #cantidad de puntos, resolucion\n",
        "    res = 50\n",
        "    _x0=np.linspace(-1.5, 1.5, num=res)\n",
        "    _x1=np.linspace(-1.5, 1.5, num=res)\n",
        "\n",
        "    _Y = np.zeros((res,res))\n",
        "\n",
        "    for i0, x0 in enumerate(_x0):\n",
        "      for i1, x1 in enumerate(_x1):\n",
        "        _Y[i0, i1] = train (nn, np.array([[x0, x1]]), Y, cost, deriv_cost, 0.05, train=False)[0][0]\n",
        "\n",
        "    plt.pcolormesh(_x0, _x1, _Y, cmap=\"coolwarm\")\n",
        "    plt.axis(\"equal\")\n",
        "\n",
        "    # Plotear solo los puntos que pertenecen al circulo 0\n",
        "    plt.scatter(X[Y[:,0]==0,0],X[Y[:,0]==0,1], c=\"skyblue\")\n",
        "    # Plotear solo los puntos que pertenecen al circulo 1\n",
        "    plt.scatter(X[Y[:,0]==1,0],X[Y[:,0]==1,1], c=\"salmon\")\n",
        "\n",
        "    #Limpiar el contenido para mostrar de forma animada los resultados\n",
        "    clear_output(wait=True)\n",
        "    plt.show()\n",
        "    plt.plot (range(len(loss)), loss)\n",
        "    plt.show()\n",
        "    time.sleep(0.5)\n"
      ],
      "execution_count": 0,
      "outputs": [
        {
          "output_type": "display_data",
          "data": {
            "image/png": "[encoded data removed]",
            "text/plain": [
              "<Figure size 432x288 with 1 Axes>"
            ]
          },
          "metadata": {
            "tags": [],
            "needs_background": "light"
          }
        },
        {
          "output_type": "display_data",
          "data": {
            "image/png": "[encoded data removed]",
            "text/plain": [
              "<Figure size 432x288 with 1 Axes>"
            ]
          },
          "metadata": {
            "tags": [],
            "needs_background": "light"
          }
        }
      ]
    },
    {
      "cell_type": "code",
      "metadata": {
        "id": "1jvaxC0j3CVD",
        "colab_type": "code",
        "colab": {}
      },
      "source": [
        ""
      ],
      "execution_count": 0,
      "outputs": []
    },
    {
      "cell_type": "code",
      "metadata": {
        "id": "l5VYVvmf2pDt",
        "colab_type": "code",
        "colab": {}
      },
      "source": [
        ""
      ],
      "execution_count": 0,
      "outputs": []
    },
    {
      "cell_type": "code",
      "metadata": {
        "id": "JHa_8kRg2Wnw",
        "colab_type": "code",
        "colab": {}
      },
      "source": [
        ""
      ],
      "execution_count": 0,
      "outputs": []
    },
    {
      "cell_type": "code",
      "metadata": {
        "id": "Vefb1zw3xyjx",
        "colab_type": "code",
        "colab": {}
      },
      "source": [
        ""
      ],
      "execution_count": 0,
      "outputs": []
    },
    {
      "cell_type": "code",
      "metadata": {
        "id": "DVllBsCHxrAU",
        "colab_type": "code",
        "colab": {}
      },
      "source": [
        ""
      ],
      "execution_count": 0,
      "outputs": []
    },
    {
      "cell_type": "code",
      "metadata": {
        "id": "d5fUhA1Xxfhs",
        "colab_type": "code",
        "colab": {}
      },
      "source": [
        ""
      ],
      "execution_count": 0,
      "outputs": []
    },
    {
      "cell_type": "code",
      "metadata": {
        "id": "CqttGeapxSse",
        "colab_type": "code",
        "colab": {}
      },
      "source": [
        ""
      ],
      "execution_count": 0,
      "outputs": []
    },
    {
      "cell_type": "code",
      "metadata": {
        "id": "no2ciJVjr-6L",
        "colab_type": "code",
        "colab": {}
      },
      "source": [
        ""
      ],
      "execution_count": 0,
      "outputs": []
    },
    {
      "cell_type": "code",
      "metadata": {
        "id": "Ib06xv-2rUdE",
        "colab_type": "code",
        "colab": {}
      },
      "source": [
        ""
      ],
      "execution_count": 0,
      "outputs": []
    },
    {
      "cell_type": "code",
      "metadata": {
        "id": "QneaUSO8rPn8",
        "colab_type": "code",
        "colab": {}
      },
      "source": [
        ""
      ],
      "execution_count": 0,
      "outputs": []
    },
    {
      "cell_type": "code",
      "metadata": {
        "id": "C34sKyZHrHBe",
        "colab_type": "code",
        "colab": {}
      },
      "source": [
        ""
      ],
      "execution_count": 0,
      "outputs": []
    },
    {
      "cell_type": "code",
      "metadata": {
        "id": "l-LJCg12ziSF",
        "colab_type": "code",
        "colab": {}
      },
      "source": [
        ""
      ],
      "execution_count": 0,
      "outputs": []
    },
    {
      "cell_type": "code",
      "metadata": {
        "id": "Cn9fci0xzKrX",
        "colab_type": "code",
        "colab": {}
      },
      "source": [
        ""
      ],
      "execution_count": 0,
      "outputs": []
    },
    {
      "cell_type": "code",
      "metadata": {
        "id": "9UfM25xuyzzH",
        "colab_type": "code",
        "colab": {}
      },
      "source": [
        ""
      ],
      "execution_count": 0,
      "outputs": []
    },
    {
      "cell_type": "code",
      "metadata": {
        "id": "30FTqsMPyErr",
        "colab_type": "code",
        "colab": {}
      },
      "source": [
        ""
      ],
      "execution_count": 0,
      "outputs": []
    },
    {
      "cell_type": "code",
      "metadata": {
        "id": "xmbdXhwqx-j6",
        "colab_type": "code",
        "colab": {}
      },
      "source": [
        ""
      ],
      "execution_count": 0,
      "outputs": []
    },
    {
      "cell_type": "code",
      "metadata": {
        "id": "zwfpSQMkxZ8v",
        "colab_type": "code",
        "colab": {}
      },
      "source": [
        ""
      ],
      "execution_count": 0,
      "outputs": []
    },
    {
      "cell_type": "code",
      "metadata": {
        "id": "U9XTykTuwaHE",
        "colab_type": "code",
        "colab": {}
      },
      "source": [
        ""
      ],
      "execution_count": 0,
      "outputs": []
    },
    {
      "cell_type": "code",
      "metadata": {
        "id": "CO3FonACu6dE",
        "colab_type": "code",
        "colab": {}
      },
      "source": [
        ""
      ],
      "execution_count": 0,
      "outputs": []
    },
    {
      "cell_type": "code",
      "metadata": {
        "id": "gxq8StZ5umcM",
        "colab_type": "code",
        "colab": {}
      },
      "source": [
        ""
      ],
      "execution_count": 0,
      "outputs": []
    },
    {
      "cell_type": "code",
      "metadata": {
        "id": "7E2ZWSnjuYEv",
        "colab_type": "code",
        "colab": {}
      },
      "source": [
        ""
      ],
      "execution_count": 0,
      "outputs": []
    },
    {
      "cell_type": "code",
      "metadata": {
        "id": "1lU1a4Y7uDwP",
        "colab_type": "code",
        "colab": {}
      },
      "source": [
        ""
      ],
      "execution_count": 0,
      "outputs": []
    },
    {
      "cell_type": "code",
      "metadata": {
        "id": "dyDyV3XwtLcc",
        "colab_type": "code",
        "colab": {}
      },
      "source": [
        ""
      ],
      "execution_count": 0,
      "outputs": []
    },
    {
      "cell_type": "code",
      "metadata": {
        "id": "wFvMsCXLs6xZ",
        "colab_type": "code",
        "colab": {}
      },
      "source": [
        ""
      ],
      "execution_count": 0,
      "outputs": []
    },
    {
      "cell_type": "code",
      "metadata": {
        "id": "xXYMM8DmsXwV",
        "colab_type": "code",
        "colab": {}
      },
      "source": [
        ""
      ],
      "execution_count": 0,
      "outputs": []
    },
    {
      "cell_type": "code",
      "metadata": {
        "id": "ZemKXE_NsUcr",
        "colab_type": "code",
        "colab": {}
      },
      "source": [
        ""
      ],
      "execution_count": 0,
      "outputs": []
    },
    {
      "cell_type": "code",
      "metadata": {
        "id": "v4a0tX8GYUIG",
        "colab_type": "code",
        "colab": {}
      },
      "source": [
        ""
      ],
      "execution_count": 0,
      "outputs": []
    },
    {
      "cell_type": "code",
      "metadata": {
        "id": "rbzoFII2YDJu",
        "colab_type": "code",
        "colab": {}
      },
      "source": [
        ""
      ],
      "execution_count": 0,
      "outputs": []
    },
    {
      "cell_type": "code",
      "metadata": {
        "id": "H_tEmFguXiPv",
        "colab_type": "code",
        "colab": {}
      },
      "source": [
        ""
      ],
      "execution_count": 0,
      "outputs": []
    },
    {
      "cell_type": "code",
      "metadata": {
        "id": "EBLjny1HXCMX",
        "colab_type": "code",
        "colab": {}
      },
      "source": [
        ""
      ],
      "execution_count": 0,
      "outputs": []
    },
    {
      "cell_type": "code",
      "metadata": {
        "id": "e-RHhgBZW-kh",
        "colab_type": "code",
        "colab": {}
      },
      "source": [
        ""
      ],
      "execution_count": 0,
      "outputs": []
    },
    {
      "cell_type": "code",
      "metadata": {
        "id": "wrwWmgZzR7u1",
        "colab_type": "code",
        "colab": {}
      },
      "source": [
        ""
      ],
      "execution_count": 0,
      "outputs": []
    },
    {
      "cell_type": "code",
      "metadata": {
        "id": "e4qIBMSCPbso",
        "colab_type": "code",
        "colab": {}
      },
      "source": [
        ""
      ],
      "execution_count": 0,
      "outputs": []
    },
    {
      "cell_type": "code",
      "metadata": {
        "id": "-8HAnHJgMhCK",
        "colab_type": "code",
        "colab": {}
      },
      "source": [
        ""
      ],
      "execution_count": 0,
      "outputs": []
    },
    {
      "cell_type": "code",
      "metadata": {
        "id": "My49uYLzMFQc",
        "colab_type": "code",
        "colab": {}
      },
      "source": [
        ""
      ],
      "execution_count": 0,
      "outputs": []
    },
    {
      "cell_type": "code",
      "metadata": {
        "id": "sHrzvBkeL_H_",
        "colab_type": "code",
        "colab": {}
      },
      "source": [
        ""
      ],
      "execution_count": 0,
      "outputs": []
    },
    {
      "cell_type": "code",
      "metadata": {
        "id": "e-KXSB_WHxjp",
        "colab_type": "code",
        "colab": {}
      },
      "source": [
        ""
      ],
      "execution_count": 0,
      "outputs": []
    },
    {
      "cell_type": "code",
      "metadata": {
        "id": "-LZJEzw7Hv4z",
        "colab_type": "code",
        "colab": {}
      },
      "source": [
        ""
      ],
      "execution_count": 0,
      "outputs": []
    },
    {
      "cell_type": "code",
      "metadata": {
        "id": "M64BtTkHHNSO",
        "colab_type": "code",
        "colab": {}
      },
      "source": [
        ""
      ],
      "execution_count": 0,
      "outputs": []
    },
    {
      "cell_type": "code",
      "metadata": {
        "id": "21tdPkwZHH3Q",
        "colab_type": "code",
        "colab": {}
      },
      "source": [
        ""
      ],
      "execution_count": 0,
      "outputs": []
    },
    {
      "cell_type": "code",
      "metadata": {
        "id": "ZSH2Iz4FHEHF",
        "colab_type": "code",
        "colab": {}
      },
      "source": [
        ""
      ],
      "execution_count": 0,
      "outputs": []
    },
    {
      "cell_type": "code",
      "metadata": {
        "id": "zsqz4nwPG5kI",
        "colab_type": "code",
        "colab": {}
      },
      "source": [
        ""
      ],
      "execution_count": 0,
      "outputs": []
    },
    {
      "cell_type": "code",
      "metadata": {
        "id": "BQ1GcWiLGs-5",
        "colab_type": "code",
        "colab": {}
      },
      "source": [
        ""
      ],
      "execution_count": 0,
      "outputs": []
    },
    {
      "cell_type": "code",
      "metadata": {
        "id": "yXymND8gGoj7",
        "colab_type": "code",
        "colab": {}
      },
      "source": [
        ""
      ],
      "execution_count": 0,
      "outputs": []
    },
    {
      "cell_type": "code",
      "metadata": {
        "id": "6a4habiBBTdx",
        "colab_type": "code",
        "colab": {}
      },
      "source": [
        ""
      ],
      "execution_count": 0,
      "outputs": []
    },
    {
      "cell_type": "code",
      "metadata": {
        "id": "z-bog3fL80VB",
        "colab_type": "code",
        "colab": {}
      },
      "source": [
        ""
      ],
      "execution_count": 0,
      "outputs": []
    },
    {
      "cell_type": "code",
      "metadata": {
        "id": "qcPhIviEr59s",
        "colab_type": "code",
        "colab": {}
      },
      "source": [
        ""
      ],
      "execution_count": 0,
      "outputs": []
    },
    {
      "cell_type": "code",
      "metadata": {
        "id": "38g949S1rvV1",
        "colab_type": "code",
        "colab": {}
      },
      "source": [
        ""
      ],
      "execution_count": 0,
      "outputs": []
    },
    {
      "cell_type": "code",
      "metadata": {
        "id": "gIZJx-CQpqWq",
        "colab_type": "code",
        "colab": {}
      },
      "source": [
        ""
      ],
      "execution_count": 0,
      "outputs": []
    },
    {
      "cell_type": "code",
      "metadata": {
        "id": "gpHdNxArpfje",
        "colab_type": "code",
        "colab": {}
      },
      "source": [
        ""
      ],
      "execution_count": 0,
      "outputs": []
    },
    {
      "cell_type": "code",
      "metadata": {
        "id": "_iG_jZouigsE",
        "colab_type": "code",
        "colab": {}
      },
      "source": [
        ""
      ],
      "execution_count": 0,
      "outputs": []
    },
    {
      "cell_type": "code",
      "metadata": {
        "id": "M1B-Orwbid9N",
        "colab_type": "code",
        "colab": {}
      },
      "source": [
        ""
      ],
      "execution_count": 0,
      "outputs": []
    },
    {
      "cell_type": "code",
      "metadata": {
        "id": "6AO225YSiast",
        "colab_type": "code",
        "colab": {}
      },
      "source": [
        ""
      ],
      "execution_count": 0,
      "outputs": []
    },
    {
      "cell_type": "code",
      "metadata": {
        "id": "YsyqcIBCiSy0",
        "colab_type": "code",
        "colab": {}
      },
      "source": [
        ""
      ],
      "execution_count": 0,
      "outputs": []
    },
    {
      "cell_type": "code",
      "metadata": {
        "id": "z4oUOTWagrbe",
        "colab_type": "code",
        "colab": {}
      },
      "source": [
        ""
      ],
      "execution_count": 0,
      "outputs": []
    },
    {
      "cell_type": "code",
      "metadata": {
        "id": "OM2B8Ih8TOad",
        "colab_type": "code",
        "colab": {}
      },
      "source": [
        ""
      ],
      "execution_count": 0,
      "outputs": []
    },
    {
      "cell_type": "code",
      "metadata": {
        "id": "yRjQKG7KTKYG",
        "colab_type": "code",
        "colab": {}
      },
      "source": [
        ""
      ],
      "execution_count": 0,
      "outputs": []
    },
    {
      "cell_type": "code",
      "metadata": {
        "id": "k5Lb-DPfTFNP",
        "colab_type": "code",
        "colab": {}
      },
      "source": [
        ""
      ],
      "execution_count": 0,
      "outputs": []
    },
    {
      "cell_type": "code",
      "metadata": {
        "id": "U0bVl3NLSuMG",
        "colab_type": "code",
        "colab": {}
      },
      "source": [
        ""
      ],
      "execution_count": 0,
      "outputs": []
    },
    {
      "cell_type": "code",
      "metadata": {
        "id": "yRO95uSSSsep",
        "colab_type": "code",
        "colab": {}
      },
      "source": [
        ""
      ],
      "execution_count": 0,
      "outputs": []
    },
    {
      "cell_type": "code",
      "metadata": {
        "id": "CQf8SMCBSrKo",
        "colab_type": "code",
        "colab": {}
      },
      "source": [
        ""
      ],
      "execution_count": 0,
      "outputs": []
    },
    {
      "cell_type": "code",
      "metadata": {
        "id": "LvoVCuUpQxdx",
        "colab_type": "code",
        "colab": {}
      },
      "source": [
        ""
      ],
      "execution_count": 0,
      "outputs": []
    },
    {
      "cell_type": "code",
      "metadata": {
        "id": "YAvkn2rbQuMB",
        "colab_type": "code",
        "colab": {}
      },
      "source": [
        ""
      ],
      "execution_count": 0,
      "outputs": []
    },
    {
      "cell_type": "code",
      "metadata": {
        "id": "dHCqCX7mQh-B",
        "colab_type": "code",
        "colab": {}
      },
      "source": [
        ""
      ],
      "execution_count": 0,
      "outputs": []
    },
    {
      "cell_type": "code",
      "metadata": {
        "id": "j08COj1GQSHa",
        "colab_type": "code",
        "colab": {}
      },
      "source": [
        ""
      ],
      "execution_count": 0,
      "outputs": []
    },
    {
      "cell_type": "code",
      "metadata": {
        "id": "ovHrsCFzQPtp",
        "colab_type": "code",
        "colab": {}
      },
      "source": [
        ""
      ],
      "execution_count": 0,
      "outputs": []
    },
    {
      "cell_type": "code",
      "metadata": {
        "id": "SLqBpJnEQLWi",
        "colab_type": "code",
        "colab": {}
      },
      "source": [
        ""
      ],
      "execution_count": 0,
      "outputs": []
    },
    {
      "cell_type": "code",
      "metadata": {
        "id": "IlJiS9t7QFbz",
        "colab_type": "code",
        "colab": {}
      },
      "source": [
        ""
      ],
      "execution_count": 0,
      "outputs": []
    },
    {
      "cell_type": "code",
      "metadata": {
        "id": "xvq7F_gkP_oD",
        "colab_type": "code",
        "colab": {}
      },
      "source": [
        ""
      ],
      "execution_count": 0,
      "outputs": []
    },
    {
      "cell_type": "code",
      "metadata": {
        "id": "rmNmKjJ-P3by",
        "colab_type": "code",
        "colab": {}
      },
      "source": [
        ""
      ],
      "execution_count": 0,
      "outputs": []
    },
    {
      "cell_type": "code",
      "metadata": {
        "id": "GaDOHkINP0o1",
        "colab_type": "code",
        "colab": {}
      },
      "source": [
        ""
      ],
      "execution_count": 0,
      "outputs": []
    },
    {
      "cell_type": "code",
      "metadata": {
        "id": "267m8XfwNTkr",
        "colab_type": "code",
        "colab": {}
      },
      "source": [
        ""
      ],
      "execution_count": 0,
      "outputs": []
    }
  ]
}