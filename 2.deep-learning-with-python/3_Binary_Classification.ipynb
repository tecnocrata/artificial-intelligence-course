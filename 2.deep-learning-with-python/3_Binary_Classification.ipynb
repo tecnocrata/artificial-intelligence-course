{
  "nbformat": 4,
  "nbformat_minor": 0,
  "metadata": {
    "colab": {
      "name": "3.Binary-Classification.ipynb",
      "provenance": [],
      "authorship_tag": "ABX9TyNoBwUwGQadyl/GYTqnHnr3",
      "include_colab_link": true
    },
    "kernelspec": {
      "name": "python3",
      "display_name": "Python 3"
    }
  },
  "cells": [
    {
      "cell_type": "markdown",
      "metadata": {
        "id": "view-in-github",
        "colab_type": "text"
      },
      "source": [
        "<a href=\"https://colab.research.google.com/github/tecnocrata/artificial-intelligence-course/blob/master/2.deep-learning-with-python/3_Binary_Classification.ipynb\" target=\"_parent\"><img src=\"https://colab.research.google.com/assets/colab-badge.svg\" alt=\"Open In Colab\"/></a>"
      ]
    },
    {
      "cell_type": "code",
      "metadata": {
        "id": "y3YZFaQZPtyS",
        "colab_type": "code",
        "colab": {
          "base_uri": "https://localhost:8080/",
          "height": 68
        },
        "outputId": "9cee4007-bccc-4817-e915-e573ea0ff7d8"
      },
      "source": [
        "# From chapter 3 and 3.4.1\n",
        "# Importing IMDB dataset\n",
        "from keras.datasets import imdb\n",
        "# The argument num_words=10000 means you’ll only keep the top 10,000 most frequently occurring words in the training data. Rare words will be discarded.\n",
        "# All IMDB data is 500000, we are spliting 25000 for training and testing\n",
        "(train_data, train_labels), (test_data, test_labels) = imdb.load_data( num_words=10000)"
      ],
      "execution_count": 1,
      "outputs": [
        {
          "output_type": "stream",
          "text": [
            "Using TensorFlow backend.\n"
          ],
          "name": "stderr"
        },
        {
          "output_type": "stream",
          "text": [
            "Downloading data from https://s3.amazonaws.com/text-datasets/imdb.npz\n",
            "17465344/17464789 [==============================] - 1s 0us/step\n"
          ],
          "name": "stdout"
        }
      ]
    },
    {
      "cell_type": "markdown",
      "metadata": {
        "id": "N39O-ayNTJUl",
        "colab_type": "text"
      },
      "source": [
        "# Analyzing the data"
      ]
    },
    {
      "cell_type": "markdown",
      "metadata": {
        "id": "-LZmm1zWIRiP",
        "colab_type": "text"
      },
      "source": [
        "## Why is called binary classification?\n",
        "It is because the output will be 0=negative or 1=positive opinion about the entry"
      ]
    },
    {
      "cell_type": "code",
      "metadata": {
        "id": "O37VTMefQKWD",
        "colab_type": "code",
        "colab": {
          "base_uri": "https://localhost:8080/",
          "height": 54
        },
        "outputId": "b1e4089a-4cd0-4ec3-a5b0-f4418fa68dcf"
      },
      "source": [
        "# What contains train_data && test_data?\n",
        "# the reviews (sequences of words) have been turned into sequences of integers, where each integer stands for a specific word in a dictionary\n",
        "print(train_data[0])"
      ],
      "execution_count": 2,
      "outputs": [
        {
          "output_type": "stream",
          "text": [
            "[1, 14, 22, 16, 43, 530, 973, 1622, 1385, 65, 458, 4468, 66, 3941, 4, 173, 36, 256, 5, 25, 100, 43, 838, 112, 50, 670, 2, 9, 35, 480, 284, 5, 150, 4, 172, 112, 167, 2, 336, 385, 39, 4, 172, 4536, 1111, 17, 546, 38, 13, 447, 4, 192, 50, 16, 6, 147, 2025, 19, 14, 22, 4, 1920, 4613, 469, 4, 22, 71, 87, 12, 16, 43, 530, 38, 76, 15, 13, 1247, 4, 22, 17, 515, 17, 12, 16, 626, 18, 2, 5, 62, 386, 12, 8, 316, 8, 106, 5, 4, 2223, 5244, 16, 480, 66, 3785, 33, 4, 130, 12, 16, 38, 619, 5, 25, 124, 51, 36, 135, 48, 25, 1415, 33, 6, 22, 12, 215, 28, 77, 52, 5, 14, 407, 16, 82, 2, 8, 4, 107, 117, 5952, 15, 256, 4, 2, 7, 3766, 5, 723, 36, 71, 43, 530, 476, 26, 400, 317, 46, 7, 4, 2, 1029, 13, 104, 88, 4, 381, 15, 297, 98, 32, 2071, 56, 26, 141, 6, 194, 7486, 18, 4, 226, 22, 21, 134, 476, 26, 480, 5, 144, 30, 5535, 18, 51, 36, 28, 224, 92, 25, 104, 4, 226, 65, 16, 38, 1334, 88, 12, 16, 283, 5, 16, 4472, 113, 103, 32, 15, 16, 5345, 19, 178, 32]\n"
          ],
          "name": "stdout"
        }
      ]
    },
    {
      "cell_type": "code",
      "metadata": {
        "id": "zIJmDHjfReIO",
        "colab_type": "code",
        "colab": {
          "base_uri": "https://localhost:8080/",
          "height": 34
        },
        "outputId": "c4b275b7-8c34-4195-9fab-44127d27fa4f"
      },
      "source": [
        "# What contains train_labels && test_labels?\n",
        "# are lists of 0s and 1s, where 0 stands for negative and 1 stands for positive:\n",
        "train_labels[4]"
      ],
      "execution_count": 3,
      "outputs": [
        {
          "output_type": "execute_result",
          "data": {
            "text/plain": [
              "0"
            ]
          },
          "metadata": {
            "tags": []
          },
          "execution_count": 3
        }
      ]
    },
    {
      "cell_type": "code",
      "metadata": {
        "id": "iJakxJ7rTIVi",
        "colab_type": "code",
        "colab": {
          "base_uri": "https://localhost:8080/",
          "height": 34
        },
        "outputId": "dfa665ce-42e4-4a12-9d90-a71be146a56b"
      },
      "source": [
        "# Obtenemos el mayor indice de cualquier elemento de entrenamiento\n",
        "# como definimos anteriormente el mayor valor solo deberia ser num_words=10000\n",
        "max([max(s) for s in train_data])\n",
        "# len(train_data[1])"
      ],
      "execution_count": 4,
      "outputs": [
        {
          "output_type": "execute_result",
          "data": {
            "text/plain": [
              "9999"
            ]
          },
          "metadata": {
            "tags": []
          },
          "execution_count": 4
        }
      ]
    },
    {
      "cell_type": "code",
      "metadata": {
        "id": "iI2cjcsqUn79",
        "colab_type": "code",
        "colab": {
          "base_uri": "https://localhost:8080/",
          "height": 239
        },
        "outputId": "d7427ba3-d627-4c6d-e2f9-d9625e585dca"
      },
      "source": [
        "#del dict\n",
        "# TIP: This function decodes one review\n",
        "dict([('sape', 4139), ('guido', 4127), ('jack', 4098)])\n",
        "def decode_review(review):\n",
        "  word_index = imdb.get_word_index()\n",
        "  reverse_word_index = dict([(value, key) for (key, value) in word_index.items()])\n",
        "  # Decodes the review. Note that the indices are offset by 3 because 0, 1, and 2 are reserved indices for “padding,” “start of sequence,” and “unknown.”\n",
        "  decoded_review = ' '.join([reverse_word_index.get(i - 3, '?') for i in review])\n",
        "  return decoded_review\n",
        "\n",
        "decode_review(train_data[0])"
      ],
      "execution_count": 5,
      "outputs": [
        {
          "output_type": "stream",
          "text": [
            "Downloading data from https://s3.amazonaws.com/text-datasets/imdb_word_index.json\n",
            "1646592/1641221 [==============================] - 0s 0us/step\n"
          ],
          "name": "stdout"
        },
        {
          "output_type": "execute_result",
          "data": {
            "application/vnd.google.colaboratory.intrinsic+json": {
              "type": "string"
            },
            "text/plain": [
              "\"? this film was just brilliant casting location scenery story direction everyone's really suited the part they played and you could just imagine being there robert ? is an amazing actor and now the same being director ? father came from the same scottish island as myself so i loved the fact there was a real connection with this film the witty remarks throughout the film were great it was just brilliant so much that i bought the film as soon as it was released for ? and would recommend it to everyone to watch and the fly fishing was amazing really cried at the end it was so sad and you know what they say if you cry at a film it must have been good and this definitely was also ? to the two little boy's that played the ? of norman and paul they were just brilliant children are often left out of the ? list i think because the stars that play them all grown up are such a big profile for the whole film but these children are amazing and should be praised for what they have done don't you think the whole story was so lovely because it was true and was someone's life after all that was shared with us all\""
            ]
          },
          "metadata": {
            "tags": []
          },
          "execution_count": 5
        }
      ]
    },
    {
      "cell_type": "markdown",
      "metadata": {
        "id": "OjgBlBFxmtZe",
        "colab_type": "text"
      },
      "source": [
        "# One-Hot Encoding (input values for training and testing)\n",
        "For example if the input is a tensor with 10000 neurons, and we have this data [3,5], we could enconde into: [0,0,1,0,1,0,0,0,0,0....n(10000)]\n",
        "More info: https://machinelearningmastery.com/why-one-hot-encode-data-in-machine-learning/"
      ]
    },
    {
      "cell_type": "code",
      "metadata": {
        "id": "x4JW3icxYJ1v",
        "colab_type": "code",
        "colab": {
          "base_uri": "https://localhost:8080/",
          "height": 139
        },
        "outputId": "355da017-c906-4790-8baf-a2a5db81e84b"
      },
      "source": [
        "import numpy as np\n",
        "#def vectorize_sequences(sequences, dimension=10000): \n",
        "def onehot_encode(sequences, dimension=10000): \n",
        "  # Creamos una matriz de ceros de cantidad de elementos x 10000\n",
        "  results = np.zeros((len(sequences), dimension)) \n",
        "  for i, sequence in enumerate(sequences):\n",
        "    # ponemos 1 solo en la posicion de ese numero\n",
        "    results[i, sequence] = 1\n",
        "  return results\n",
        "\n",
        "# Prepare data, encoding into 0s and 1s vector\n",
        "x_train = onehot_encode (train_data)\n",
        "x_test = onehot_encode(test_data)\n",
        "\n",
        "# El primer elemento de entreamiento tiene 218 elementos (incluidos los repetidos\n",
        "print (train_data[0])\n",
        "print (len(train_data[0]))\n",
        "# Si analizamos un poco mas y quitamos los duplicados (usando un set), solo hay 120 elementos unicos\n",
        "print (set (train_data[0]))\n",
        "print (len(set (train_data[0])))\n",
        "\n",
        "# luego de encode ese conjunto, debe haber solo 120 'unos', y los hay!\n",
        "print (x_train[0])\n",
        "sum(map(lambda x : x == 1, x_train[0]))"
      ],
      "execution_count": 6,
      "outputs": [
        {
          "output_type": "stream",
          "text": [
            "[1, 14, 22, 16, 43, 530, 973, 1622, 1385, 65, 458, 4468, 66, 3941, 4, 173, 36, 256, 5, 25, 100, 43, 838, 112, 50, 670, 2, 9, 35, 480, 284, 5, 150, 4, 172, 112, 167, 2, 336, 385, 39, 4, 172, 4536, 1111, 17, 546, 38, 13, 447, 4, 192, 50, 16, 6, 147, 2025, 19, 14, 22, 4, 1920, 4613, 469, 4, 22, 71, 87, 12, 16, 43, 530, 38, 76, 15, 13, 1247, 4, 22, 17, 515, 17, 12, 16, 626, 18, 2, 5, 62, 386, 12, 8, 316, 8, 106, 5, 4, 2223, 5244, 16, 480, 66, 3785, 33, 4, 130, 12, 16, 38, 619, 5, 25, 124, 51, 36, 135, 48, 25, 1415, 33, 6, 22, 12, 215, 28, 77, 52, 5, 14, 407, 16, 82, 2, 8, 4, 107, 117, 5952, 15, 256, 4, 2, 7, 3766, 5, 723, 36, 71, 43, 530, 476, 26, 400, 317, 46, 7, 4, 2, 1029, 13, 104, 88, 4, 381, 15, 297, 98, 32, 2071, 56, 26, 141, 6, 194, 7486, 18, 4, 226, 22, 21, 134, 476, 26, 480, 5, 144, 30, 5535, 18, 51, 36, 28, 224, 92, 25, 104, 4, 226, 65, 16, 38, 1334, 88, 12, 16, 283, 5, 16, 4472, 113, 103, 32, 15, 16, 5345, 19, 178, 32]\n",
            "218\n",
            "{1, 2, 515, 4, 5, 6, 4613, 8, 9, 7, 1029, 12, 13, 14, 15, 16, 17, 530, 19, 18, 21, 22, 2071, 25, 26, 28, 30, 32, 33, 546, 35, 36, 38, 39, 43, 46, 48, 50, 51, 52, 56, 62, 65, 66, 71, 76, 77, 82, 1622, 1111, 87, 88, 92, 98, 100, 103, 104, 106, 619, 107, 112, 113, 626, 117, 124, 5244, 130, 134, 135, 141, 144, 147, 150, 670, 167, 172, 173, 2223, 178, 3766, 192, 194, 3785, 723, 215, 1247, 224, 5345, 226, 256, 283, 284, 297, 1334, 316, 317, 7486, 5952, 838, 336, 3941, 1385, 4468, 4472, 381, 1920, 385, 386, 1415, 400, 407, 5535, 4536, 447, 458, 973, 469, 476, 480, 2025}\n",
            "120\n",
            "[0. 1. 1. ... 0. 0. 0.]\n"
          ],
          "name": "stdout"
        },
        {
          "output_type": "execute_result",
          "data": {
            "text/plain": [
              "120"
            ]
          },
          "metadata": {
            "tags": []
          },
          "execution_count": 6
        }
      ]
    },
    {
      "cell_type": "markdown",
      "metadata": {
        "id": "jc1cTVApNjFK",
        "colab_type": "text"
      },
      "source": [
        "# Encode (output values for training and testing)"
      ]
    },
    {
      "cell_type": "code",
      "metadata": {
        "id": "MTaT2oy3qLXc",
        "colab_type": "code",
        "colab": {
          "base_uri": "https://localhost:8080/",
          "height": 85
        },
        "outputId": "705841bf-2fdb-45d2-99fb-8770f4b6ab82"
      },
      "source": [
        "print (train_data.shape)\n",
        "print(train_labels.shape)\n",
        "# Debemos vectorizar las salidas\n",
        "y_train = np.asarray(train_labels).astype('float32')\n",
        "y_test = np.asarray(test_labels).astype('float32')\n",
        "\n",
        "# No estoy todavia seguro cual es la diferencia entre estos dos arrays\n",
        "# pero supongo que keras acepta solo numpy arrays!?\n",
        "print (train_labels)\n",
        "print (y_train)\n"
      ],
      "execution_count": 7,
      "outputs": [
        {
          "output_type": "stream",
          "text": [
            "(25000,)\n",
            "(25000,)\n",
            "[1 0 0 ... 0 1 0]\n",
            "[1. 0. 0. ... 0. 1. 0.]\n"
          ],
          "name": "stdout"
        }
      ]
    },
    {
      "cell_type": "markdown",
      "metadata": {
        "id": "Lvgd_ZMiWNDu",
        "colab_type": "text"
      },
      "source": [
        "# Building the model architecture"
      ]
    },
    {
      "cell_type": "code",
      "metadata": {
        "id": "e1YkfTbvR6yw",
        "colab_type": "code",
        "colab": {}
      },
      "source": [
        "# Where activation='relu': \n",
        "# (rectified linear unit) is a function meant to zero out negative values (Convierte en ceros valores negativos)\n",
        "# Esta funcion o similares introducen no-linealidad en el aprendizaje (transformaciones)\n",
        "# Alternativas:  (prelu, elu, etc...)\n",
        "\n",
        "# Where activation='sigmoid' “squashes” arbitrary values into the [0, 1] interval, la salida puede ser interpretada como una probabilidad, que en este caso se aplica\n",
        "from keras import models\n",
        "from keras import layers\n",
        "model = models.Sequential()\n",
        "model.add(layers.Dense(16, activation='relu', input_shape=(10000,))) \n",
        "model.add(layers.Dense(16, activation='relu')) \n",
        "model.add(layers.Dense(1, activation='sigmoid'))\n",
        "\n"
      ],
      "execution_count": 8,
      "outputs": []
    },
    {
      "cell_type": "code",
      "metadata": {
        "id": "_Gae3ayuTRPu",
        "colab_type": "code",
        "colab": {}
      },
      "source": [
        "# Where loss='binary_crossentropy' Because you’re facing a binary classification problem and the output of your network is a probability\n",
        "# crossentropy is usually the best choice when you’re dealing with models that output probabilities. \n",
        "# Alternativas: mean_squared_error\n",
        "\n",
        "model.compile(optimizer='rmsprop', loss='binary_crossentropy', metrics=['accuracy'])\n",
        "\n",
        "## Sometimes you may want to configure the parameters of your optimizer or pass a custom loss function or metric function.!!!!!\n",
        "# from keras import optimizers\n",
        "# from keras import losses\n",
        "# from keras import metrics\n",
        "# model.compile(optimizer=optimizers.RMSprop(lr=0.001), loss=losses.binary_crossentropy, metrics=[metrics.binary_accuracy])"
      ],
      "execution_count": 9,
      "outputs": []
    },
    {
      "cell_type": "markdown",
      "metadata": {
        "id": "Bida5-78jjJb",
        "colab_type": "text"
      },
      "source": [
        "# Validating the approach\n",
        "In order to monitor during training the accuracy of the model on data it has never seen before, you’ll create a validation set by setting apart 10,000 samples from the original training data."
      ]
    },
    {
      "cell_type": "code",
      "metadata": {
        "id": "8qFSbCLTTPbm",
        "colab_type": "code",
        "colab": {
          "base_uri": "https://localhost:8080/",
          "height": 734
        },
        "outputId": "393fdfe8-0cf9-419e-8f68-447d19105520"
      },
      "source": [
        "x_val = x_train[:10000] \n",
        "partial_x_train = x_train[10000:]\n",
        "y_val = y_train[:10000]\n",
        "partial_y_train = y_train[10000:]\n",
        "\n",
        "# Now, you’ll now train the model for 20 epochs (20 iterations over all samples in the x_train and y_train tensors), in mini-batches of 512 samples.\n",
        "model.compile(optimizer='rmsprop', loss='binary_crossentropy', metrics=['acc'])\n",
        "history = model.fit(partial_x_train, partial_y_train, epochs=20, batch_size=512, validation_data=(x_val, y_val))"
      ],
      "execution_count": 10,
      "outputs": [
        {
          "output_type": "stream",
          "text": [
            "Train on 15000 samples, validate on 10000 samples\n",
            "Epoch 1/20\n",
            "15000/15000 [==============================] - 2s 156us/step - loss: 0.4878 - acc: 0.8069 - val_loss: 0.3640 - val_acc: 0.8758\n",
            "Epoch 2/20\n",
            "15000/15000 [==============================] - 2s 135us/step - loss: 0.2894 - acc: 0.9041 - val_loss: 0.3030 - val_acc: 0.8857\n",
            "Epoch 3/20\n",
            "15000/15000 [==============================] - 2s 136us/step - loss: 0.2144 - acc: 0.9276 - val_loss: 0.2768 - val_acc: 0.8926\n",
            "Epoch 4/20\n",
            "15000/15000 [==============================] - 2s 135us/step - loss: 0.1722 - acc: 0.9438 - val_loss: 0.3091 - val_acc: 0.8748\n",
            "Epoch 5/20\n",
            "15000/15000 [==============================] - 2s 134us/step - loss: 0.1398 - acc: 0.9544 - val_loss: 0.2841 - val_acc: 0.8886\n",
            "Epoch 6/20\n",
            "15000/15000 [==============================] - 2s 134us/step - loss: 0.1130 - acc: 0.9649 - val_loss: 0.3002 - val_acc: 0.8841\n",
            "Epoch 7/20\n",
            "15000/15000 [==============================] - 2s 135us/step - loss: 0.0938 - acc: 0.9709 - val_loss: 0.3364 - val_acc: 0.8757\n",
            "Epoch 8/20\n",
            "15000/15000 [==============================] - 2s 136us/step - loss: 0.0795 - acc: 0.9771 - val_loss: 0.3363 - val_acc: 0.8818\n",
            "Epoch 9/20\n",
            "15000/15000 [==============================] - 2s 137us/step - loss: 0.0620 - acc: 0.9837 - val_loss: 0.3664 - val_acc: 0.8749\n",
            "Epoch 10/20\n",
            "15000/15000 [==============================] - 2s 135us/step - loss: 0.0494 - acc: 0.9887 - val_loss: 0.3961 - val_acc: 0.8771\n",
            "Epoch 11/20\n",
            "15000/15000 [==============================] - 2s 134us/step - loss: 0.0398 - acc: 0.9907 - val_loss: 0.4221 - val_acc: 0.8761\n",
            "Epoch 12/20\n",
            "15000/15000 [==============================] - 2s 134us/step - loss: 0.0324 - acc: 0.9925 - val_loss: 0.4544 - val_acc: 0.8717\n",
            "Epoch 13/20\n",
            "15000/15000 [==============================] - 2s 134us/step - loss: 0.0266 - acc: 0.9953 - val_loss: 0.4852 - val_acc: 0.8725\n",
            "Epoch 14/20\n",
            "15000/15000 [==============================] - 2s 137us/step - loss: 0.0183 - acc: 0.9975 - val_loss: 0.5360 - val_acc: 0.8715\n",
            "Epoch 15/20\n",
            "15000/15000 [==============================] - 2s 134us/step - loss: 0.0167 - acc: 0.9969 - val_loss: 0.5508 - val_acc: 0.8709\n",
            "Epoch 16/20\n",
            "15000/15000 [==============================] - 2s 131us/step - loss: 0.0118 - acc: 0.9982 - val_loss: 0.5864 - val_acc: 0.8677\n",
            "Epoch 17/20\n",
            "15000/15000 [==============================] - 2s 134us/step - loss: 0.0072 - acc: 0.9997 - val_loss: 0.6193 - val_acc: 0.8688\n",
            "Epoch 18/20\n",
            "15000/15000 [==============================] - 2s 135us/step - loss: 0.0082 - acc: 0.9984 - val_loss: 0.6649 - val_acc: 0.8681\n",
            "Epoch 19/20\n",
            "15000/15000 [==============================] - 2s 137us/step - loss: 0.0038 - acc: 0.9999 - val_loss: 0.7583 - val_acc: 0.8635\n",
            "Epoch 20/20\n",
            "15000/15000 [==============================] - 2s 133us/step - loss: 0.0075 - acc: 0.9983 - val_loss: 0.7362 - val_acc: 0.8660\n"
          ],
          "name": "stdout"
        }
      ]
    },
    {
      "cell_type": "code",
      "metadata": {
        "id": "Pt59JKlUlQPM",
        "colab_type": "code",
        "colab": {
          "base_uri": "https://localhost:8080/",
          "height": 68
        },
        "outputId": "644630b3-6a13-4496-c972-51ebae6273f4"
      },
      "source": [
        "# history is a dictionary containing data about everything that happened during training.\n",
        "history_dict = history.history\n",
        "print (history_dict.keys())\n",
        "print (len(history_dict['val_loss']))\n",
        "print (len(history_dict['acc']))"
      ],
      "execution_count": 11,
      "outputs": [
        {
          "output_type": "stream",
          "text": [
            "dict_keys(['val_loss', 'val_acc', 'loss', 'acc'])\n",
            "20\n",
            "20\n"
          ],
          "name": "stdout"
        }
      ]
    },
    {
      "cell_type": "code",
      "metadata": {
        "id": "d5Jk3aMilc77",
        "colab_type": "code",
        "colab": {
          "base_uri": "https://localhost:8080/",
          "height": 295
        },
        "outputId": "26b5190a-f3cd-47c4-d16c-6648b79b9fce"
      },
      "source": [
        "# let’s use Matplotlib to plot the training and validation loss, monitored during training and during validation.\n",
        "import matplotlib.pyplot as plt\n",
        "\n",
        "history_dict = history.history\n",
        "loss_values = history_dict['loss'] \n",
        "acc = history_dict['acc'] \n",
        "val_loss_values = history_dict['val_loss']\n",
        "epochs = range(1, len(acc) + 1)\n",
        "#“bo” is for “blue dot.”\n",
        "plt.plot(epochs, loss_values, 'bo', label='Training loss') \n",
        "#“b” is for “solid blue line”\n",
        "plt.plot(epochs, val_loss_values, 'b', label='Validation loss')\n",
        "\n",
        "plt.title('Training and validation loss') \n",
        "plt.xlabel('Epochs')\n",
        "plt.ylabel('Loss')\n",
        "plt.legend()\n",
        "plt.show()\n",
        "\n",
        "# the training loss decreases with every epoch!!!!\n",
        "# BUT validation loss DOESN'T!!!! Why?\n",
        "# Porque el modelo muestra un problema llamado overfiting, el modelo esta optimizado solo para los datos de entrenamiento!\n",
        "# El overfitin se presenta alrededor de la 4 o 5 iteracion"
      ],
      "execution_count": 12,
      "outputs": [
        {
          "output_type": "display_data",
          "data": {
            "image/png": "[encoded data removed]",
            "text/plain": [
              "<Figure size 432x288 with 1 Axes>"
            ]
          },
          "metadata": {
            "tags": [],
            "needs_background": "light"
          }
        }
      ]
    },
    {
      "cell_type": "code",
      "metadata": {
        "id": "vq6UfS3z66Pd",
        "colab_type": "code",
        "colab": {
          "base_uri": "https://localhost:8080/",
          "height": 295
        },
        "outputId": "1e2d5a91-41d7-4e80-fdbe-729500b5b581"
      },
      "source": [
        "# Graficamos similarmente para los datos de precision (accurracy)\n",
        "plt.clf() #Clears the figure \n",
        "acc_values = history_dict['acc'] \n",
        "val_acc = history_dict['val_acc']\n",
        "plt.plot(epochs, acc, 'bo', label='Training acc') \n",
        "plt.plot(epochs, val_acc, 'b', label='Validation acc') \n",
        "plt.title('Training and validation accuracy') \n",
        "plt.xlabel('Epochs')\n",
        "plt.ylabel('Loss') \n",
        "plt.legend()\n",
        "plt.show()\n",
        "\n",
        "# Aqui hay otra forma de ver lo mismo que se describio con la perdida (loss)\n",
        "# Los datos de precision estan mejor cada epch para los datos de entrenamiento\n",
        "# pero se alejan de ser precisos para los datos nuevos (datos de validacion)"
      ],
      "execution_count": 13,
      "outputs": [
        {
          "output_type": "display_data",
          "data": {
            "image/png": "[encoded data removed]",
            "text/plain": [
              "<Figure size 432x288 with 1 Axes>"
            ]
          },
          "metadata": {
            "tags": [],
            "needs_background": "light"
          }
        }
      ]
    },
    {
      "cell_type": "markdown",
      "metadata": {
        "id": "xHqLSPTpASyi",
        "colab_type": "text"
      },
      "source": [
        "# Retraining a model from scratch"
      ]
    },
    {
      "cell_type": "code",
      "metadata": {
        "id": "tZt0ePtfmOPU",
        "colab_type": "code",
        "colab": {
          "base_uri": "https://localhost:8080/",
          "height": 187
        },
        "outputId": "2c32a4ed-f60f-47ca-c529-d850ffae6b67"
      },
      "source": [
        "model = models.Sequential()\n",
        "model.add(layers.Dense(16, activation='relu', input_shape=(10000,))) \n",
        "model.add(layers.Dense(16, activation='relu')) \n",
        "model.add(layers.Dense(1, activation='sigmoid'))\n",
        "model.compile(optimizer='rmsprop', loss='binary_crossentropy', metrics=['accuracy'])\n",
        "model.fit(x_train, y_train, epochs=4, batch_size=512) \n",
        "results = model.evaluate(x_test, y_test)\n",
        "print(results)\n",
        "\n",
        "# Siguiendo la recomendacion para evitar el overfiting y solo entrenar el modelo 4 epochs, \n",
        "# la precision/accurracy llega SOLO al 88%"
      ],
      "execution_count": 14,
      "outputs": [
        {
          "output_type": "stream",
          "text": [
            "Epoch 1/4\n",
            "25000/25000 [==============================] - 2s 96us/step - loss: 0.4747 - accuracy: 0.8159\n",
            "Epoch 2/4\n",
            "25000/25000 [==============================] - 2s 92us/step - loss: 0.2730 - accuracy: 0.9074\n",
            "Epoch 3/4\n",
            "25000/25000 [==============================] - 2s 93us/step - loss: 0.2064 - accuracy: 0.9273\n",
            "Epoch 4/4\n",
            "25000/25000 [==============================] - 2s 94us/step - loss: 0.1699 - accuracy: 0.9395\n",
            "25000/25000 [==============================] - 2s 74us/step\n",
            "[0.2939291299676895, 0.8839200139045715]\n"
          ],
          "name": "stdout"
        }
      ]
    },
    {
      "cell_type": "code",
      "metadata": {
        "id": "YbkpOpmZVQ1a",
        "colab_type": "code",
        "colab": {
          "base_uri": "https://localhost:8080/",
          "height": 136
        },
        "outputId": "949e54cd-1c83-4728-bbc9-37a3b58b4ad7"
      },
      "source": [
        "# Usamos el modelo para predecir sobre los datos de test\n",
        "model.predict (x_test)"
      ],
      "execution_count": 16,
      "outputs": [
        {
          "output_type": "execute_result",
          "data": {
            "text/plain": [
              "array([[0.23978487],\n",
              "       [0.99997175],\n",
              "       [0.95474994],\n",
              "       ...,\n",
              "       [0.16511929],\n",
              "       [0.10755867],\n",
              "       [0.5902094 ]], dtype=float32)"
            ]
          },
          "metadata": {
            "tags": []
          },
          "execution_count": 16
        }
      ]
    },
    {
      "cell_type": "markdown",
      "metadata": {
        "id": "IXbiCAyNWhbZ",
        "colab_type": "text"
      },
      "source": [
        "# Homework\n",
        "Further experiments\n",
        "The following experiments will help convince you that the architecture choices you’ve made are all fairly reasonable, although there’s still room for improvement:\n",
        "- You used two hidden layers. Try using one or three hidden layers, and see how doing so affects validation and test accuracy.\n",
        "- Try using layers with more hidden units or fewer hidden units: 32 units, 64 units, and so on.\n",
        "- Try using the mse loss function instead of binary_crossentropy.\n",
        "- Try using the tanh activation (an activation that was popular in the early days of\n",
        "neural networks) instead of relu."
      ]
    },
    {
      "cell_type": "code",
      "metadata": {
        "id": "ahkqNor5RsA3",
        "colab_type": "code",
        "colab": {
          "base_uri": "https://localhost:8080/",
          "height": 34
        },
        "outputId": "c64e67e1-5178-412c-87e4-c850cef22a9a"
      },
      "source": [
        "import tensorflow as tf\n",
        "mydict = tf.keras.datasets.imdb.get_word_index(\n",
        "    path='imdb_word_index.json'\n",
        ")\n",
        "list(mydict)[0:5]"
      ],
      "execution_count": 19,
      "outputs": [
        {
          "output_type": "execute_result",
          "data": {
            "text/plain": [
              "['fawn', 'tsukino', 'nunnery', 'sonja', 'vani']"
            ]
          },
          "metadata": {
            "tags": []
          },
          "execution_count": 19
        }
      ]
    },
    {
      "cell_type": "code",
      "metadata": {
        "id": "F6_9EVfVS_Wn",
        "colab_type": "code",
        "colab": {}
      },
      "source": [
        ""
      ],
      "execution_count": 15,
      "outputs": []
    },
    {
      "cell_type": "code",
      "metadata": {
        "id": "A4tFiphOS9Qo",
        "colab_type": "code",
        "colab": {}
      },
      "source": [
        ""
      ],
      "execution_count": 15,
      "outputs": []
    },
    {
      "cell_type": "code",
      "metadata": {
        "id": "6sNAVcQ3S2I3",
        "colab_type": "code",
        "colab": {}
      },
      "source": [
        ""
      ],
      "execution_count": 15,
      "outputs": []
    },
    {
      "cell_type": "code",
      "metadata": {
        "id": "TkOLZVvaSw7h",
        "colab_type": "code",
        "colab": {}
      },
      "source": [
        ""
      ],
      "execution_count": 15,
      "outputs": []
    },
    {
      "cell_type": "code",
      "metadata": {
        "id": "_mp1pqyZRp5x",
        "colab_type": "code",
        "colab": {}
      },
      "source": [
        ""
      ],
      "execution_count": 15,
      "outputs": []
    },
    {
      "cell_type": "code",
      "metadata": {
        "id": "IWvrdT-iRn9-",
        "colab_type": "code",
        "colab": {}
      },
      "source": [
        ""
      ],
      "execution_count": 15,
      "outputs": []
    },
    {
      "cell_type": "code",
      "metadata": {
        "id": "87dsTr5qRZ-r",
        "colab_type": "code",
        "colab": {}
      },
      "source": [
        ""
      ],
      "execution_count": 15,
      "outputs": []
    },
    {
      "cell_type": "code",
      "metadata": {
        "id": "i14RTmrXRYZo",
        "colab_type": "code",
        "colab": {}
      },
      "source": [
        ""
      ],
      "execution_count": 15,
      "outputs": []
    }
  ]
}