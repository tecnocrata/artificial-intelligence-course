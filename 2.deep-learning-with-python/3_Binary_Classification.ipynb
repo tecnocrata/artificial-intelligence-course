{
  "nbformat": 4,
  "nbformat_minor": 0,
  "metadata": {
    "colab": {
      "name": "3.Binary-Classification.ipynb",
      "provenance": [],
      "authorship_tag": "ABX9TyPiTH7/OZcWnT2WchE3GJvz",
      "include_colab_link": true
    },
    "kernelspec": {
      "name": "python3",
      "display_name": "Python 3"
    }
  },
  "cells": [
    {
      "cell_type": "markdown",
      "metadata": {
        "id": "view-in-github",
        "colab_type": "text"
      },
      "source": [
        "<a href=\"https://colab.research.google.com/github/tecnocrata/artificial-intelligence-course/blob/master/2.deep-learning-with-python/3_Binary_Classification.ipynb\" target=\"_parent\"><img src=\"https://colab.research.google.com/assets/colab-badge.svg\" alt=\"Open In Colab\"/></a>"
      ]
    },
    {
      "cell_type": "code",
      "metadata": {
        "id": "y3YZFaQZPtyS",
        "colab_type": "code",
        "colab": {
          "base_uri": "https://localhost:8080/",
          "height": 68
        },
        "outputId": "6e5356a9-d3f8-47e6-915d-1d570ea6b69e"
      },
      "source": [
        "# From chapter 3 and 3.4.1\n",
        "# Importing IMDB dataset\n",
        "from keras.datasets import imdb\n",
        "# The argument num_words=10000 means you’ll only keep the top 10,000 most frequently occurring words in the training data. Rare words will be discarded.\n",
        "# All IMDB data is 500000, we are spliting 25000 for training and testing\n",
        "(train_data, train_labels), (test_data, test_labels) = imdb.load_data( num_words=10000)"
      ],
      "execution_count": 2,
      "outputs": [
        {
          "output_type": "stream",
          "text": [
            "Using TensorFlow backend.\n"
          ],
          "name": "stderr"
        },
        {
          "output_type": "stream",
          "text": [
            "Downloading data from https://s3.amazonaws.com/text-datasets/imdb.npz\n",
            "17465344/17464789 [==============================] - 2s 0us/step\n"
          ],
          "name": "stdout"
        }
      ]
    },
    {
      "cell_type": "markdown",
      "metadata": {
        "id": "N39O-ayNTJUl",
        "colab_type": "text"
      },
      "source": [
        "# Analyzing the data"
      ]
    },
    {
      "cell_type": "markdown",
      "metadata": {
        "id": "-LZmm1zWIRiP",
        "colab_type": "text"
      },
      "source": [
        "## Why is called binary classification?\n",
        "It is because the output will be 0=negative or 1=positive opinion about the entry"
      ]
    },
    {
      "cell_type": "code",
      "metadata": {
        "id": "O37VTMefQKWD",
        "colab_type": "code",
        "colab": {
          "base_uri": "https://localhost:8080/",
          "height": 54
        },
        "outputId": "4952826c-7f3a-4322-a91c-e2cc003777db"
      },
      "source": [
        "# What contains train_data && test_data?\n",
        "# the reviews (sequences of words) have been turned into sequences of integers, where each integer stands for a specific word in a dictionary\n",
        "print(train_data[0])"
      ],
      "execution_count": 3,
      "outputs": [
        {
          "output_type": "stream",
          "text": [
            "[1, 14, 22, 16, 43, 530, 973, 1622, 1385, 65, 458, 4468, 66, 3941, 4, 173, 36, 256, 5, 25, 100, 43, 838, 112, 50, 670, 2, 9, 35, 480, 284, 5, 150, 4, 172, 112, 167, 2, 336, 385, 39, 4, 172, 4536, 1111, 17, 546, 38, 13, 447, 4, 192, 50, 16, 6, 147, 2025, 19, 14, 22, 4, 1920, 4613, 469, 4, 22, 71, 87, 12, 16, 43, 530, 38, 76, 15, 13, 1247, 4, 22, 17, 515, 17, 12, 16, 626, 18, 2, 5, 62, 386, 12, 8, 316, 8, 106, 5, 4, 2223, 5244, 16, 480, 66, 3785, 33, 4, 130, 12, 16, 38, 619, 5, 25, 124, 51, 36, 135, 48, 25, 1415, 33, 6, 22, 12, 215, 28, 77, 52, 5, 14, 407, 16, 82, 2, 8, 4, 107, 117, 5952, 15, 256, 4, 2, 7, 3766, 5, 723, 36, 71, 43, 530, 476, 26, 400, 317, 46, 7, 4, 2, 1029, 13, 104, 88, 4, 381, 15, 297, 98, 32, 2071, 56, 26, 141, 6, 194, 7486, 18, 4, 226, 22, 21, 134, 476, 26, 480, 5, 144, 30, 5535, 18, 51, 36, 28, 224, 92, 25, 104, 4, 226, 65, 16, 38, 1334, 88, 12, 16, 283, 5, 16, 4472, 113, 103, 32, 15, 16, 5345, 19, 178, 32]\n"
          ],
          "name": "stdout"
        }
      ]
    },
    {
      "cell_type": "code",
      "metadata": {
        "id": "zIJmDHjfReIO",
        "colab_type": "code",
        "colab": {
          "base_uri": "https://localhost:8080/",
          "height": 34
        },
        "outputId": "e5bc7772-6593-4a14-decb-2d2ec672ae7b"
      },
      "source": [
        "# What contains train_labels && test_labels?\n",
        "# are lists of 0s and 1s, where 0 stands for negative and 1 stands for positive:\n",
        "train_labels[4]"
      ],
      "execution_count": 4,
      "outputs": [
        {
          "output_type": "execute_result",
          "data": {
            "text/plain": [
              "0"
            ]
          },
          "metadata": {
            "tags": []
          },
          "execution_count": 4
        }
      ]
    },
    {
      "cell_type": "code",
      "metadata": {
        "id": "iJakxJ7rTIVi",
        "colab_type": "code",
        "colab": {
          "base_uri": "https://localhost:8080/",
          "height": 34
        },
        "outputId": "19aa3451-8581-4e11-d44a-3e5aef9bb100"
      },
      "source": [
        "# Obtenemos el mayor indice de cualquier elemento de entrenamiento\n",
        "# como definimos anteriormente el mayor valor solo deberia ser num_words=10000\n",
        "max([max(s) for s in train_data])\n",
        "# len(train_data[1])"
      ],
      "execution_count": 5,
      "outputs": [
        {
          "output_type": "execute_result",
          "data": {
            "text/plain": [
              "9999"
            ]
          },
          "metadata": {
            "tags": []
          },
          "execution_count": 5
        }
      ]
    },
    {
      "cell_type": "code",
      "metadata": {
        "id": "iI2cjcsqUn79",
        "colab_type": "code",
        "colab": {
          "base_uri": "https://localhost:8080/",
          "height": 137
        },
        "outputId": "6b65e295-53f7-427c-b381-81447441543c"
      },
      "source": [
        "#del dict\n",
        "# TIP: This function decodes one review\n",
        "dict([('sape', 4139), ('guido', 4127), ('jack', 4098)])\n",
        "def decode_review(review):\n",
        "  word_index = imdb.get_word_index()\n",
        "  reverse_word_index = dict([(value, key) for (key, value) in word_index.items()])\n",
        "  # Decodes the review. Note that the indices are offset by 3 because 0, 1, and 2 are reserved indices for “padding,” “start of sequence,” and “unknown.”\n",
        "  decoded_review = ' '.join([reverse_word_index.get(i - 3, '?') for i in review])\n",
        "  return decoded_review\n",
        "\n",
        "decode_review(train_data[0])"
      ],
      "execution_count": 6,
      "outputs": [
        {
          "output_type": "stream",
          "text": [
            "Downloading data from https://s3.amazonaws.com/text-datasets/imdb_word_index.json\n",
            "1646592/1641221 [==============================] - 1s 1us/step\n"
          ],
          "name": "stdout"
        },
        {
          "output_type": "execute_result",
          "data": {
            "application/vnd.google.colaboratory.intrinsic+json": {
              "type": "string"
            },
            "text/plain": [
              "\"? this film was just brilliant casting location scenery story direction everyone's really suited the part they played and you could just imagine being there robert ? is an amazing actor and now the same being director ? father came from the same scottish island as myself so i loved the fact there was a real connection with this film the witty remarks throughout the film were great it was just brilliant so much that i bought the film as soon as it was released for ? and would recommend it to everyone to watch and the fly fishing was amazing really cried at the end it was so sad and you know what they say if you cry at a film it must have been good and this definitely was also ? to the two little boy's that played the ? of norman and paul they were just brilliant children are often left out of the ? list i think because the stars that play them all grown up are such a big profile for the whole film but these children are amazing and should be praised for what they have done don't you think the whole story was so lovely because it was true and was someone's life after all that was shared with us all\""
            ]
          },
          "metadata": {
            "tags": []
          },
          "execution_count": 6
        }
      ]
    },
    {
      "cell_type": "markdown",
      "metadata": {
        "id": "OjgBlBFxmtZe",
        "colab_type": "text"
      },
      "source": [
        "# Preparing the data\n",
        "## One-Hot Encoding (input values for training and testing)\n",
        "For example if the input is a tensor with 10000 neurons, and we have this data [3,5], we could enconde into: [0,0,1,0,1,0,0,0,0,0....n(10000)]\n",
        "More info: https://machinelearningmastery.com/why-one-hot-encode-data-in-machine-learning/"
      ]
    },
    {
      "cell_type": "code",
      "metadata": {
        "id": "x4JW3icxYJ1v",
        "colab_type": "code",
        "colab": {
          "base_uri": "https://localhost:8080/",
          "height": 139
        },
        "outputId": "85223359-d1e2-488e-cc2d-8d66e206a905"
      },
      "source": [
        "import numpy as np\n",
        "#def vectorize_sequences(sequences, dimension=10000): \n",
        "def onehot_encode(sequences, dimension=10000): \n",
        "  # Creamos una matriz de ceros de cantidad de elementos x 10000\n",
        "  results = np.zeros((len(sequences), dimension)) \n",
        "  for i, sequence in enumerate(sequences):\n",
        "    # ponemos 1 solo en la posicion de ese numero\n",
        "    results[i, sequence] = 1\n",
        "  return results\n",
        "\n",
        "# Prepare data, encoding into 0s and 1s vector\n",
        "x_train = onehot_encode (train_data)\n",
        "x_test = onehot_encode(test_data)\n",
        "\n",
        "# El primer elemento de entreamiento tiene 218 elementos (incluidos los repetidos\n",
        "print (train_data[0])\n",
        "print (len(train_data[0]))\n",
        "# Si analizamos un poco mas y quitamos los duplicados (usando un set), solo hay 120 elementos unicos\n",
        "print (set (train_data[0]))\n",
        "print (len(set (train_data[0])))\n",
        "\n",
        "# luego de encode ese conjunto, debe haber solo 120 'unos', y los hay!\n",
        "print (x_train[0])\n",
        "sum(map(lambda x : x == 1, x_train[0]))"
      ],
      "execution_count": 7,
      "outputs": [
        {
          "output_type": "stream",
          "text": [
            "[1, 14, 22, 16, 43, 530, 973, 1622, 1385, 65, 458, 4468, 66, 3941, 4, 173, 36, 256, 5, 25, 100, 43, 838, 112, 50, 670, 2, 9, 35, 480, 284, 5, 150, 4, 172, 112, 167, 2, 336, 385, 39, 4, 172, 4536, 1111, 17, 546, 38, 13, 447, 4, 192, 50, 16, 6, 147, 2025, 19, 14, 22, 4, 1920, 4613, 469, 4, 22, 71, 87, 12, 16, 43, 530, 38, 76, 15, 13, 1247, 4, 22, 17, 515, 17, 12, 16, 626, 18, 2, 5, 62, 386, 12, 8, 316, 8, 106, 5, 4, 2223, 5244, 16, 480, 66, 3785, 33, 4, 130, 12, 16, 38, 619, 5, 25, 124, 51, 36, 135, 48, 25, 1415, 33, 6, 22, 12, 215, 28, 77, 52, 5, 14, 407, 16, 82, 2, 8, 4, 107, 117, 5952, 15, 256, 4, 2, 7, 3766, 5, 723, 36, 71, 43, 530, 476, 26, 400, 317, 46, 7, 4, 2, 1029, 13, 104, 88, 4, 381, 15, 297, 98, 32, 2071, 56, 26, 141, 6, 194, 7486, 18, 4, 226, 22, 21, 134, 476, 26, 480, 5, 144, 30, 5535, 18, 51, 36, 28, 224, 92, 25, 104, 4, 226, 65, 16, 38, 1334, 88, 12, 16, 283, 5, 16, 4472, 113, 103, 32, 15, 16, 5345, 19, 178, 32]\n",
            "218\n",
            "{1, 2, 515, 4, 5, 6, 4613, 8, 9, 7, 1029, 12, 13, 14, 15, 16, 17, 530, 19, 18, 21, 22, 2071, 25, 26, 28, 30, 32, 33, 546, 35, 36, 38, 39, 43, 46, 48, 50, 51, 52, 56, 62, 65, 66, 71, 76, 77, 82, 1622, 1111, 87, 88, 92, 98, 100, 103, 104, 106, 619, 107, 112, 113, 626, 117, 124, 5244, 130, 134, 135, 141, 144, 147, 150, 670, 167, 172, 173, 2223, 178, 3766, 192, 194, 3785, 723, 215, 1247, 224, 5345, 226, 256, 283, 284, 297, 1334, 316, 317, 7486, 5952, 838, 336, 3941, 1385, 4468, 4472, 381, 1920, 385, 386, 1415, 400, 407, 5535, 4536, 447, 458, 973, 469, 476, 480, 2025}\n",
            "120\n",
            "[0. 1. 1. ... 0. 0. 0.]\n"
          ],
          "name": "stdout"
        },
        {
          "output_type": "execute_result",
          "data": {
            "text/plain": [
              "120"
            ]
          },
          "metadata": {
            "tags": []
          },
          "execution_count": 7
        }
      ]
    },
    {
      "cell_type": "markdown",
      "metadata": {
        "id": "jc1cTVApNjFK",
        "colab_type": "text"
      },
      "source": [
        "## Encode (output values for training and testing)"
      ]
    },
    {
      "cell_type": "code",
      "metadata": {
        "id": "MTaT2oy3qLXc",
        "colab_type": "code",
        "colab": {
          "base_uri": "https://localhost:8080/",
          "height": 85
        },
        "outputId": "49650e26-a2d5-4ecb-cf93-c09954e2b5f1"
      },
      "source": [
        "print (train_data.shape)\n",
        "print(train_labels.shape)\n",
        "# Debemos vectorizar las salidas\n",
        "y_train = np.asarray(train_labels).astype('float32')\n",
        "y_test = np.asarray(test_labels).astype('float32')\n",
        "\n",
        "# No estoy todavia seguro cual es la diferencia entre estos dos arrays\n",
        "# pero supongo que keras acepta solo numpy arrays!?\n",
        "print (train_labels)\n",
        "print (y_train)\n"
      ],
      "execution_count": 8,
      "outputs": [
        {
          "output_type": "stream",
          "text": [
            "(25000,)\n",
            "(25000,)\n",
            "[1 0 0 ... 0 1 0]\n",
            "[1. 0. 0. ... 0. 1. 0.]\n"
          ],
          "name": "stdout"
        }
      ]
    },
    {
      "cell_type": "markdown",
      "metadata": {
        "id": "Lvgd_ZMiWNDu",
        "colab_type": "text"
      },
      "source": [
        "# Building the model architecture"
      ]
    },
    {
      "cell_type": "code",
      "metadata": {
        "id": "e1YkfTbvR6yw",
        "colab_type": "code",
        "colab": {}
      },
      "source": [
        "# Where activation='relu': \n",
        "# (rectified linear unit) is a function meant to zero out negative values (Convierte en ceros valores negativos)\n",
        "# Esta funcion o similares introducen no-linealidad en el aprendizaje (transformaciones)\n",
        "# Alternativas:  (prelu, elu, etc...)\n",
        "\n",
        "# Where activation='sigmoid' “squashes” arbitrary values into the [0, 1] interval, la salida puede ser interpretada como una probabilidad, que en este caso se aplica\n",
        "from keras import models\n",
        "from keras import layers\n",
        "model = models.Sequential()\n",
        "model.add(layers.Dense(16, activation='relu', input_shape=(10000,))) \n",
        "model.add(layers.Dense(16, activation='relu')) \n",
        "model.add(layers.Dense(1, activation='sigmoid'))\n",
        "\n"
      ],
      "execution_count": 9,
      "outputs": []
    },
    {
      "cell_type": "code",
      "metadata": {
        "id": "_Gae3ayuTRPu",
        "colab_type": "code",
        "colab": {}
      },
      "source": [
        "# Where loss='binary_crossentropy' Because you’re facing a binary classification problem and the output of your network is a probability\n",
        "# crossentropy is usually the best choice when you’re dealing with models that output probabilities. \n",
        "# Alternativas: mean_squared_error\n",
        "\n",
        "model.compile(optimizer='rmsprop', loss='binary_crossentropy', metrics=['accuracy'])\n",
        "\n",
        "## Sometimes you may want to configure the parameters of your optimizer or pass a custom loss function or metric function.!!!!!\n",
        "# from keras import optimizers\n",
        "# from keras import losses\n",
        "# from keras import metrics\n",
        "# model.compile(optimizer=optimizers.RMSprop(lr=0.001), loss=losses.binary_crossentropy, metrics=[metrics.binary_accuracy])"
      ],
      "execution_count": 10,
      "outputs": []
    },
    {
      "cell_type": "markdown",
      "metadata": {
        "id": "Bida5-78jjJb",
        "colab_type": "text"
      },
      "source": [
        "# Validating the approach\n",
        "In order to monitor during training the accuracy of the model on data it has never seen before, you’ll create a validation set by setting apart 10,000 samples from the original training data."
      ]
    },
    {
      "cell_type": "code",
      "metadata": {
        "id": "8qFSbCLTTPbm",
        "colab_type": "code",
        "colab": {
          "base_uri": "https://localhost:8080/",
          "height": 714
        },
        "outputId": "75d967f3-26f3-465c-8f88-c4bb6541b154"
      },
      "source": [
        "x_val = x_train[:10000] \n",
        "partial_x_train = x_train[10000:]\n",
        "y_val = y_train[:10000]\n",
        "partial_y_train = y_train[10000:]\n",
        "\n",
        "# Now, you’ll now train the model for 20 epochs (20 iterations over all samples in the x_train and y_train tensors), in mini-batches of 512 samples.\n",
        "model.compile(optimizer='rmsprop', loss='binary_crossentropy', metrics=['acc'])\n",
        "history = model.fit(partial_x_train, partial_y_train, epochs=20, batch_size=512, validation_data=(x_val, y_val))"
      ],
      "execution_count": 11,
      "outputs": [
        {
          "output_type": "stream",
          "text": [
            "Train on 15000 samples, validate on 10000 samples\n",
            "Epoch 1/20\n",
            "15000/15000 [==============================] - 2s 132us/step - loss: 0.4971 - acc: 0.7839 - val_loss: 0.4108 - val_acc: 0.8316\n",
            "Epoch 2/20\n",
            "15000/15000 [==============================] - 1s 100us/step - loss: 0.2906 - acc: 0.9058 - val_loss: 0.3105 - val_acc: 0.8788\n",
            "Epoch 3/20\n",
            "15000/15000 [==============================] - 1s 99us/step - loss: 0.2191 - acc: 0.9262 - val_loss: 0.3135 - val_acc: 0.8739\n",
            "Epoch 4/20\n",
            "15000/15000 [==============================] - 1s 100us/step - loss: 0.1695 - acc: 0.9457 - val_loss: 0.2770 - val_acc: 0.8894\n",
            "Epoch 5/20\n",
            "15000/15000 [==============================] - 1s 97us/step - loss: 0.1414 - acc: 0.9562 - val_loss: 0.2801 - val_acc: 0.8877\n",
            "Epoch 6/20\n",
            "15000/15000 [==============================] - 1s 98us/step - loss: 0.1158 - acc: 0.9647 - val_loss: 0.2978 - val_acc: 0.8861\n",
            "Epoch 7/20\n",
            "15000/15000 [==============================] - 1s 99us/step - loss: 0.0922 - acc: 0.9731 - val_loss: 0.3122 - val_acc: 0.8853\n",
            "Epoch 8/20\n",
            "15000/15000 [==============================] - 1s 98us/step - loss: 0.0772 - acc: 0.9785 - val_loss: 0.3325 - val_acc: 0.8822\n",
            "Epoch 9/20\n",
            "15000/15000 [==============================] - 1s 98us/step - loss: 0.0648 - acc: 0.9833 - val_loss: 0.3557 - val_acc: 0.8785\n",
            "Epoch 10/20\n",
            "15000/15000 [==============================] - 1s 98us/step - loss: 0.0489 - acc: 0.9883 - val_loss: 0.3925 - val_acc: 0.8735\n",
            "Epoch 11/20\n",
            "15000/15000 [==============================] - 1s 99us/step - loss: 0.0409 - acc: 0.9903 - val_loss: 0.4083 - val_acc: 0.8748\n",
            "Epoch 12/20\n",
            "15000/15000 [==============================] - 1s 99us/step - loss: 0.0334 - acc: 0.9927 - val_loss: 0.4388 - val_acc: 0.8744\n",
            "Epoch 13/20\n",
            "15000/15000 [==============================] - 1s 97us/step - loss: 0.0243 - acc: 0.9963 - val_loss: 0.4769 - val_acc: 0.8678\n",
            "Epoch 14/20\n",
            "15000/15000 [==============================] - 2s 101us/step - loss: 0.0192 - acc: 0.9974 - val_loss: 0.5370 - val_acc: 0.8672\n",
            "Epoch 15/20\n",
            "15000/15000 [==============================] - 1s 98us/step - loss: 0.0166 - acc: 0.9975 - val_loss: 0.5379 - val_acc: 0.8694\n",
            "Epoch 16/20\n",
            "15000/15000 [==============================] - 1s 98us/step - loss: 0.0133 - acc: 0.9979 - val_loss: 0.5677 - val_acc: 0.8677\n",
            "Epoch 17/20\n",
            "15000/15000 [==============================] - 1s 98us/step - loss: 0.0071 - acc: 0.9997 - val_loss: 0.6078 - val_acc: 0.8678\n",
            "Epoch 18/20\n",
            "15000/15000 [==============================] - 1s 97us/step - loss: 0.0076 - acc: 0.9991 - val_loss: 0.6387 - val_acc: 0.8652\n",
            "Epoch 19/20\n",
            "15000/15000 [==============================] - 1s 99us/step - loss: 0.0071 - acc: 0.9991 - val_loss: 0.6686 - val_acc: 0.8651\n",
            "Epoch 20/20\n",
            "15000/15000 [==============================] - 1s 97us/step - loss: 0.0028 - acc: 0.9999 - val_loss: 0.7167 - val_acc: 0.8652\n"
          ],
          "name": "stdout"
        }
      ]
    },
    {
      "cell_type": "code",
      "metadata": {
        "id": "Pt59JKlUlQPM",
        "colab_type": "code",
        "colab": {
          "base_uri": "https://localhost:8080/",
          "height": 105
        },
        "outputId": "4f98f44f-fdb1-423d-ec81-d8a758a45fc8"
      },
      "source": [
        "# history is a dictionary containing data about everything that happened during training.\n",
        "history_dict = history.history\n",
        "print (history_dict.keys())\n",
        "print (len(history_dict['val_loss']))\n",
        "print (len(history_dict['acc']))\n",
        "print (history_dict)"
      ],
      "execution_count": 12,
      "outputs": [
        {
          "output_type": "stream",
          "text": [
            "dict_keys(['val_loss', 'val_acc', 'loss', 'acc'])\n",
            "20\n",
            "20\n",
            "{'val_loss': [0.41080991191864014, 0.3105463800430298, 0.3135468010425568, 0.2769597448825836, 0.2801155723571777, 0.2977542575836182, 0.31218738594055173, 0.332506684923172, 0.3557089199066162, 0.3925272272586823, 0.40834008207321165, 0.43879959998130796, 0.47693963146209717, 0.5369959932804108, 0.5379177160739899, 0.5677358263969421, 0.6078220210075378, 0.6387128232955933, 0.6685549162864685, 0.7166694494247436], 'val_acc': [0.83160001039505, 0.8787999749183655, 0.8738999962806702, 0.8894000053405762, 0.8877000212669373, 0.8860999941825867, 0.8852999806404114, 0.8822000026702881, 0.8784999847412109, 0.8734999895095825, 0.8748000264167786, 0.8744000196456909, 0.8677999973297119, 0.8672000169754028, 0.8694000244140625, 0.8676999807357788, 0.8677999973297119, 0.8651999831199646, 0.8651000261306763, 0.8651999831199646], 'loss': [0.4971457807858785, 0.2906125270207723, 0.21910206791559855, 0.16950746564070385, 0.14136464036305746, 0.1158059563835462, 0.09222300795316696, 0.0771943092405796, 0.06483241232236227, 0.048922561844189964, 0.040930843726793925, 0.033407565569877624, 0.02431334054072698, 0.01921624926328659, 0.016579282914598783, 0.013265931011239688, 0.007116860693196456, 0.007564879561463992, 0.0070565086695055165, 0.00283172236358126], 'acc': [0.78393334, 0.9058, 0.9262, 0.9456667, 0.9562, 0.96466666, 0.9730667, 0.9785333, 0.98326665, 0.98826665, 0.9903333, 0.99273336, 0.99633336, 0.9974, 0.9975333, 0.9979333, 0.9997333, 0.99913335, 0.99906665, 0.99986666]}\n"
          ],
          "name": "stdout"
        }
      ]
    },
    {
      "cell_type": "code",
      "metadata": {
        "id": "d5Jk3aMilc77",
        "colab_type": "code",
        "colab": {
          "base_uri": "https://localhost:8080/",
          "height": 295
        },
        "outputId": "5b3d6ebe-6f9d-447b-d5f6-a7400a285a0c"
      },
      "source": [
        "# let’s use Matplotlib to plot the training and validation loss, monitored during training and during validation.\n",
        "import matplotlib.pyplot as plt\n",
        "\n",
        "history_dict = history.history\n",
        "loss_values = history_dict['loss'] \n",
        "acc = history_dict['acc'] \n",
        "val_loss_values = history_dict['val_loss']\n",
        "epochs = range(1, len(acc) + 1)\n",
        "#“bo” is for “blue dot.”\n",
        "plt.plot(epochs, loss_values, 'bo', label='Training loss') \n",
        "#“b” is for “solid blue line”\n",
        "plt.plot(epochs, val_loss_values, 'b', label='Validation loss')\n",
        "\n",
        "plt.title('Training and validation loss') \n",
        "plt.xlabel('Epochs')\n",
        "plt.ylabel('Loss')\n",
        "plt.legend()\n",
        "plt.show()\n",
        "\n",
        "# the training loss decreases with every epoch!!!!\n",
        "# BUT validation loss DOESN'T!!!! Why?\n",
        "# Porque el modelo muestra un problema llamado overfiting, el modelo esta optimizado solo para los datos de entrenamiento!\n",
        "# El overfiting se presenta alrededor de la 4 o 5 iteracion"
      ],
      "execution_count": 13,
      "outputs": [
        {
          "output_type": "display_data",
          "data": {
            "image/png": "[encoded data removed]",
            "text/plain": [
              "<Figure size 432x288 with 1 Axes>"
            ]
          },
          "metadata": {
            "tags": [],
            "needs_background": "light"
          }
        }
      ]
    },
    {
      "cell_type": "code",
      "metadata": {
        "id": "vq6UfS3z66Pd",
        "colab_type": "code",
        "colab": {
          "base_uri": "https://localhost:8080/",
          "height": 295
        },
        "outputId": "4831f088-966b-44a0-a6b6-353647379039"
      },
      "source": [
        "# Graficamos similarmente para los datos de precision (accurracy)\n",
        "plt.clf() #Clears the figure \n",
        "acc_values = history_dict['acc'] \n",
        "val_acc = history_dict['val_acc']\n",
        "plt.plot(epochs, acc, 'bo', label='Training acc') \n",
        "plt.plot(epochs, val_acc, 'b', label='Validation acc') \n",
        "plt.title('Training and validation accuracy') \n",
        "plt.xlabel('Epochs')\n",
        "plt.ylabel('Loss') \n",
        "plt.legend()\n",
        "plt.show()\n",
        "\n",
        "# Aqui hay otra forma de ver lo mismo que se describio con la perdida (loss)\n",
        "# Los datos de precision estan mejor cada epch para los datos de entrenamiento\n",
        "# pero se alejan de ser precisos para los datos nuevos (datos de validacion)"
      ],
      "execution_count": 14,
      "outputs": [
        {
          "output_type": "display_data",
          "data": {
            "image/png": "[encoded data removed]",
            "text/plain": [
              "<Figure size 432x288 with 1 Axes>"
            ]
          },
          "metadata": {
            "tags": [],
            "needs_background": "light"
          }
        }
      ]
    },
    {
      "cell_type": "markdown",
      "metadata": {
        "id": "xHqLSPTpASyi",
        "colab_type": "text"
      },
      "source": [
        "# Retraining a model from scratch"
      ]
    },
    {
      "cell_type": "code",
      "metadata": {
        "id": "tZt0ePtfmOPU",
        "colab_type": "code",
        "colab": {
          "base_uri": "https://localhost:8080/",
          "height": 187
        },
        "outputId": "2fbfea6e-ecf1-4fc8-d6a8-70f498019c17"
      },
      "source": [
        "model = models.Sequential()\n",
        "model.add(layers.Dense(16, activation='relu', input_shape=(10000,))) \n",
        "model.add(layers.Dense(16, activation='relu')) \n",
        "model.add(layers.Dense(1, activation='sigmoid'))\n",
        "model.compile(optimizer='rmsprop', loss='binary_crossentropy', metrics=['accuracy'])\n",
        "model.fit(x_train, y_train, epochs=4, batch_size=512) \n",
        "results = model.evaluate(x_test, y_test)\n",
        "print(results)\n",
        "\n",
        "# Siguiendo la recomendacion para evitar el overfiting y solo entrenar el modelo 4 epochs, \n",
        "# la precision/accurracy llega SOLO al 88%"
      ],
      "execution_count": 15,
      "outputs": [
        {
          "output_type": "stream",
          "text": [
            "Epoch 1/4\n",
            "25000/25000 [==============================] - 3s 137us/step - loss: 0.4502 - accuracy: 0.8318\n",
            "Epoch 2/4\n",
            "25000/25000 [==============================] - 2s 80us/step - loss: 0.2580 - accuracy: 0.9087\n",
            "Epoch 3/4\n",
            "25000/25000 [==============================] - 2s 71us/step - loss: 0.1993 - accuracy: 0.9280\n",
            "Epoch 4/4\n",
            "25000/25000 [==============================] - 2s 71us/step - loss: 0.1676 - accuracy: 0.9386\n",
            "25000/25000 [==============================] - 2s 69us/step\n",
            "[0.29734885648727416, 0.88264000415802]\n"
          ],
          "name": "stdout"
        }
      ]
    },
    {
      "cell_type": "code",
      "metadata": {
        "id": "YbkpOpmZVQ1a",
        "colab_type": "code",
        "colab": {
          "base_uri": "https://localhost:8080/",
          "height": 136
        },
        "outputId": "53fbe442-f2cf-443b-c999-bc55a4d483b1"
      },
      "source": [
        "# Usamos el modelo para predecir sobre los datos de test\n",
        "model.predict (x_test)"
      ],
      "execution_count": 16,
      "outputs": [
        {
          "output_type": "execute_result",
          "data": {
            "text/plain": [
              "array([[0.13669622],\n",
              "       [0.99978757],\n",
              "       [0.7190314 ],\n",
              "       ...,\n",
              "       [0.10576409],\n",
              "       [0.06172177],\n",
              "       [0.6298901 ]], dtype=float32)"
            ]
          },
          "metadata": {
            "tags": []
          },
          "execution_count": 16
        }
      ]
    },
    {
      "cell_type": "markdown",
      "metadata": {
        "id": "IXbiCAyNWhbZ",
        "colab_type": "text"
      },
      "source": [
        "# Homework\n",
        "Further experiments\n",
        "The following experiments will help convince you that the architecture choices you’ve made are all fairly reasonable, although there’s still room for improvement:\n",
        "- You used two hidden layers. Try using one or three hidden layers, and see how doing so affects validation and test accuracy.\n",
        "- Try using layers with more hidden units or fewer hidden units: 32 units, 64 units, and so on.\n",
        "- Try using the mse loss function instead of binary_crossentropy.\n",
        "- Try using the tanh activation (an activation that was popular in the early days of\n",
        "neural networks) instead of relu."
      ]
    },
    {
      "cell_type": "code",
      "metadata": {
        "id": "ahkqNor5RsA3",
        "colab_type": "code",
        "colab": {
          "base_uri": "https://localhost:8080/",
          "height": 34
        },
        "outputId": "555931b3-08e2-429e-c996-0398390d2e21"
      },
      "source": [
        "import tensorflow as tf\n",
        "mydict = tf.keras.datasets.imdb.get_word_index(\n",
        "    path='imdb_word_index.json'\n",
        ")\n",
        "list(mydict)[0:5]"
      ],
      "execution_count": 17,
      "outputs": [
        {
          "output_type": "execute_result",
          "data": {
            "text/plain": [
              "['fawn', 'tsukino', 'nunnery', 'sonja', 'vani']"
            ]
          },
          "metadata": {
            "tags": []
          },
          "execution_count": 17
        }
      ]
    },
    {
      "cell_type": "code",
      "metadata": {
        "id": "F6_9EVfVS_Wn",
        "colab_type": "code",
        "colab": {}
      },
      "source": [
        ""
      ],
      "execution_count": 17,
      "outputs": []
    },
    {
      "cell_type": "code",
      "metadata": {
        "id": "A4tFiphOS9Qo",
        "colab_type": "code",
        "colab": {}
      },
      "source": [
        ""
      ],
      "execution_count": 17,
      "outputs": []
    },
    {
      "cell_type": "code",
      "metadata": {
        "id": "6sNAVcQ3S2I3",
        "colab_type": "code",
        "colab": {}
      },
      "source": [
        ""
      ],
      "execution_count": 17,
      "outputs": []
    },
    {
      "cell_type": "code",
      "metadata": {
        "id": "TkOLZVvaSw7h",
        "colab_type": "code",
        "colab": {}
      },
      "source": [
        ""
      ],
      "execution_count": 17,
      "outputs": []
    },
    {
      "cell_type": "code",
      "metadata": {
        "id": "_mp1pqyZRp5x",
        "colab_type": "code",
        "colab": {}
      },
      "source": [
        ""
      ],
      "execution_count": 17,
      "outputs": []
    },
    {
      "cell_type": "code",
      "metadata": {
        "id": "IWvrdT-iRn9-",
        "colab_type": "code",
        "colab": {}
      },
      "source": [
        ""
      ],
      "execution_count": 17,
      "outputs": []
    },
    {
      "cell_type": "code",
      "metadata": {
        "id": "87dsTr5qRZ-r",
        "colab_type": "code",
        "colab": {}
      },
      "source": [
        ""
      ],
      "execution_count": 17,
      "outputs": []
    },
    {
      "cell_type": "code",
      "metadata": {
        "id": "i14RTmrXRYZo",
        "colab_type": "code",
        "colab": {}
      },
      "source": [
        ""
      ],
      "execution_count": 17,
      "outputs": []
    }
  ]
}