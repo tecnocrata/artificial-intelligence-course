{
  "nbformat": 4,
  "nbformat_minor": 0,
  "metadata": {
    "colab": {
      "name": "3.Multiclass-Classification.ipynb",
      "provenance": [],
      "authorship_tag": "ABX9TyMrAx9sNclawCPM5yZovTSH",
      "include_colab_link": true
    },
    "kernelspec": {
      "name": "python3",
      "display_name": "Python 3"
    }
  },
  "cells": [
    {
      "cell_type": "markdown",
      "metadata": {
        "id": "view-in-github",
        "colab_type": "text"
      },
      "source": [
        "<a href=\"https://colab.research.google.com/github/tecnocrata/artificial-intelligence-course/blob/master/2.deep-learning-with-python/3_Multiclass_Classification.ipynb\" target=\"_parent\"><img src=\"https://colab.research.google.com/assets/colab-badge.svg\" alt=\"Open In Colab\"/></a>"
      ]
    },
    {
      "cell_type": "code",
      "metadata": {
        "id": "i7NlBj_4ZNE8",
        "colab_type": "code",
        "colab": {}
      },
      "source": [
        "# From chapter 3 and 3.5\n",
        "# Classifying newswires into 46 mutually exclusive topics\n",
        "# Importing Reuters dataset\n",
        "from keras.datasets import reuters\n",
        "# Words are ranked by how often they occur (in the training set) and only the num_words most frequent words are kept.\n",
        "(train_data, train_labels), (test_data, test_labels) = reuters.load_data( num_words=10000)"
      ],
      "execution_count": 84,
      "outputs": []
    },
    {
      "cell_type": "markdown",
      "metadata": {
        "id": "mJyfc-LCdtIy",
        "colab_type": "text"
      },
      "source": [
        "# Analyzing the data"
      ]
    },
    {
      "cell_type": "code",
      "metadata": {
        "id": "T7SuysBbdisd",
        "colab_type": "code",
        "colab": {
          "base_uri": "https://localhost:8080/",
          "height": 51
        },
        "outputId": "8a26967c-babc-4060-a96f-14da51dcc779"
      },
      "source": [
        "# We have 8,982 training examples and 2,246 test examples\n",
        "print (len(train_data))\n",
        "print (len(test_data))"
      ],
      "execution_count": 85,
      "outputs": [
        {
          "output_type": "stream",
          "text": [
            "8982\n",
            "2246\n"
          ],
          "name": "stdout"
        }
      ]
    },
    {
      "cell_type": "code",
      "metadata": {
        "id": "E_Cf3dygeFHc",
        "colab_type": "code",
        "colab": {
          "base_uri": "https://localhost:8080/",
          "height": 54
        },
        "outputId": "6530ac7f-e487-4a99-83c9-b7aa912ec03e"
      },
      "source": [
        "# As with the IMDB reviews, each example is a list of integers (word indices):\n",
        "print(train_data[0])"
      ],
      "execution_count": 86,
      "outputs": [
        {
          "output_type": "stream",
          "text": [
            "[1, 2, 2, 8, 43, 10, 447, 5, 25, 207, 270, 5, 3095, 111, 16, 369, 186, 90, 67, 7, 89, 5, 19, 102, 6, 19, 124, 15, 90, 67, 84, 22, 482, 26, 7, 48, 4, 49, 8, 864, 39, 209, 154, 6, 151, 6, 83, 11, 15, 22, 155, 11, 15, 7, 48, 9, 4579, 1005, 504, 6, 258, 6, 272, 11, 15, 22, 134, 44, 11, 15, 16, 8, 197, 1245, 90, 67, 52, 29, 209, 30, 32, 132, 6, 109, 15, 17, 12]\n"
          ],
          "name": "stdout"
        }
      ]
    },
    {
      "cell_type": "code",
      "metadata": {
        "id": "uX8JW544ebKv",
        "colab_type": "code",
        "colab": {
          "base_uri": "https://localhost:8080/",
          "height": 52
        },
        "outputId": "ad87985c-13cc-4315-c446-dc891485a523"
      },
      "source": [
        "# Again as with IMDB the previous array encodes the news\n",
        "def decode_review(review):\n",
        "  word_index = reuters.get_word_index()\n",
        "  reverse_word_index = dict([(value, key) for (key, value) in word_index.items()])\n",
        "  # Decodes the review. Note that the indices are offset by 3 because 0, 1, and 2 are reserved indices for “padding,” “start of sequence,” and “unknown.”\n",
        "  decoded_review = ' '.join([reverse_word_index.get(i - 3, '?') for i in review])\n",
        "  return decoded_review\n",
        "decode_review (train_data[0])"
      ],
      "execution_count": 87,
      "outputs": [
        {
          "output_type": "execute_result",
          "data": {
            "application/vnd.google.colaboratory.intrinsic+json": {
              "type": "string"
            },
            "text/plain": [
              "'? ? ? said as a result of its december acquisition of space co it expects earnings per share in 1987 of 1 15 to 1 30 dlrs per share up from 70 cts in 1986 the company said pretax net should rise to nine to 10 mln dlrs from six mln dlrs in 1986 and rental operation revenues to 19 to 22 mln dlrs from 12 5 mln dlrs it said cash flow per share this year should be 2 50 to three dlrs reuter 3'"
            ]
          },
          "metadata": {
            "tags": []
          },
          "execution_count": 87
        }
      ]
    },
    {
      "cell_type": "code",
      "metadata": {
        "id": "wMWJNNehfdOU",
        "colab_type": "code",
        "colab": {
          "base_uri": "https://localhost:8080/",
          "height": 34
        },
        "outputId": "81b9b4ac-f84e-413e-bb1f-d280ff8b3b45"
      },
      "source": [
        "# The labels for the previous news is\n",
        "print (train_labels[0])\n",
        "# Como dije anteriormente hay 46 posibles labels/clases o salidas por cada noticia\n",
        "# En este caso se esta asignando el valor 3\n"
      ],
      "execution_count": 88,
      "outputs": [
        {
          "output_type": "stream",
          "text": [
            "3\n"
          ],
          "name": "stdout"
        }
      ]
    },
    {
      "cell_type": "markdown",
      "metadata": {
        "id": "xn4TcJ4AgcVZ",
        "colab_type": "text"
      },
      "source": [
        "# Preparing the data\n",
        "### One-hot encoding (train & test) inputs"
      ]
    },
    {
      "cell_type": "code",
      "metadata": {
        "id": "dERaV3ZEf3Dp",
        "colab_type": "code",
        "colab": {
          "base_uri": "https://localhost:8080/",
          "height": 173
        },
        "outputId": "18ff63d5-c11b-40d4-c436-d0ee30802f45"
      },
      "source": [
        "import numpy as np\n",
        "#def vectorize_sequences(sequences, dimension=10000): \n",
        "def onehot_encode(sequences, dimension=10000): \n",
        "  # Creamos una matriz de ceros de cantidad de elementos x 10000\n",
        "  results = np.zeros((len(sequences), dimension)) \n",
        "  for i, sequence in enumerate(sequences):\n",
        "    # ponemos 1 solo en la posicion de ese numero\n",
        "    results[i, sequence] = 1\n",
        "  return results\n",
        "\n",
        "# Prepare data, encoding into 0s and 1s vector\n",
        "x_train = onehot_encode (train_data)\n",
        "x_test = onehot_encode(test_data)\n",
        "\n",
        "print (train_data[0])\n",
        "# Obteniendo elementos unicos\n",
        "print (set(train_data[0]))\n",
        "# Cuantos elementos unicos tengo\n",
        "print ('Unique elements ...', len(set(train_data[0])))\n",
        "print (x_train[0])\n",
        "unique, counts = np.unique(x_train[0], return_counts=True)\n",
        "print ('x train encoded contains 10000 input values')\n",
        "print (len(x_train[0]))\n",
        "# Observese que hay 57 1s (unos) dentro de un array de 10 mil. \n",
        "# Esto quiere decir que los anteriores 57 Unique elements, estan encodeados como 1s en ese array\n",
        "print ('there are only 57 ones')\n",
        "print (dict(zip(unique, counts)))\n"
      ],
      "execution_count": 89,
      "outputs": [
        {
          "output_type": "stream",
          "text": [
            "[1, 2, 2, 8, 43, 10, 447, 5, 25, 207, 270, 5, 3095, 111, 16, 369, 186, 90, 67, 7, 89, 5, 19, 102, 6, 19, 124, 15, 90, 67, 84, 22, 482, 26, 7, 48, 4, 49, 8, 864, 39, 209, 154, 6, 151, 6, 83, 11, 15, 22, 155, 11, 15, 7, 48, 9, 4579, 1005, 504, 6, 258, 6, 272, 11, 15, 22, 134, 44, 11, 15, 16, 8, 197, 1245, 90, 67, 52, 29, 209, 30, 32, 132, 6, 109, 15, 17, 12]\n",
            "{1, 2, 258, 4, 5, 6, 7, 8, 9, 10, 11, 134, 132, 270, 15, 16, 272, 17, 19, 12, 22, 3095, 151, 25, 26, 154, 155, 29, 30, 32, 39, 43, 44, 48, 49, 52, 186, 447, 67, 197, 207, 209, 83, 84, 89, 90, 1245, 864, 482, 4579, 102, 1005, 109, 111, 369, 504, 124}\n",
            "Unique elements ... 57\n",
            "[0. 1. 1. ... 0. 0. 0.]\n",
            "x train encoded contains 10000 input values\n",
            "10000\n",
            "there are only 57 ones\n",
            "{0.0: 9943, 1.0: 57}\n"
          ],
          "name": "stdout"
        }
      ]
    },
    {
      "cell_type": "code",
      "metadata": {
        "id": "K9TYLIiQiB-3",
        "colab_type": "code",
        "colab": {}
      },
      "source": [
        "# Note that there is a built-in way to do this in Keras, using to_categorical function\n",
        "from keras.utils.np_utils import to_categorical\n",
        "one_hot_train_labels = to_categorical(train_labels) \n",
        "one_hot_test_labels = to_categorical(test_labels)\n"
      ],
      "execution_count": 90,
      "outputs": []
    },
    {
      "cell_type": "markdown",
      "metadata": {
        "id": "-eLG4q18gUlk",
        "colab_type": "text"
      },
      "source": [
        "# Building the model architecture\n",
        "In the previous example, you used 16-dimensional intermediate layers, but a 16-dimensional space may be too limited to learn to separate 46 different classes: such small layers may act as infor- mation bottlenecks, permanently dropping relevant information.\n",
        "For this reason you’ll use larger layers. Let’s go with 64 units"
      ]
    },
    {
      "cell_type": "code",
      "metadata": {
        "id": "hZB_hAy9h9K5",
        "colab_type": "code",
        "colab": {}
      },
      "source": [
        "from keras import models\n",
        "from keras import layers\n",
        "model = models.Sequential()\n",
        "model.add(layers.Dense(64, activation='relu', input_shape=(10000,))) \n",
        "model.add(layers.Dense(64, activation='relu')) \n",
        "# we end the network with a Dense layer of size 46, because there are 46 possible classes\n",
        "# The last layer uses a softmax activation. It means the network will output a probability distribution over the 46 different output classes\n",
        "# In other words: The 46 scores will sum to 1.\n",
        "model.add(layers.Dense(46, activation='softmax'))"
      ],
      "execution_count": 91,
      "outputs": []
    },
    {
      "cell_type": "code",
      "metadata": {
        "id": "ra-WkFNGg7HZ",
        "colab_type": "code",
        "colab": {}
      },
      "source": [
        "# The best loss function to use in this case is categorical_crossentropy. \n",
        "# It measures the distance between two probability distributions: here, \n",
        "# between the probability dis- tribution output by the network and the true distribution of the labels. \n",
        "# By minimizing the distance between these two distributions, \n",
        "# you train the network to output some- thing as close as possible to the true labels.\n",
        "\n",
        "model.compile(optimizer='rmsprop', loss='categorical_crossentropy', metrics=['accuracy'])"
      ],
      "execution_count": 92,
      "outputs": []
    },
    {
      "cell_type": "markdown",
      "metadata": {
        "id": "u5y75FkFh2Gj",
        "colab_type": "text"
      },
      "source": [
        "# Validating the approach\n",
        "In order to monitor during training the accuracy of the model on data it has never seen before, you’ll create a validation set by setting apart 10,000 samples from the original training data."
      ]
    },
    {
      "cell_type": "code",
      "metadata": {
        "id": "62fi378-h1Yi",
        "colab_type": "code",
        "colab": {
          "base_uri": "https://localhost:8080/",
          "height": 714
        },
        "outputId": "7fbf7cb6-de57-431e-fa02-ecbd9755a66c"
      },
      "source": [
        "x_val = x_train[:1000] \n",
        "partial_x_train = x_train[1000:]\n",
        "y_val = one_hot_train_labels[:1000] \n",
        "partial_y_train = one_hot_train_labels[1000:]\n",
        "\n",
        "# Now, let’s train the network for 20 epochs.\n",
        "history = model.fit(partial_x_train, partial_y_train, epochs=20, batch_size=512, validation_data=(x_val, y_val))"
      ],
      "execution_count": 93,
      "outputs": [
        {
          "output_type": "stream",
          "text": [
            "Train on 7982 samples, validate on 1000 samples\n",
            "Epoch 1/20\n",
            "7982/7982 [==============================] - 1s 154us/step - loss: 2.6326 - accuracy: 0.4737 - val_loss: 1.7996 - val_accuracy: 0.6140\n",
            "Epoch 2/20\n",
            "7982/7982 [==============================] - 1s 163us/step - loss: 1.4497 - accuracy: 0.6971 - val_loss: 1.3207 - val_accuracy: 0.7060\n",
            "Epoch 3/20\n",
            "7982/7982 [==============================] - 1s 162us/step - loss: 1.0475 - accuracy: 0.7724 - val_loss: 1.1254 - val_accuracy: 0.7570\n",
            "Epoch 4/20\n",
            "7982/7982 [==============================] - 1s 159us/step - loss: 0.8206 - accuracy: 0.8222 - val_loss: 1.0186 - val_accuracy: 0.7870\n",
            "Epoch 5/20\n",
            "7982/7982 [==============================] - 1s 134us/step - loss: 0.6518 - accuracy: 0.8588 - val_loss: 0.9652 - val_accuracy: 0.7900\n",
            "Epoch 6/20\n",
            "7982/7982 [==============================] - 1s 145us/step - loss: 0.5224 - accuracy: 0.8908 - val_loss: 0.9159 - val_accuracy: 0.8050\n",
            "Epoch 7/20\n",
            "7982/7982 [==============================] - 1s 158us/step - loss: 0.4227 - accuracy: 0.9116 - val_loss: 0.8756 - val_accuracy: 0.8140\n",
            "Epoch 8/20\n",
            "7982/7982 [==============================] - 1s 139us/step - loss: 0.3449 - accuracy: 0.9261 - val_loss: 0.8717 - val_accuracy: 0.8100\n",
            "Epoch 9/20\n",
            "7982/7982 [==============================] - 1s 130us/step - loss: 0.2809 - accuracy: 0.9387 - val_loss: 0.8892 - val_accuracy: 0.8120\n",
            "Epoch 10/20\n",
            "7982/7982 [==============================] - 1s 130us/step - loss: 0.2394 - accuracy: 0.9445 - val_loss: 0.8998 - val_accuracy: 0.8080\n",
            "Epoch 11/20\n",
            "7982/7982 [==============================] - 1s 130us/step - loss: 0.2051 - accuracy: 0.9490 - val_loss: 0.9071 - val_accuracy: 0.8270\n",
            "Epoch 12/20\n",
            "7982/7982 [==============================] - 1s 130us/step - loss: 0.1834 - accuracy: 0.9531 - val_loss: 0.9071 - val_accuracy: 0.8140\n",
            "Epoch 13/20\n",
            "7982/7982 [==============================] - 1s 152us/step - loss: 0.1615 - accuracy: 0.9529 - val_loss: 0.9422 - val_accuracy: 0.8100\n",
            "Epoch 14/20\n",
            "7982/7982 [==============================] - 1s 137us/step - loss: 0.1465 - accuracy: 0.9578 - val_loss: 0.9847 - val_accuracy: 0.8070\n",
            "Epoch 15/20\n",
            "7982/7982 [==============================] - 1s 131us/step - loss: 0.1336 - accuracy: 0.9578 - val_loss: 0.9524 - val_accuracy: 0.8170\n",
            "Epoch 16/20\n",
            "7982/7982 [==============================] - 1s 136us/step - loss: 0.1338 - accuracy: 0.9546 - val_loss: 0.9974 - val_accuracy: 0.8140\n",
            "Epoch 17/20\n",
            "7982/7982 [==============================] - 1s 132us/step - loss: 0.1268 - accuracy: 0.9543 - val_loss: 1.0034 - val_accuracy: 0.8110\n",
            "Epoch 18/20\n",
            "7982/7982 [==============================] - 1s 153us/step - loss: 0.1177 - accuracy: 0.9574 - val_loss: 1.0417 - val_accuracy: 0.8110\n",
            "Epoch 19/20\n",
            "7982/7982 [==============================] - 1s 162us/step - loss: 0.1118 - accuracy: 0.9583 - val_loss: 1.0995 - val_accuracy: 0.7980\n",
            "Epoch 20/20\n",
            "7982/7982 [==============================] - 1s 162us/step - loss: 0.1121 - accuracy: 0.9588 - val_loss: 1.0631 - val_accuracy: 0.8060\n"
          ],
          "name": "stdout"
        }
      ]
    },
    {
      "cell_type": "code",
      "metadata": {
        "id": "A6r975d2m03y",
        "colab_type": "code",
        "colab": {
          "base_uri": "https://localhost:8080/",
          "height": 68
        },
        "outputId": "6a232271-1003-49b2-a008-52374a61b5bc"
      },
      "source": [
        "# Analyzin history.history\n",
        "history_dict = history.history\n",
        "print (history_dict.keys())\n",
        "print (len(history_dict['val_loss']))\n",
        "print (len(history_dict['val_accuracy']))"
      ],
      "execution_count": 94,
      "outputs": [
        {
          "output_type": "stream",
          "text": [
            "dict_keys(['val_loss', 'val_accuracy', 'loss', 'accuracy'])\n",
            "20\n",
            "20\n"
          ],
          "name": "stdout"
        }
      ]
    },
    {
      "cell_type": "markdown",
      "metadata": {
        "id": "EklxgvOeladE",
        "colab_type": "text"
      },
      "source": [
        "### Plotting the training and validation loss"
      ]
    },
    {
      "cell_type": "code",
      "metadata": {
        "id": "wZkwmrNTlC12",
        "colab_type": "code",
        "colab": {
          "base_uri": "https://localhost:8080/",
          "height": 295
        },
        "outputId": "ee039a0f-8901-4a59-843a-93822e6b49f7"
      },
      "source": [
        "import matplotlib.pyplot as plt\n",
        "loss = history.history['loss'] \n",
        "val_loss = history.history['val_loss']\n",
        "epochs = range(1, len(loss) + 1)\n",
        "plt.plot(epochs, loss, 'bo', label='Training loss') \n",
        "plt.plot(epochs, val_loss, 'b', label='Validation loss') \n",
        "plt.title('Training and validation loss') \n",
        "plt.xlabel('Epochs')\n",
        "plt.ylabel('Loss') \n",
        "plt.legend()\n",
        "plt.show()\n",
        "\n",
        "# La curva de puntos es la perdida en el entrenamiento, a menor perdida mejor!\n",
        "# La curva solida es la perdida con los datos de validacion\n",
        "# Si observamos en el entreamiento la perdida se acerca a cero, lo q es bueno!\n",
        "# PERO cuando usamos el modelo con los datos de validacion, la perdida se dispara a partir de la 8-9 epoch"
      ],
      "execution_count": 95,
      "outputs": [
        {
          "output_type": "display_data",
          "data": {
            "image/png": "[encoded data removed]",
            "text/plain": [
              "<Figure size 432x288 with 1 Axes>"
            ]
          },
          "metadata": {
            "tags": [],
            "needs_background": "light"
          }
        }
      ]
    },
    {
      "cell_type": "markdown",
      "metadata": {
        "id": "wtWl5eVYlpmT",
        "colab_type": "text"
      },
      "source": [
        "### Plotting the training and validation accuracy"
      ]
    },
    {
      "cell_type": "code",
      "metadata": {
        "id": "vWs976Xplrwe",
        "colab_type": "code",
        "colab": {
          "base_uri": "https://localhost:8080/",
          "height": 295
        },
        "outputId": "370954a1-9ce4-4e1c-8852-0e262be39c70"
      },
      "source": [
        "# Graficamos similarmente para los datos de precision (accurracy)\n",
        "plt.clf() #Clears the figure\n",
        "acc = history.history['accuracy']\n",
        "val_acc = history.history['val_accuracy']\n",
        "plt.plot(epochs, acc, 'bo', label='Training acc') \n",
        "plt.plot(epochs, val_acc, 'b', label='Validation acc') \n",
        "plt.title('Training and validation accuracy') \n",
        "plt.xlabel('Epochs')\n",
        "plt.ylabel('Loss') \n",
        "plt.legend()\n",
        "plt.show()\n",
        "\n",
        "# Esto es otra forma de verlo\n",
        "# Con los datos de entreamiento (puntos) cada vez hay mayor presicion (cerca a 1)\n",
        "# Con los datos de validacion (solida) a partir de la 6ta-9na epoch, no se mejora la precision\n",
        "# Esto es el overfiting"
      ],
      "execution_count": 96,
      "outputs": [
        {
          "output_type": "display_data",
          "data": {
            "image/png": "[encoded data removed]",
            "text/plain": [
              "<Figure size 432x288 with 1 Axes>"
            ]
          },
          "metadata": {
            "tags": [],
            "needs_background": "light"
          }
        }
      ]
    },
    {
      "cell_type": "markdown",
      "metadata": {
        "id": "p7fYSxiQMrVO",
        "colab_type": "text"
      },
      "source": [
        "# Retraining a model from scratch"
      ]
    },
    {
      "cell_type": "code",
      "metadata": {
        "id": "58znk7FXMq68",
        "colab_type": "code",
        "colab": {
          "base_uri": "https://localhost:8080/",
          "height": 374
        },
        "outputId": "48525020-fdc6-452f-c4e3-68a359109be7"
      },
      "source": [
        "model = models.Sequential()\n",
        "model.add(layers.Dense(64, activation='relu', input_shape=(10000,))) \n",
        "model.add(layers.Dense(64, activation='relu')) \n",
        "model.add(layers.Dense(46, activation='softmax'))\n",
        "model.compile(optimizer='rmsprop', loss='categorical_crossentropy',metrics=['accuracy']) \n",
        "# Esta vez solamente 9 epochs\n",
        "model.fit(partial_x_train, partial_y_train, epochs=9, batch_size=512, validation_data=(x_val, y_val))\n",
        "# Probamos el modelo entrenado con los datos de prueba\n",
        "results = model.evaluate(x_test, one_hot_test_labels)\n",
        "results\n",
        "\n",
        "# La precision esta cercana al 80%"
      ],
      "execution_count": 97,
      "outputs": [
        {
          "output_type": "stream",
          "text": [
            "Train on 7982 samples, validate on 1000 samples\n",
            "Epoch 1/9\n",
            "7982/7982 [==============================] - 1s 162us/step - loss: 2.5588 - accuracy: 0.5291 - val_loss: 1.6989 - val_accuracy: 0.6500\n",
            "Epoch 2/9\n",
            "7982/7982 [==============================] - 1s 163us/step - loss: 1.3917 - accuracy: 0.7001 - val_loss: 1.3069 - val_accuracy: 0.7060\n",
            "Epoch 3/9\n",
            "7982/7982 [==============================] - 1s 166us/step - loss: 1.0504 - accuracy: 0.7749 - val_loss: 1.1600 - val_accuracy: 0.7440\n",
            "Epoch 4/9\n",
            "7982/7982 [==============================] - 1s 136us/step - loss: 0.8410 - accuracy: 0.8206 - val_loss: 1.0503 - val_accuracy: 0.7690\n",
            "Epoch 5/9\n",
            "7982/7982 [==============================] - 1s 145us/step - loss: 0.6770 - accuracy: 0.8537 - val_loss: 1.0013 - val_accuracy: 0.7840\n",
            "Epoch 6/9\n",
            "7982/7982 [==============================] - 1s 147us/step - loss: 0.5498 - accuracy: 0.8844 - val_loss: 0.9406 - val_accuracy: 0.8090\n",
            "Epoch 7/9\n",
            "7982/7982 [==============================] - 1s 156us/step - loss: 0.4442 - accuracy: 0.9055 - val_loss: 0.9508 - val_accuracy: 0.8020\n",
            "Epoch 8/9\n",
            "7982/7982 [==============================] - 1s 161us/step - loss: 0.3606 - accuracy: 0.9230 - val_loss: 0.8961 - val_accuracy: 0.8150\n",
            "Epoch 9/9\n",
            "7982/7982 [==============================] - 1s 152us/step - loss: 0.3036 - accuracy: 0.9308 - val_loss: 0.9346 - val_accuracy: 0.8050\n",
            "2246/2246 [==============================] - 0s 99us/step\n"
          ],
          "name": "stdout"
        },
        {
          "output_type": "execute_result",
          "data": {
            "text/plain": [
              "[1.0260190360798755, 0.7791629433631897]"
            ]
          },
          "metadata": {
            "tags": []
          },
          "execution_count": 97
        }
      ]
    },
    {
      "cell_type": "code",
      "metadata": {
        "id": "T1sfS8JfN3os",
        "colab_type": "code",
        "colab": {
          "base_uri": "https://localhost:8080/",
          "height": 34
        },
        "outputId": "a5830bb3-a94c-480d-d199-d893688d20e3"
      },
      "source": [
        "import copy\n",
        "test_labels_copy = copy.copy(test_labels)\n",
        "np.random.shuffle(test_labels_copy)\n",
        "hits_array = np.array(test_labels) == np.array(test_labels_copy) \n",
        "float(np.sum(hits_array)) / len(test_labels)\n",
        "# Usando un clasificador randomico la precision es cercana al 18% - 19%\n",
        "# Esto quiere decir que el modelo anterior y su precision cercana al 80% es mucho mejor"
      ],
      "execution_count": 98,
      "outputs": [
        {
          "output_type": "execute_result",
          "data": {
            "text/plain": [
              "0.18210151380231523"
            ]
          },
          "metadata": {
            "tags": []
          },
          "execution_count": 98
        }
      ]
    },
    {
      "cell_type": "markdown",
      "metadata": {
        "id": "xSz3nlLQPIWn",
        "colab_type": "text"
      },
      "source": [
        "# Generating predictions on new data"
      ]
    },
    {
      "cell_type": "code",
      "metadata": {
        "id": "c1TAjVLwPMCe",
        "colab_type": "code",
        "colab": {
          "base_uri": "https://localhost:8080/",
          "height": 459
        },
        "outputId": "0aa039ba-d095-4bc2-fda5-b15544573478"
      },
      "source": [
        "# Vamos a usar el modelo en datos nuevos\n",
        "predictions = model.predict(x_test)\n",
        "\n",
        "# Tenemos 2246 datos de prueba\n",
        "print (x_test.shape)\n",
        "# Como resultado de la prediccion tenemos 2246 predicciones, cada una con 46 posibles clases\n",
        "print (predictions.shape)\n",
        "\n",
        "print (predictions[:2])"
      ],
      "execution_count": 99,
      "outputs": [
        {
          "output_type": "stream",
          "text": [
            "(2246, 10000)\n",
            "(2246, 46)\n",
            "[[1.57957795e-04 7.85357915e-05 5.65465234e-06 9.45796072e-01\n",
            "  3.90761904e-02 3.16084916e-05 1.81761308e-04 7.09448796e-05\n",
            "  1.72466121e-03 5.24415955e-05 2.24832274e-05 7.03380303e-03\n",
            "  7.54322537e-05 1.84312958e-04 2.93324265e-04 4.08330270e-05\n",
            "  3.31815245e-04 2.00982104e-05 7.88871694e-05 3.55502816e-05\n",
            "  1.74652936e-03 1.13044574e-03 3.25170113e-05 2.95032914e-05\n",
            "  9.11855568e-06 7.20847820e-05 5.24715324e-06 2.05301098e-04\n",
            "  2.17677716e-05 1.83567608e-04 2.52998580e-04 3.19192157e-04\n",
            "  7.39200595e-06 3.17830272e-05 9.32413241e-05 3.32658201e-05\n",
            "  1.38445088e-04 2.05781635e-05 2.08754482e-05 1.38004412e-04\n",
            "  1.89076945e-05 3.08933086e-05 1.00147745e-05 1.44320395e-04\n",
            "  9.44279600e-06 2.18853666e-06]\n",
            " [1.87831896e-03 1.01682730e-02 6.63932636e-02 2.29556426e-05\n",
            "  2.35371990e-04 1.04038296e-02 3.69010319e-04 2.08308775e-04\n",
            "  4.99708462e-04 4.97972779e-03 7.66133070e-01 4.27722419e-03\n",
            "  4.51810332e-03 4.58003866e-04 3.07362876e-04 1.27286278e-03\n",
            "  4.70571127e-03 1.42245863e-05 7.81325216e-04 8.93763732e-04\n",
            "  1.61871202e-02 1.91798928e-04 4.84188320e-04 1.70504602e-04\n",
            "  2.39362810e-02 3.03138536e-03 2.02431064e-03 2.75670202e-04\n",
            "  6.52030557e-02 2.75210368e-05 2.02630268e-04 6.86956337e-03\n",
            "  2.03995878e-04 1.16613564e-05 5.65261907e-05 1.01064383e-04\n",
            "  1.43067664e-04 3.49967537e-04 5.50135563e-04 2.81783170e-04\n",
            "  3.25565234e-05 3.32512252e-04 3.65892047e-05 1.91567859e-04\n",
            "  1.18547097e-04 4.65444900e-04]]\n"
          ],
          "name": "stdout"
        }
      ]
    },
    {
      "cell_type": "code",
      "metadata": {
        "id": "n2LQOf1-QOrH",
        "colab_type": "code",
        "colab": {
          "base_uri": "https://localhost:8080/",
          "height": 34
        },
        "outputId": "64dc31e4-40f2-4f77-ca80-ce80f1f0a860"
      },
      "source": [
        "# Por ejemplo la prediccion para la primera entrada, tiene esas 46 salidas\n",
        "predictions[0].shape"
      ],
      "execution_count": 100,
      "outputs": [
        {
          "output_type": "execute_result",
          "data": {
            "text/plain": [
              "(46,)"
            ]
          },
          "metadata": {
            "tags": []
          },
          "execution_count": 100
        }
      ]
    },
    {
      "cell_type": "code",
      "metadata": {
        "id": "a-kbfcmkQ0C3",
        "colab_type": "code",
        "colab": {
          "base_uri": "https://localhost:8080/",
          "height": 34
        },
        "outputId": "c21ee24c-9b13-4802-bcaa-c9c652f9d8f2"
      },
      "source": [
        "# Como dijimos anteriormente, la suma de todas las 46 probabilidades, debe ser 1\n",
        "np.sum(predictions[0])"
      ],
      "execution_count": 101,
      "outputs": [
        {
          "output_type": "execute_result",
          "data": {
            "text/plain": [
              "0.9999999"
            ]
          },
          "metadata": {
            "tags": []
          },
          "execution_count": 101
        }
      ]
    },
    {
      "cell_type": "code",
      "metadata": {
        "id": "IpSm4y94RA41",
        "colab_type": "code",
        "colab": {
          "base_uri": "https://localhost:8080/",
          "height": 34
        },
        "outputId": "7f805efe-2bdc-4d79-f8bf-e9d9e7037d5a"
      },
      "source": [
        "# Obtenemos cual es la clase mas probable, es decir con la mayor probabilidad entre todas\n",
        "np.argmax(predictions[0])"
      ],
      "execution_count": 102,
      "outputs": [
        {
          "output_type": "execute_result",
          "data": {
            "text/plain": [
              "3"
            ]
          },
          "metadata": {
            "tags": []
          },
          "execution_count": 102
        }
      ]
    },
    {
      "cell_type": "markdown",
      "metadata": {
        "id": "XaBhmIFjVq1C",
        "colab_type": "text"
      },
      "source": [
        "# Additional tests"
      ]
    },
    {
      "cell_type": "code",
      "metadata": {
        "id": "N0O-9DwRP_kP",
        "colab_type": "code",
        "colab": {
          "base_uri": "https://localhost:8080/",
          "height": 374
        },
        "outputId": "fe6cf885-aff7-4b22-cd6a-deaa3fa9eed1"
      },
      "source": [
        "# Si queremos usar los inputs y outputs como numeros enteros, SIN usar one-hot encoding\n",
        "# Podemos usar esta funcion de perdida: sparse_categorical_crossentropy\n",
        "y_train = np.array(train_labels) \n",
        "y_test = np.array(test_labels)\n",
        "\n",
        "x_val = x_train[:1000] \n",
        "partial_x_train = x_train[1000:]\n",
        "y_val = y_train[:1000] #one_hot_train_labels[:1000] \n",
        "partial_y_train = y_train[1000:] #one_hot_train_labels[1000:]\n",
        "\n",
        "# Esta es la arquitectura inicial!!!\n",
        "# model = models.Sequential()\n",
        "# model.add(layers.Dense(64, activation='relu', input_shape=(10000,))) \n",
        "# model.add(layers.Dense(64, activation='relu')) \n",
        "# model.add(layers.Dense(46, activation='softmax'))\n",
        "# model.compile(optimizer='rmsprop', loss='categorical_crossentropy',metrics=['accuracy']) \n",
        "# # Esta vez solamente 9 epochs\n",
        "# model.fit(partial_x_train, partial_y_train, epochs=9, batch_size=512, validation_data=(x_val, y_val))\n",
        "# # Probamos el modelo entrenado con los datos de prueba\n",
        "# results = model.evaluate(x_test, one_hot_test_labels)\n",
        "# results\n",
        "\n",
        "\n",
        "model = models.Sequential()\n",
        "model.add(layers.Dense(64, activation='relu', input_shape=(10000,))) \n",
        "model.add(layers.Dense(64, activation='relu')) \n",
        "# # Note this won't affect the model output shape, it still outputs ten probability scores for each input sample.!!!!!!!!!!!\n",
        "model.add(layers.Dense(46, activation='softmax'))\n",
        "model.compile(optimizer='rmsprop', loss='sparse_categorical_crossentropy', metrics=['acc'])\n",
        "\n",
        "model.fit(partial_x_train, partial_y_train, epochs=9, batch_size=512, validation_data=(x_val, y_val))\n",
        "# Probamos el modelo entrenado con los datos de prueba\n",
        "results = model.evaluate(x_test, y_test) #one_hot_test_labels\n",
        "results\n",
        "\n",
        "# Obtenemos similares resultados cuando usamos one-hot encoding"
      ],
      "execution_count": 112,
      "outputs": [
        {
          "output_type": "stream",
          "text": [
            "Train on 7982 samples, validate on 1000 samples\n",
            "Epoch 1/9\n",
            "7982/7982 [==============================] - 1s 157us/step - loss: 2.6070 - acc: 0.5053 - val_loss: 1.7291 - val_acc: 0.6370\n",
            "Epoch 2/9\n",
            "7982/7982 [==============================] - 1s 131us/step - loss: 1.4152 - acc: 0.7058 - val_loss: 1.2990 - val_acc: 0.7140\n",
            "Epoch 3/9\n",
            "7982/7982 [==============================] - 1s 128us/step - loss: 1.0396 - acc: 0.7762 - val_loss: 1.1328 - val_acc: 0.7620\n",
            "Epoch 4/9\n",
            "7982/7982 [==============================] - 1s 130us/step - loss: 0.8204 - acc: 0.8232 - val_loss: 1.0428 - val_acc: 0.7830\n",
            "Epoch 5/9\n",
            "7982/7982 [==============================] - 1s 152us/step - loss: 0.6589 - acc: 0.8604 - val_loss: 0.9884 - val_acc: 0.7970\n",
            "Epoch 6/9\n",
            "7982/7982 [==============================] - 1s 140us/step - loss: 0.5282 - acc: 0.8899 - val_loss: 0.9443 - val_acc: 0.8070\n",
            "Epoch 7/9\n",
            "7982/7982 [==============================] - 1s 166us/step - loss: 0.4265 - acc: 0.9110 - val_loss: 0.9286 - val_acc: 0.8120\n",
            "Epoch 8/9\n",
            "7982/7982 [==============================] - 1s 163us/step - loss: 0.3468 - acc: 0.9258 - val_loss: 0.9079 - val_acc: 0.8150\n",
            "Epoch 9/9\n",
            "7982/7982 [==============================] - 1s 161us/step - loss: 0.2875 - acc: 0.9379 - val_loss: 0.9304 - val_acc: 0.8150\n",
            "2246/2246 [==============================] - 0s 125us/step\n"
          ],
          "name": "stdout"
        },
        {
          "output_type": "execute_result",
          "data": {
            "text/plain": [
              "[0.9924344706514109, 0.780053436756134]"
            ]
          },
          "metadata": {
            "tags": []
          },
          "execution_count": 112
        }
      ]
    },
    {
      "cell_type": "markdown",
      "metadata": {
        "id": "6TCxNqDMgmog",
        "colab_type": "text"
      },
      "source": [
        "# The importance of having sufficiently large intermediate layers\n",
        "You should avoid intermediate layers with many fewer than 46 hidden units. Now let’s see what happens when you introduce an information bottleneck by having intermediate layers that are significantly less than 46-dimensional: for example, 4-dimensional."
      ]
    },
    {
      "cell_type": "code",
      "metadata": {
        "id": "uHYUxT2Tgkjo",
        "colab_type": "code",
        "colab": {
          "base_uri": "https://localhost:8080/",
          "height": 748
        },
        "outputId": "c61b8f9c-c2e7-4233-cf5c-7fdd151fa131"
      },
      "source": [
        "# Volvemos a preparar los datos de entrenamiento por que se cambiaron en la anterior prueba\n",
        "x_val = x_train[:1000] \n",
        "partial_x_train = x_train[1000:]\n",
        "y_val = one_hot_train_labels[:1000] \n",
        "partial_y_train = one_hot_train_labels[1000:]\n",
        "\n",
        "model = models.Sequential()\n",
        "model.add(layers.Dense(64, activation='relu', input_shape=(10000,))) \n",
        "model.add(layers.Dense(4, activation='relu')) \n",
        "model.add(layers.Dense(46, activation='softmax'))\n",
        "model.compile(optimizer='rmsprop', loss='categorical_crossentropy', metrics=['accuracy']) \n",
        "model.fit(partial_x_train, partial_y_train, epochs=20, batch_size=128, validation_data=(x_val, y_val))\n",
        "\n",
        "# Probamos el modelo entrenado con los datos de prueba\n",
        "results = model.evaluate(x_test, one_hot_test_labels)\n",
        "results\n",
        "# Se observa que la precision solo alcanza el 70% - 71% esto es debido a que usamos solo neuronas en una capa intermedia"
      ],
      "execution_count": 114,
      "outputs": [
        {
          "output_type": "stream",
          "text": [
            "Train on 7982 samples, validate on 1000 samples\n",
            "Epoch 1/20\n",
            "7982/7982 [==============================] - 2s 210us/step - loss: 3.2181 - accuracy: 0.1654 - val_loss: 2.4674 - val_accuracy: 0.2420\n",
            "Epoch 2/20\n",
            "7982/7982 [==============================] - 2s 210us/step - loss: 1.8814 - accuracy: 0.5227 - val_loss: 1.6120 - val_accuracy: 0.5810\n",
            "Epoch 3/20\n",
            "7982/7982 [==============================] - 2s 214us/step - loss: 1.4007 - accuracy: 0.6059 - val_loss: 1.4510 - val_accuracy: 0.6100\n",
            "Epoch 4/20\n",
            "7982/7982 [==============================] - 2s 205us/step - loss: 1.1831 - accuracy: 0.6783 - val_loss: 1.3468 - val_accuracy: 0.6590\n",
            "Epoch 5/20\n",
            "7982/7982 [==============================] - 2s 220us/step - loss: 1.0277 - accuracy: 0.7403 - val_loss: 1.3106 - val_accuracy: 0.6880\n",
            "Epoch 6/20\n",
            "7982/7982 [==============================] - 2s 192us/step - loss: 0.9130 - accuracy: 0.7720 - val_loss: 1.3028 - val_accuracy: 0.7010\n",
            "Epoch 7/20\n",
            "7982/7982 [==============================] - 1s 169us/step - loss: 0.8251 - accuracy: 0.7889 - val_loss: 1.2826 - val_accuracy: 0.7060\n",
            "Epoch 8/20\n",
            "7982/7982 [==============================] - 2s 195us/step - loss: 0.7514 - accuracy: 0.7982 - val_loss: 1.2992 - val_accuracy: 0.7050\n",
            "Epoch 9/20\n",
            "7982/7982 [==============================] - 1s 186us/step - loss: 0.6880 - accuracy: 0.8128 - val_loss: 1.3309 - val_accuracy: 0.7080\n",
            "Epoch 10/20\n",
            "7982/7982 [==============================] - 1s 185us/step - loss: 0.6307 - accuracy: 0.8271 - val_loss: 1.3347 - val_accuracy: 0.7140\n",
            "Epoch 11/20\n",
            "7982/7982 [==============================] - 1s 178us/step - loss: 0.5805 - accuracy: 0.8441 - val_loss: 1.3869 - val_accuracy: 0.7100\n",
            "Epoch 12/20\n",
            "7982/7982 [==============================] - 2s 221us/step - loss: 0.5380 - accuracy: 0.8578 - val_loss: 1.4262 - val_accuracy: 0.7210\n",
            "Epoch 13/20\n",
            "7982/7982 [==============================] - 2s 193us/step - loss: 0.5033 - accuracy: 0.8670 - val_loss: 1.4263 - val_accuracy: 0.7200\n",
            "Epoch 14/20\n",
            "7982/7982 [==============================] - 2s 193us/step - loss: 0.4695 - accuracy: 0.8771 - val_loss: 1.4889 - val_accuracy: 0.7270\n",
            "Epoch 15/20\n",
            "7982/7982 [==============================] - 2s 223us/step - loss: 0.4399 - accuracy: 0.8844 - val_loss: 1.5162 - val_accuracy: 0.7220\n",
            "Epoch 16/20\n",
            "7982/7982 [==============================] - 1s 182us/step - loss: 0.4190 - accuracy: 0.8882 - val_loss: 1.5969 - val_accuracy: 0.7240\n",
            "Epoch 17/20\n",
            "7982/7982 [==============================] - 2s 191us/step - loss: 0.3958 - accuracy: 0.8949 - val_loss: 1.6581 - val_accuracy: 0.7220\n",
            "Epoch 18/20\n",
            "7982/7982 [==============================] - 1s 171us/step - loss: 0.3784 - accuracy: 0.8976 - val_loss: 1.6895 - val_accuracy: 0.7200\n",
            "Epoch 19/20\n",
            "7982/7982 [==============================] - 1s 171us/step - loss: 0.3629 - accuracy: 0.9013 - val_loss: 1.7762 - val_accuracy: 0.7140\n",
            "Epoch 20/20\n",
            "7982/7982 [==============================] - 1s 169us/step - loss: 0.3486 - accuracy: 0.9022 - val_loss: 1.8064 - val_accuracy: 0.7100\n",
            "2246/2246 [==============================] - 0s 221us/step\n"
          ],
          "name": "stdout"
        },
        {
          "output_type": "execute_result",
          "data": {
            "text/plain": [
              "[2.1288946150459567, 0.7079252004623413]"
            ]
          },
          "metadata": {
            "tags": []
          },
          "execution_count": 114
        }
      ]
    },
    {
      "cell_type": "markdown",
      "metadata": {
        "id": "FLj3bdApiJ8F",
        "colab_type": "text"
      },
      "source": [
        "# Conclusions\n",
        "- If you’re trying to classify data points among N classes, your network should end with a Dense layer of size N.\n",
        "- In a single-label, multiclass classification problem, your network should end with a softmax activation so that it will output a probability distribution over the N output classes.\n",
        "- Categorical crossentropy is almost always the loss function you should use for such problems. It minimizes the distance between the probability distributions output by the network and the true distribution of the targets.\n",
        "- There are two ways to handle labels in multiclass classification:\n",
        "  * Encoding the labels via categorical encoding (also known as one-hot encoding) and using categorical_crossentropy as a loss function\n",
        "  * Encoding the labels as integers and using the sparse_categorical_crossentropy\n",
        "loss function\n",
        "- If you need to classify data into a large number of categories, you should avoid\n",
        "creating information bottlenecks in your network due to intermediate layers that are too small."
      ]
    },
    {
      "cell_type": "markdown",
      "metadata": {
        "id": "rh-pUURsh7AG",
        "colab_type": "text"
      },
      "source": [
        "# Homework\n",
        "- Try using larger or smaller layers: 32 units, 128 units, and so on.\n",
        "- You used two hidden layers. Now try using a single hidden layer, or three hid-\n",
        "den layers."
      ]
    }
  ]
}