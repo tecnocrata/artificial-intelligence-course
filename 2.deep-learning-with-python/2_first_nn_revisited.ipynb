{
  "nbformat": 4,
  "nbformat_minor": 0,
  "metadata": {
    "colab": {
      "name": "2_first_nn_revisited.ipynb",
      "provenance": [],
      "collapsed_sections": [],
      "authorship_tag": "ABX9TyN49LO5OOsHXqswsu5b+/r2",
      "include_colab_link": true
    },
    "kernelspec": {
      "name": "python3",
      "display_name": "Python 3"
    }
  },
  "cells": [
    {
      "cell_type": "markdown",
      "metadata": {
        "id": "view-in-github",
        "colab_type": "text"
      },
      "source": [
        "<a href=\"https://colab.research.google.com/github/tecnocrata/artificial-intelligence-course/blob/master/2.deep-learning-with-python/2_first_nn_revisited.ipynb\" target=\"_parent\"><img src=\"https://colab.research.google.com/assets/colab-badge.svg\" alt=\"Open In Colab\"/></a>"
      ]
    },
    {
      "cell_type": "code",
      "metadata": {
        "id": "q8PpABpRxz-j",
        "colab_type": "code",
        "colab": {
          "base_uri": "https://localhost:8080/",
          "height": 68
        },
        "outputId": "c8991b14-8c1e-4cf7-cab6-e536461e8a33"
      },
      "source": [
        "# First NN revisited!\n",
        "from keras.datasets import mnist \n",
        "(train_images, train_labels), (test_images, test_labels) = mnist.load_data()\n"
      ],
      "execution_count": 1,
      "outputs": [
        {
          "output_type": "stream",
          "text": [
            "Using TensorFlow backend.\n"
          ],
          "name": "stderr"
        },
        {
          "output_type": "stream",
          "text": [
            "Downloading data from https://s3.amazonaws.com/img-datasets/mnist.npz\n",
            "11493376/11490434 [==============================] - 2s 0us/step\n"
          ],
          "name": "stdout"
        }
      ]
    },
    {
      "cell_type": "code",
      "metadata": {
        "id": "rkEnEve1ysuC",
        "colab_type": "code",
        "colab": {}
      },
      "source": [
        "# Now you understand that the input images are stored in Numpy tensors, \n",
        "# which are here formatted as float32 tensors of shape (60000, 784) (training data) and (10000, 784) (test data), respectively.\n",
        "\n",
        "train_images = train_images.reshape((60000, 28 * 28)) \n",
        "train_images = train_images.astype('float32') / 255\n",
        "test_images = test_images.reshape((10000, 28 * 28)) \n",
        "test_images = test_images.astype('float32') / 255"
      ],
      "execution_count": 2,
      "outputs": []
    },
    {
      "cell_type": "markdown",
      "metadata": {
        "id": "58nG-iRJW2Ls",
        "colab_type": "text"
      },
      "source": [
        "# Using sequential class for defining a model"
      ]
    },
    {
      "cell_type": "code",
      "metadata": {
        "id": "BKmW_xIYyvId",
        "colab_type": "code",
        "colab": {}
      },
      "source": [
        "from keras import models \n",
        "from keras import layers \n",
        "\n",
        "#this network consists of a chain of two Dense layers, that each layer applies \n",
        "# a few simple tensor operations to the input data, and that these operations involve weight tensors.\n",
        "network = models.Sequential()\n",
        "network.add(layers.Dense(512, activation='relu', input_shape=(28 * 28,))) # 512 output units, 28x28=784 input units and undetermined bach dimension (as many samples as we want)\n",
        "network.add(layers.Dense(10, activation='softmax'))                       # 10 output units, 512 input units because is linked to previous layer\n",
        "\n"
      ],
      "execution_count": 4,
      "outputs": []
    },
    {
      "cell_type": "markdown",
      "metadata": {
        "id": "xGGBJmBJW9Rb",
        "colab_type": "text"
      },
      "source": [
        "# Using the Functional API for defining a model"
      ]
    },
    {
      "cell_type": "code",
      "metadata": {
        "id": "gnKa2cZHXB5S",
        "colab_type": "code",
        "colab": {}
      },
      "source": [
        "#input_tensor = layers.Input(shape=(28 * 28,))\n",
        "#x = layers.Dense(512, activation='relu')(input_tensor) \n",
        "#output_tensor = layers.Dense(10, activation='softmax')(x)\n",
        "\n",
        "#model = models.Model(inputs=input_tensor, outputs=output_tensor)"
      ],
      "execution_count": null,
      "outputs": []
    },
    {
      "cell_type": "code",
      "metadata": {
        "id": "zJoV1upMzZJB",
        "colab_type": "code",
        "colab": {}
      },
      "source": [
        "# categorical_crossentropy is the loss function that’s used as a feedback signal \n",
        "# for learning the weight tensors, and which the training phase will attempt to minimize.\n",
        "\n",
        "network.compile(optimizer='rmsprop', loss='categorical_crossentropy',metrics=['accuracy'])\n",
        "\n",
        "# the training loop: the network will start to iterate on the training data in mini-batches of 128 samples, \n",
        "# 5 times over (each iteration over all the training data is called an epoch).\n",
        "# epoch = iteration\n",
        "network.fit(train_images, train_labels, epochs=5, batch_size=128)\n",
        "\n",
        "# After these 5 epochs, the network will have performed 2,345 gradient updates (469 per epoch), \n",
        "# and the loss of the network will be sufficiently low that the network will be capable of classifying handwritten digits with high accuracy.\n"
      ],
      "execution_count": null,
      "outputs": []
    }
  ]
}