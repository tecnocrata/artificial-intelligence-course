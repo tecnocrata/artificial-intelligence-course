{
  "nbformat": 4,
  "nbformat_minor": 0,
  "metadata": {
    "colab": {
      "name": "0-first-nn.ipynb",
      "provenance": [],
      "include_colab_link": true
    },
    "kernelspec": {
      "name": "python3",
      "display_name": "Python 3"
    }
  },
  "cells": [
    {
      "cell_type": "markdown",
      "metadata": {
        "id": "view-in-github",
        "colab_type": "text"
      },
      "source": [
        "<a href=\"https://colab.research.google.com/github/tecnocrata/artificial-intelligence-course/blob/master/2.deep-learning-with-python/1_tensors_operations.ipynb\" target=\"_parent\"><img src=\"https://colab.research.google.com/assets/colab-badge.svg\" alt=\"Open In Colab\"/></a>"
      ]
    },
    {
      "cell_type": "markdown",
      "metadata": {
        "id": "YKW7eDlMT9w_",
        "colab_type": "text"
      },
      "source": [
        "# Tensors"
      ]
    },
    {
      "cell_type": "markdown",
      "metadata": {
        "id": "qGRiQUS7U3ik",
        "colab_type": "text"
      },
      "source": [
        "# Scalar - 0D Tensors"
      ]
    },
    {
      "cell_type": "code",
      "metadata": {
        "id": "vTagNCvCcVss",
        "colab_type": "code",
        "colab": {
          "base_uri": "https://localhost:8080/",
          "height": 85
        },
        "outputId": "77257b23-3bec-4b7d-88ca-6af7eabc7bf0"
      },
      "source": [
        "# 0D Tensors\n",
        "# Un escalar es un tensor  0-dimensional\n",
        "# ndim = muestra el numero de axes/ejes\n",
        "# ndim = 0 es un 0D Tensor\n",
        "# num axes/ejes == rank\n",
        "\n",
        "import numpy as np \n",
        "x = np.array(12) # Un tensor de un solo valor (12)\n",
        "print (x)\n",
        "print ('ndim=', x.ndim)\n",
        "print ('shape=',x.shape)\n",
        "print ('dtype=', x.dtype)"
      ],
      "execution_count": 6,
      "outputs": [
        {
          "output_type": "stream",
          "text": [
            "12\n",
            "ndim= 0\n",
            "shape= ()\n",
            "dtype= int64\n"
          ],
          "name": "stdout"
        }
      ]
    },
    {
      "cell_type": "markdown",
      "metadata": {
        "id": "wVwwozdWU-hI",
        "colab_type": "text"
      },
      "source": [
        "# Vectors - 1D Tensors"
      ]
    },
    {
      "cell_type": "code",
      "metadata": {
        "id": "i5mfK5roU-MY",
        "colab_type": "code",
        "colab": {
          "base_uri": "https://localhost:8080/",
          "height": 85
        },
        "outputId": "e6f56f51-f79e-4d0a-f528-68e7cd9b6c11"
      },
      "source": [
        "# Vector = Array  es un 1D Tensor\n",
        "# Tiene exactamente ndim=1 eje/axis\n",
        "# En este caso en particular el vector es de 4 dimensiones (por sus 4 valores en el eje 1)\n",
        "x = np.array([12, 3, 6, 14]) \n",
        "print (x)\n",
        "print ('ndim=', x.ndim)\n",
        "print ('shape=',x.shape)\n",
        "print ('dtype=', x.dtype)\n"
      ],
      "execution_count": 7,
      "outputs": [
        {
          "output_type": "stream",
          "text": [
            "[12  3  6 14]\n",
            "ndim= 1\n",
            "shape= (4,)\n",
            "dtype= int64\n"
          ],
          "name": "stdout"
        }
      ]
    },
    {
      "cell_type": "markdown",
      "metadata": {
        "id": "goL31UDEWOaz",
        "colab_type": "text"
      },
      "source": [
        "# Matrices - 2D Tensors"
      ]
    },
    {
      "cell_type": "code",
      "metadata": {
        "id": "i_lTMoX7WSBW",
        "colab_type": "code",
        "colab": {
          "base_uri": "https://localhost:8080/",
          "height": 119
        },
        "outputId": "8a10384f-7878-4050-91a1-12fcc8feda00"
      },
      "source": [
        "# Una matriz es un tensor de 2D\n",
        "# Donde ndim = 2\n",
        "x = x = np.array([[5, 78, 2, 34, 0], \n",
        "[6, 79, 3, 35, 1], \n",
        "[7, 80, 4, 36, 2]])\n",
        "print (x)\n",
        "print ('ndim=', x.ndim)\n",
        "print ('shape=',x.shape)\n",
        "print ('dtype=', x.dtype)"
      ],
      "execution_count": 8,
      "outputs": [
        {
          "output_type": "stream",
          "text": [
            "[[ 5 78  2 34  0]\n",
            " [ 6 79  3 35  1]\n",
            " [ 7 80  4 36  2]]\n",
            "ndim= 2\n",
            "shape= (3, 5)\n",
            "dtype= int64\n"
          ],
          "name": "stdout"
        }
      ]
    },
    {
      "cell_type": "markdown",
      "metadata": {
        "id": "YdYKW6undZhP",
        "colab_type": "text"
      },
      "source": [
        "# 3D tensors and higher-dimensional tensors"
      ]
    },
    {
      "cell_type": "code",
      "metadata": {
        "id": "zNtK0VFTWSlM",
        "colab_type": "code",
        "colab": {
          "base_uri": "https://localhost:8080/",
          "height": 255
        },
        "outputId": "fa53b9df-b3a8-493b-cab7-aa4fdd64f18d"
      },
      "source": [
        "x = np.array([[[5, 78, 2, 34, 0], \n",
        "[6, 79, 3, 35, 1], \n",
        "[7, 80, 4, 36, 2]], \n",
        "[[5, 78, 2, 34, 0], \n",
        "[6, 79, 3, 35, 1], \n",
        "[7, 80, 4, 36, 2]], \n",
        "[[5, 78, 2, 34, 0], \n",
        "[6, 79, 3, 35, 1], \n",
        "[7, 80, 4, 36, 2]]])\n",
        "print (x)\n",
        "print ('ndim=', x.ndim)\n",
        "print ('shape=',x.shape)\n",
        "print ('dtype=', x.dtype)\n",
        "\n",
        "# En deep learning se llega a manipular tensores de 0D a 4D, en caso de procesamiento de videos 5D"
      ],
      "execution_count": 9,
      "outputs": [
        {
          "output_type": "stream",
          "text": [
            "[[[ 5 78  2 34  0]\n",
            "  [ 6 79  3 35  1]\n",
            "  [ 7 80  4 36  2]]\n",
            "\n",
            " [[ 5 78  2 34  0]\n",
            "  [ 6 79  3 35  1]\n",
            "  [ 7 80  4 36  2]]\n",
            "\n",
            " [[ 5 78  2 34  0]\n",
            "  [ 6 79  3 35  1]\n",
            "  [ 7 80  4 36  2]]]\n",
            "ndim= 3\n",
            "shape= (3, 3, 5)\n",
            "dtype= int64\n"
          ],
          "name": "stdout"
        }
      ]
    },
    {
      "cell_type": "markdown",
      "metadata": {
        "id": "Oam1NBOEuM-s",
        "colab_type": "text"
      },
      "source": [
        "# Manipulating Tensors in Numpy"
      ]
    },
    {
      "cell_type": "code",
      "metadata": {
        "id": "R8aIPDo1d3Kr",
        "colab_type": "code",
        "colab": {
          "base_uri": "https://localhost:8080/",
          "height": 102
        },
        "outputId": "f1dbe2c7-76b7-4ccc-db5a-bfb5223e35a4"
      },
      "source": [
        "# Import keras && MNIST Data\n",
        "from keras.datasets import mnist \n",
        "# Volvemos a cargar las imagenes & labes de entrenamiento, para resetear los objetos \n",
        "# luego de las modificaciones que hicimos anteriormente\n",
        "(train_images, train_labels), (test_images, test_labels) = mnist.load_data()\n",
        "# Obtiene las imagenes de entrenamiento de la 10 a la 99\n",
        "my_slice = train_images[10:100] \n",
        "print (len (my_slice))\n",
        "print(my_slice.shape)"
      ],
      "execution_count": 10,
      "outputs": [
        {
          "output_type": "stream",
          "text": [
            "Using TensorFlow backend.\n"
          ],
          "name": "stderr"
        },
        {
          "output_type": "stream",
          "text": [
            "Downloading data from https://s3.amazonaws.com/img-datasets/mnist.npz\n",
            "11493376/11490434 [==============================] - 2s 0us/step\n",
            "90\n",
            "(90, 28, 28)\n"
          ],
          "name": "stdout"
        }
      ]
    },
    {
      "cell_type": "code",
      "metadata": {
        "id": "vY4JilwnvDAq",
        "colab_type": "code",
        "colab": {
          "base_uri": "https://localhost:8080/",
          "height": 265
        },
        "outputId": "41f4ba28-4405-4c90-c6c9-8b8fff800654"
      },
      "source": [
        "# Un slice mas agresivo, obtenemos los 14 x 14 pixeles del bottom-right corner of all images\n",
        "my_slice = train_images[:, 14:, 14:]\n",
        "# Graficamos para el primer ejemplo\n",
        "digit = my_slice[0] \n",
        "import matplotlib.pyplot as plt \n",
        "plt.imshow(digit, cmap=plt.cm.binary) \n",
        "plt.show()"
      ],
      "execution_count": 11,
      "outputs": [
        {
          "output_type": "display_data",
          "data": {
            "image/png": "[encoded data removed]",
            "text/plain": [
              "<Figure size 432x288 with 1 Axes>"
            ]
          },
          "metadata": {
            "tags": [],
            "needs_background": "light"
          }
        }
      ]
    },
    {
      "cell_type": "code",
      "metadata": {
        "id": "3tkSinXewbZD",
        "colab_type": "code",
        "colab": {
          "base_uri": "https://localhost:8080/",
          "height": 34
        },
        "outputId": "6c4d14ce-1055-4313-c0c4-7ff64ab85204"
      },
      "source": [
        "# En general el axis =0 corresponde a los ejemplos, tambien llamado \"samples axis\"\n",
        "# Los algoritmos de deep learning no procesan los datos de un solo bloque, los dividen en bloques o batches\n",
        "# Un batch de los primeros 128 ejemplos\n",
        "batch = train_images[:128]\n",
        "print (len (batch))\n",
        "\n",
        "# el siguiente batch de 128\n",
        "batch = train_images[128: 256]\n",
        "\n",
        "# Generalizando... batch = train_images[128 * n:128 * (n + 1)]"
      ],
      "execution_count": 12,
      "outputs": [
        {
          "output_type": "stream",
          "text": [
            "128\n"
          ],
          "name": "stdout"
        }
      ]
    },
    {
      "cell_type": "markdown",
      "metadata": {
        "id": "fJ6OoEIinMAJ",
        "colab_type": "text"
      },
      "source": [
        "# Broadcasting\n",
        "\n",
        "With broadcasting, you can generally apply two-tensor element-wise operations if one tensor has shape(a,b,... n,n+1,... m)and the other has shape(n,n+1,... m). The broadcasting will then automatically happen for axes a through n - 1."
      ]
    },
    {
      "cell_type": "code",
      "metadata": {
        "id": "wCtTtPRCxOtm",
        "colab_type": "code",
        "colab": {
          "base_uri": "https://localhost:8080/",
          "height": 119
        },
        "outputId": "57cb4be8-f464-417d-b054-0144e6d0bc03"
      },
      "source": [
        "x = np.array([[3,5,6],[1,1,1]])\n",
        "y=np.array([2,2,2])\n",
        "z = x + y\n",
        "print ('x.shape = ', x.shape)\n",
        "print ('y.shape = ',y.shape)\n",
        "# The output z has shape (2,3) like x.\n",
        "print ('z.shape = ', z.shape)\n",
        "\n",
        "x = np.random.random((64, 3, 32, 10)) \n",
        "y = np.random.random((32, 10))\n",
        "z = np.maximum(x, y)\n",
        "print ('x.shape = ', x.shape)\n",
        "print ('y.shape = ',y.shape)\n",
        "# The output z has shape (64, 3, 32, 10) like x.\n",
        "print ('z.shape = ', z.shape)\n"
      ],
      "execution_count": 13,
      "outputs": [
        {
          "output_type": "stream",
          "text": [
            "x.shape =  (2, 3)\n",
            "y.shape =  (3,)\n",
            "z.shape =  (2, 3)\n",
            "x.shape =  (64, 3, 32, 10)\n",
            "y.shape =  (32, 10)\n",
            "z.shape =  (64, 3, 32, 10)\n"
          ],
          "name": "stdout"
        }
      ]
    },
    {
      "cell_type": "code",
      "metadata": {
        "id": "To5reta7oTYX",
        "colab_type": "code",
        "colab": {}
      },
      "source": [
        ""
      ],
      "execution_count": 13,
      "outputs": []
    }
  ]
}