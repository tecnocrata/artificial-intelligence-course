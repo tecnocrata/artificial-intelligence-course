{
  "nbformat": 4,
  "nbformat_minor": 0,
  "metadata": {
    "colab": {
      "name": "0-first-nn.ipynb",
      "provenance": [],
      "include_colab_link": true
    },
    "kernelspec": {
      "name": "python3",
      "display_name": "Python 3"
    }
  },
  "cells": [
    {
      "cell_type": "markdown",
      "metadata": {
        "id": "view-in-github",
        "colab_type": "text"
      },
      "source": [
        "<a href=\"https://colab.research.google.com/github/tecnocrata/artificial-intelligence-course/blob/master/2.deep-learning-with-python/1_tensors_operations.ipynb\" target=\"_parent\"><img src=\"https://colab.research.google.com/assets/colab-badge.svg\" alt=\"Open In Colab\"/></a>"
      ]
    },
    {
      "cell_type": "markdown",
      "metadata": {
        "id": "YKW7eDlMT9w_",
        "colab_type": "text"
      },
      "source": [
        "# Tensors"
      ]
    },
    {
      "cell_type": "markdown",
      "metadata": {
        "id": "qGRiQUS7U3ik",
        "colab_type": "text"
      },
      "source": [
        "# Scalar - 0D Tensors"
      ]
    },
    {
      "cell_type": "code",
      "metadata": {
        "id": "vTagNCvCcVss",
        "colab_type": "code",
        "colab": {
          "base_uri": "https://localhost:8080/",
          "height": 85
        },
        "outputId": "9a5ca122-40c6-421f-ea7b-5f41069f5c20"
      },
      "source": [
        "# 0D Tensors\n",
        "# Un escalar es un tensor  0-dimensional\n",
        "# ndim = muestra el numero de axes/ejes\n",
        "# ndim = 0 es un 0D Tensor\n",
        "# num axes/ejes == rank\n",
        "\n",
        "import numpy as np \n",
        "x = np.array(12) # Un tensor de un solo valor (12)\n",
        "print (x)\n",
        "print ('ndim=', x.ndim)\n",
        "print ('shape=',x.shape)\n",
        "print ('dtype=', x.dtype)"
      ],
      "execution_count": 1,
      "outputs": [
        {
          "output_type": "stream",
          "text": [
            "12\n",
            "ndim= 0\n",
            "shape= ()\n",
            "dtype= int64\n"
          ],
          "name": "stdout"
        }
      ]
    },
    {
      "cell_type": "markdown",
      "metadata": {
        "id": "wVwwozdWU-hI",
        "colab_type": "text"
      },
      "source": [
        "# Vectors - 1D Tensors"
      ]
    },
    {
      "cell_type": "code",
      "metadata": {
        "id": "i5mfK5roU-MY",
        "colab_type": "code",
        "colab": {
          "base_uri": "https://localhost:8080/",
          "height": 85
        },
        "outputId": "30ebf69a-7c3b-43e5-9f5b-8eb07d6d61dc"
      },
      "source": [
        "# Vector = Array  es un 1D Tensor\n",
        "# Tiene exactamente ndim=1 eje/axis\n",
        "# En este caso en particular el vector es de 4 dimensiones (por sus 4 valores en el eje 1)\n",
        "x = np.array([12, 3, 6, 14]) \n",
        "print (x)\n",
        "print ('ndim=', x.ndim)\n",
        "print ('shape=',x.shape)\n",
        "print ('dtype=', x.dtype)\n"
      ],
      "execution_count": 2,
      "outputs": [
        {
          "output_type": "stream",
          "text": [
            "[12  3  6 14]\n",
            "ndim= 1\n",
            "shape= (4,)\n",
            "dtype= int64\n"
          ],
          "name": "stdout"
        }
      ]
    },
    {
      "cell_type": "markdown",
      "metadata": {
        "id": "goL31UDEWOaz",
        "colab_type": "text"
      },
      "source": [
        "# Matrices - 2D Tensors"
      ]
    },
    {
      "cell_type": "code",
      "metadata": {
        "id": "i_lTMoX7WSBW",
        "colab_type": "code",
        "colab": {
          "base_uri": "https://localhost:8080/",
          "height": 119
        },
        "outputId": "96e1d8f3-21e2-454e-818b-862d96f5ddf0"
      },
      "source": [
        "# Una matriz es un tensor de 2D\n",
        "# Donde ndim = 2\n",
        "x = x = np.array([[5, 78, 2, 34, 0], \n",
        "[6, 79, 3, 35, 1], \n",
        "[7, 80, 4, 36, 2]])\n",
        "print (x)\n",
        "print ('ndim=', x.ndim)\n",
        "print ('shape=',x.shape)\n",
        "print ('dtype=', x.dtype)"
      ],
      "execution_count": 3,
      "outputs": [
        {
          "output_type": "stream",
          "text": [
            "[[ 5 78  2 34  0]\n",
            " [ 6 79  3 35  1]\n",
            " [ 7 80  4 36  2]]\n",
            "ndim= 2\n",
            "shape= (3, 5)\n",
            "dtype= int64\n"
          ],
          "name": "stdout"
        }
      ]
    },
    {
      "cell_type": "markdown",
      "metadata": {
        "id": "YdYKW6undZhP",
        "colab_type": "text"
      },
      "source": [
        "# 3D tensors and higher-dimensional tensors"
      ]
    },
    {
      "cell_type": "code",
      "metadata": {
        "id": "zNtK0VFTWSlM",
        "colab_type": "code",
        "colab": {
          "base_uri": "https://localhost:8080/",
          "height": 255
        },
        "outputId": "fd578b01-f52d-4db6-e013-72b796367eb9"
      },
      "source": [
        "x = np.array([[[5, 78, 2, 34, 0], \n",
        "[6, 79, 3, 35, 1], \n",
        "[7, 80, 4, 36, 2]], \n",
        "[[5, 78, 2, 34, 0], \n",
        "[6, 79, 3, 35, 1], \n",
        "[7, 80, 4, 36, 2]], \n",
        "[[5, 78, 2, 34, 0], \n",
        "[6, 79, 3, 35, 1], \n",
        "[7, 80, 4, 36, 2]]])\n",
        "print (x)\n",
        "print ('ndim=', x.ndim)\n",
        "print ('shape=',x.shape)\n",
        "print ('dtype=', x.dtype)\n",
        "\n",
        "# En deep learning se llega a manipular tensores de 0D a 4D, en caso de procesamiento de videos 5D"
      ],
      "execution_count": 4,
      "outputs": [
        {
          "output_type": "stream",
          "text": [
            "[[[ 5 78  2 34  0]\n",
            "  [ 6 79  3 35  1]\n",
            "  [ 7 80  4 36  2]]\n",
            "\n",
            " [[ 5 78  2 34  0]\n",
            "  [ 6 79  3 35  1]\n",
            "  [ 7 80  4 36  2]]\n",
            "\n",
            " [[ 5 78  2 34  0]\n",
            "  [ 6 79  3 35  1]\n",
            "  [ 7 80  4 36  2]]]\n",
            "ndim= 3\n",
            "shape= (3, 3, 5)\n",
            "dtype= int64\n"
          ],
          "name": "stdout"
        }
      ]
    },
    {
      "cell_type": "markdown",
      "metadata": {
        "id": "Oam1NBOEuM-s",
        "colab_type": "text"
      },
      "source": [
        "# Manipulating Tensors in Numpy"
      ]
    },
    {
      "cell_type": "code",
      "metadata": {
        "id": "R8aIPDo1d3Kr",
        "colab_type": "code",
        "colab": {
          "base_uri": "https://localhost:8080/",
          "height": 102
        },
        "outputId": "2532a896-49e6-4cf1-bbc8-399323028314"
      },
      "source": [
        "# Import keras && MNIST Data\n",
        "from keras.datasets import mnist \n",
        "# Volvemos a cargar las imagenes & labes de entrenamiento, para resetear los objetos \n",
        "# luego de las modificaciones que hicimos anteriormente\n",
        "(train_images, train_labels), (test_images, test_labels) = mnist.load_data()\n",
        "# Obtiene las imagenes de entrenamiento de la 10 a la 99\n",
        "my_slice = train_images[10:100] \n",
        "print (len (my_slice))\n",
        "print(my_slice.shape)"
      ],
      "execution_count": 5,
      "outputs": [
        {
          "output_type": "stream",
          "text": [
            "Using TensorFlow backend.\n"
          ],
          "name": "stderr"
        },
        {
          "output_type": "stream",
          "text": [
            "Downloading data from https://s3.amazonaws.com/img-datasets/mnist.npz\n",
            "11493376/11490434 [==============================] - 1s 0us/step\n",
            "90\n",
            "(90, 28, 28)\n"
          ],
          "name": "stdout"
        }
      ]
    },
    {
      "cell_type": "code",
      "metadata": {
        "id": "vY4JilwnvDAq",
        "colab_type": "code",
        "colab": {
          "base_uri": "https://localhost:8080/",
          "height": 265
        },
        "outputId": "4825acfc-ff9f-4d4e-fe04-2daab6050616"
      },
      "source": [
        "# Un slice mas agresivo, obtenemos los 14 x 14 pixeles del bottom-right corner of all images\n",
        "my_slice = train_images[:, 14:, 14:]\n",
        "# Graficamos para el primer ejemplo\n",
        "digit = my_slice[0] \n",
        "import matplotlib.pyplot as plt \n",
        "plt.imshow(digit, cmap=plt.cm.binary) \n",
        "plt.show()"
      ],
      "execution_count": 6,
      "outputs": [
        {
          "output_type": "display_data",
          "data": {
            "image/png": "[encoded data removed]",
            "text/plain": [
              "<Figure size 432x288 with 1 Axes>"
            ]
          },
          "metadata": {
            "tags": [],
            "needs_background": "light"
          }
        }
      ]
    },
    {
      "cell_type": "code",
      "metadata": {
        "id": "3tkSinXewbZD",
        "colab_type": "code",
        "colab": {
          "base_uri": "https://localhost:8080/",
          "height": 34
        },
        "outputId": "7121c881-21fe-4822-afae-794e55fce604"
      },
      "source": [
        "# En general el axis =0 corresponde a los ejemplos, tambien llamado \"samples axis\"\n",
        "# Los algoritmos de deep learning no procesan los datos de un solo bloque, los dividen en bloques o batches\n",
        "# Un batch de los primeros 128 ejemplos\n",
        "batch = train_images[:128]\n",
        "print (len (batch))\n",
        "\n",
        "# el siguiente batch de 128\n",
        "batch = train_images[128: 256]\n",
        "\n",
        "# Generalizando... batch = train_images[128 * n:128 * (n + 1)]"
      ],
      "execution_count": 7,
      "outputs": [
        {
          "output_type": "stream",
          "text": [
            "128\n"
          ],
          "name": "stdout"
        }
      ]
    },
    {
      "cell_type": "markdown",
      "metadata": {
        "id": "fJ6OoEIinMAJ",
        "colab_type": "text"
      },
      "source": [
        "# Broadcasting\n",
        "\n",
        "With broadcasting, you can generally apply two-tensor element-wise operations if one tensor has shape(a,b,... n,n+1,... m)and the other has shape(n,n+1,... m). The broadcasting will then automatically happen for axes a through n - 1."
      ]
    },
    {
      "cell_type": "code",
      "metadata": {
        "id": "wCtTtPRCxOtm",
        "colab_type": "code",
        "colab": {
          "base_uri": "https://localhost:8080/",
          "height": 119
        },
        "outputId": "c05bb538-5de0-4057-97d4-1a13d12a688a"
      },
      "source": [
        "x = np.array([[3,5,6],[1,1,1]])\n",
        "y=np.array([2,2,2])\n",
        "z = x + y\n",
        "print ('x.shape = ', x.shape)\n",
        "print ('y.shape = ',y.shape)\n",
        "# The output z has shape (2,3) like x.\n",
        "print ('z.shape = ', z.shape)\n",
        "\n",
        "x = np.random.random((64, 3, 32, 10)) \n",
        "y = np.random.random((32, 10))\n",
        "z = np.maximum(x, y)\n",
        "print ('x.shape = ', x.shape)\n",
        "print ('y.shape = ',y.shape)\n",
        "# The output z has shape (64, 3, 32, 10) like x.\n",
        "print ('z.shape = ', z.shape)\n"
      ],
      "execution_count": 8,
      "outputs": [
        {
          "output_type": "stream",
          "text": [
            "x.shape =  (2, 3)\n",
            "y.shape =  (3,)\n",
            "z.shape =  (2, 3)\n",
            "x.shape =  (64, 3, 32, 10)\n",
            "y.shape =  (32, 10)\n",
            "z.shape =  (64, 3, 32, 10)\n"
          ],
          "name": "stdout"
        }
      ]
    },
    {
      "cell_type": "markdown",
      "metadata": {
        "id": "AufAmQS55D7O",
        "colab_type": "text"
      },
      "source": [
        "# Tensor Dot\n",
        "Esta es la multiplicacion de matrices que conocemos"
      ]
    },
    {
      "cell_type": "code",
      "metadata": {
        "id": "To5reta7oTYX",
        "colab_type": "code",
        "colab": {
          "base_uri": "https://localhost:8080/",
          "height": 51
        },
        "outputId": "62b5341b-4e08-40ff-d98a-2e3dde3c936c"
      },
      "source": [
        "# El producto entre dos escalares es un escalar\n",
        "print (np.dot(3, 4))\n",
        "# El producto entre dos vectores es un escalar\n",
        "print (np.dot([2, 3], [2, 3]))\n",
        "# Aqui la implementacion \n",
        "def naive_matrix_dot(x, y):\n",
        "  assert len(x.shape) == 2\n",
        "  assert len(y.shape) == 2\n",
        "  assert x.shape[1] == y.shape[0]\n",
        "  z = np.zeros((x.shape[0], y.shape[1])) \n",
        "  for i in range(x.shape[0]):\n",
        "    for j in range(y.shape[1]):\n",
        "      row_x = x[i, :]\n",
        "      column_y = y[:, j]\n",
        "      z[i, j] = naive_vector_dot(row_x, column_y)\n",
        "  return z\n",
        "print"
      ],
      "execution_count": 15,
      "outputs": [
        {
          "output_type": "stream",
          "text": [
            "12\n",
            "13\n"
          ],
          "name": "stdout"
        }
      ]
    },
    {
      "cell_type": "code",
      "metadata": {
        "id": "U2A0rBtg7I8l",
        "colab_type": "code",
        "colab": {}
      },
      "source": [
        ""
      ],
      "execution_count": null,
      "outputs": []
    }
  ]
}